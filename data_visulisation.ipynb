{
 "cells": [
  {
   "attachments": {},
   "cell_type": "markdown",
   "id": "84dd34b6",
   "metadata": {},
   "source": [
    "# Roll No:- 03\n",
    "\n",
    "Name :- monik dudhat\n",
    "    \n",
    "Class :- Data Science\n",
    "    \n",
    "Subject :- Data Visualization\n",
    "\n"
   ]
  },
  {
   "cell_type": "code",
   "execution_count": 2,
   "id": "6ef388e5",
   "metadata": {},
   "outputs": [],
   "source": [
    "import plotly.express as px\n",
    "import plotly.graph_objects as go\n",
    "import numpy as np\n",
    "import pandas as pd"
   ]
  },
  {
   "cell_type": "code",
   "execution_count": 3,
   "id": "c0653a48",
   "metadata": {},
   "outputs": [],
   "source": [
    "data=pd.read_csv(r'C:\\Users\\admin\\Desktop\\bond_girls.csv')"
   ]
  },
  {
   "cell_type": "code",
   "execution_count": 4,
   "id": "2cc0b78a",
   "metadata": {
    "scrolled": false
   },
   "outputs": [
    {
     "data": {
      "text/html": [
       "<div>\n",
       "<style scoped>\n",
       "    .dataframe tbody tr th:only-of-type {\n",
       "        vertical-align: middle;\n",
       "    }\n",
       "\n",
       "    .dataframe tbody tr th {\n",
       "        vertical-align: top;\n",
       "    }\n",
       "\n",
       "    .dataframe thead th {\n",
       "        text-align: right;\n",
       "    }\n",
       "</style>\n",
       "<table border=\"1\" class=\"dataframe\">\n",
       "  <thead>\n",
       "    <tr style=\"text-align: right;\">\n",
       "      <th></th>\n",
       "      <th>bond_girl_name</th>\n",
       "      <th>actress_age</th>\n",
       "      <th>film_title</th>\n",
       "      <th>film_release_year</th>\n",
       "      <th>bond_actor</th>\n",
       "      <th>bond_actor_age</th>\n",
       "      <th>director_name</th>\n",
       "      <th>box_office_actual_$</th>\n",
       "      <th>box_office_adjusted_2005_$</th>\n",
       "      <th>budget_actual_$</th>\n",
       "      <th>budget_adjusted_2005_$</th>\n",
       "    </tr>\n",
       "  </thead>\n",
       "  <tbody>\n",
       "    <tr>\n",
       "      <th>0</th>\n",
       "      <td>Ursula Andress</td>\n",
       "      <td>26</td>\n",
       "      <td>Dr. No</td>\n",
       "      <td>1962</td>\n",
       "      <td>Sean Connery</td>\n",
       "      <td>32</td>\n",
       "      <td>Terence Young</td>\n",
       "      <td>59.5</td>\n",
       "      <td>448.8</td>\n",
       "      <td>1.1</td>\n",
       "      <td>7.0</td>\n",
       "    </tr>\n",
       "    <tr>\n",
       "      <th>1</th>\n",
       "      <td>Zena Marshall</td>\n",
       "      <td>36</td>\n",
       "      <td>Dr. No</td>\n",
       "      <td>1962</td>\n",
       "      <td>Sean Connery</td>\n",
       "      <td>32</td>\n",
       "      <td>Terence Young</td>\n",
       "      <td>59.5</td>\n",
       "      <td>448.8</td>\n",
       "      <td>1.1</td>\n",
       "      <td>7.0</td>\n",
       "    </tr>\n",
       "    <tr>\n",
       "      <th>2</th>\n",
       "      <td>Eunice Gayson</td>\n",
       "      <td>35</td>\n",
       "      <td>From Russia with Love</td>\n",
       "      <td>1963</td>\n",
       "      <td>Sean Connery</td>\n",
       "      <td>33</td>\n",
       "      <td>Terence Young</td>\n",
       "      <td>78.9</td>\n",
       "      <td>543.8</td>\n",
       "      <td>2.0</td>\n",
       "      <td>12.6</td>\n",
       "    </tr>\n",
       "    <tr>\n",
       "      <th>3</th>\n",
       "      <td>Daniela Bianchi</td>\n",
       "      <td>21</td>\n",
       "      <td>From Russia with Love</td>\n",
       "      <td>1963</td>\n",
       "      <td>Sean Connery</td>\n",
       "      <td>33</td>\n",
       "      <td>Terence Young</td>\n",
       "      <td>78.9</td>\n",
       "      <td>543.8</td>\n",
       "      <td>2.0</td>\n",
       "      <td>12.6</td>\n",
       "    </tr>\n",
       "    <tr>\n",
       "      <th>4</th>\n",
       "      <td>Martine Beswick</td>\n",
       "      <td>24</td>\n",
       "      <td>Thunderball</td>\n",
       "      <td>1965</td>\n",
       "      <td>Sean Connery</td>\n",
       "      <td>35</td>\n",
       "      <td>Terence Young</td>\n",
       "      <td>141.2</td>\n",
       "      <td>848.1</td>\n",
       "      <td>6.8</td>\n",
       "      <td>41.9</td>\n",
       "    </tr>\n",
       "  </tbody>\n",
       "</table>\n",
       "</div>"
      ],
      "text/plain": [
       "    bond_girl_name  actress_age             film_title  film_release_year  \\\n",
       "0   Ursula Andress           26                 Dr. No               1962   \n",
       "1    Zena Marshall           36                 Dr. No               1962   \n",
       "2    Eunice Gayson           35  From Russia with Love               1963   \n",
       "3  Daniela Bianchi           21  From Russia with Love               1963   \n",
       "4  Martine Beswick           24            Thunderball               1965   \n",
       "\n",
       "     bond_actor  bond_actor_age  director_name  box_office_actual_$  \\\n",
       "0  Sean Connery              32  Terence Young                 59.5   \n",
       "1  Sean Connery              32  Terence Young                 59.5   \n",
       "2  Sean Connery              33  Terence Young                 78.9   \n",
       "3  Sean Connery              33  Terence Young                 78.9   \n",
       "4  Sean Connery              35  Terence Young                141.2   \n",
       "\n",
       "   box_office_adjusted_2005_$ budget_actual_$ budget_adjusted_2005_$  \n",
       "0                       448.8             1.1                    7.0  \n",
       "1                       448.8             1.1                    7.0  \n",
       "2                       543.8             2.0                   12.6  \n",
       "3                       543.8             2.0                   12.6  \n",
       "4                       848.1             6.8                   41.9  "
      ]
     },
     "execution_count": 4,
     "metadata": {},
     "output_type": "execute_result"
    }
   ],
   "source": [
    "data.head()"
   ]
  },
  {
   "cell_type": "markdown",
   "id": "ee685178",
   "metadata": {},
   "source": [
    "# Line Chart"
   ]
  },
  {
   "cell_type": "code",
   "execution_count": 5,
   "id": "06846a8b",
   "metadata": {
    "scrolled": true
   },
   "outputs": [
    {
     "data": {
      "application/vnd.plotly.v1+json": {
       "config": {
        "plotlyServerURL": "https://plot.ly"
       },
       "data": [
        {
         "hovertemplate": "film_release_year=%{x}<br>box_office_adjusted_2005_$=%{y}<extra></extra>",
         "legendgroup": "",
         "line": {
          "color": "#636efa",
          "dash": "solid"
         },
         "marker": {
          "symbol": "circle"
         },
         "mode": "lines",
         "name": "",
         "orientation": "v",
         "showlegend": false,
         "type": "scatter",
         "x": [
          1962,
          1962,
          1963,
          1963,
          1965,
          1963,
          1964,
          1964,
          1964,
          1964,
          1964,
          1965,
          1965,
          1965,
          1965,
          1967,
          1967,
          1967,
          1967,
          1969,
          1969,
          1969,
          1971,
          1971,
          1971,
          1971,
          1973,
          1973,
          1973,
          1974,
          1983,
          1974,
          1977,
          1977,
          1977,
          1979,
          1979,
          1979,
          1981,
          1981,
          1981,
          1983,
          1985,
          1985,
          1985,
          1987,
          1989,
          1989,
          1995,
          1995,
          1995,
          1997,
          1997,
          1997,
          1999,
          1999,
          1999,
          2002,
          2002,
          2002,
          2006,
          2006,
          2008,
          2008,
          2012,
          2012,
          2015,
          2015,
          2021,
          2021,
          2021
         ],
         "xaxis": "x",
         "y": [
          448.8,
          448.8,
          543.8,
          543.8,
          848.1,
          543.8,
          820.4,
          820.4,
          820.4,
          820.4,
          820.4,
          848.1,
          848.1,
          848.1,
          848.1,
          514.2,
          514.2,
          514.2,
          514.2,
          291.5,
          291.5,
          291.5,
          442.5,
          442.5,
          442.5,
          442.5,
          460.3,
          460.3,
          460.3,
          334,
          373.8,
          334,
          533,
          533,
          533,
          535,
          535,
          535,
          449.4,
          449.4,
          449.4,
          373.8,
          275.2,
          275.2,
          275.2,
          313.5,
          250.9,
          250.9,
          518.5,
          518.5,
          518.5,
          463.2,
          463.2,
          463.2,
          439.5,
          439.5,
          439.5,
          465.4,
          465.4,
          465.4,
          589.4,
          589.4,
          514.2,
          514.2,
          943.5,
          943.5,
          725.5,
          725.5,
          396.8,
          396.8,
          396.8
         ],
         "yaxis": "y"
        }
       ],
       "layout": {
        "legend": {
         "tracegroupgap": 0
        },
        "margin": {
         "t": 60
        },
        "template": {
         "data": {
          "bar": [
           {
            "error_x": {
             "color": "#2a3f5f"
            },
            "error_y": {
             "color": "#2a3f5f"
            },
            "marker": {
             "line": {
              "color": "#E5ECF6",
              "width": 0.5
             },
             "pattern": {
              "fillmode": "overlay",
              "size": 10,
              "solidity": 0.2
             }
            },
            "type": "bar"
           }
          ],
          "barpolar": [
           {
            "marker": {
             "line": {
              "color": "#E5ECF6",
              "width": 0.5
             },
             "pattern": {
              "fillmode": "overlay",
              "size": 10,
              "solidity": 0.2
             }
            },
            "type": "barpolar"
           }
          ],
          "carpet": [
           {
            "aaxis": {
             "endlinecolor": "#2a3f5f",
             "gridcolor": "white",
             "linecolor": "white",
             "minorgridcolor": "white",
             "startlinecolor": "#2a3f5f"
            },
            "baxis": {
             "endlinecolor": "#2a3f5f",
             "gridcolor": "white",
             "linecolor": "white",
             "minorgridcolor": "white",
             "startlinecolor": "#2a3f5f"
            },
            "type": "carpet"
           }
          ],
          "choropleth": [
           {
            "colorbar": {
             "outlinewidth": 0,
             "ticks": ""
            },
            "type": "choropleth"
           }
          ],
          "contour": [
           {
            "colorbar": {
             "outlinewidth": 0,
             "ticks": ""
            },
            "colorscale": [
             [
              0,
              "#0d0887"
             ],
             [
              0.1111111111111111,
              "#46039f"
             ],
             [
              0.2222222222222222,
              "#7201a8"
             ],
             [
              0.3333333333333333,
              "#9c179e"
             ],
             [
              0.4444444444444444,
              "#bd3786"
             ],
             [
              0.5555555555555556,
              "#d8576b"
             ],
             [
              0.6666666666666666,
              "#ed7953"
             ],
             [
              0.7777777777777778,
              "#fb9f3a"
             ],
             [
              0.8888888888888888,
              "#fdca26"
             ],
             [
              1,
              "#f0f921"
             ]
            ],
            "type": "contour"
           }
          ],
          "contourcarpet": [
           {
            "colorbar": {
             "outlinewidth": 0,
             "ticks": ""
            },
            "type": "contourcarpet"
           }
          ],
          "heatmap": [
           {
            "colorbar": {
             "outlinewidth": 0,
             "ticks": ""
            },
            "colorscale": [
             [
              0,
              "#0d0887"
             ],
             [
              0.1111111111111111,
              "#46039f"
             ],
             [
              0.2222222222222222,
              "#7201a8"
             ],
             [
              0.3333333333333333,
              "#9c179e"
             ],
             [
              0.4444444444444444,
              "#bd3786"
             ],
             [
              0.5555555555555556,
              "#d8576b"
             ],
             [
              0.6666666666666666,
              "#ed7953"
             ],
             [
              0.7777777777777778,
              "#fb9f3a"
             ],
             [
              0.8888888888888888,
              "#fdca26"
             ],
             [
              1,
              "#f0f921"
             ]
            ],
            "type": "heatmap"
           }
          ],
          "heatmapgl": [
           {
            "colorbar": {
             "outlinewidth": 0,
             "ticks": ""
            },
            "colorscale": [
             [
              0,
              "#0d0887"
             ],
             [
              0.1111111111111111,
              "#46039f"
             ],
             [
              0.2222222222222222,
              "#7201a8"
             ],
             [
              0.3333333333333333,
              "#9c179e"
             ],
             [
              0.4444444444444444,
              "#bd3786"
             ],
             [
              0.5555555555555556,
              "#d8576b"
             ],
             [
              0.6666666666666666,
              "#ed7953"
             ],
             [
              0.7777777777777778,
              "#fb9f3a"
             ],
             [
              0.8888888888888888,
              "#fdca26"
             ],
             [
              1,
              "#f0f921"
             ]
            ],
            "type": "heatmapgl"
           }
          ],
          "histogram": [
           {
            "marker": {
             "pattern": {
              "fillmode": "overlay",
              "size": 10,
              "solidity": 0.2
             }
            },
            "type": "histogram"
           }
          ],
          "histogram2d": [
           {
            "colorbar": {
             "outlinewidth": 0,
             "ticks": ""
            },
            "colorscale": [
             [
              0,
              "#0d0887"
             ],
             [
              0.1111111111111111,
              "#46039f"
             ],
             [
              0.2222222222222222,
              "#7201a8"
             ],
             [
              0.3333333333333333,
              "#9c179e"
             ],
             [
              0.4444444444444444,
              "#bd3786"
             ],
             [
              0.5555555555555556,
              "#d8576b"
             ],
             [
              0.6666666666666666,
              "#ed7953"
             ],
             [
              0.7777777777777778,
              "#fb9f3a"
             ],
             [
              0.8888888888888888,
              "#fdca26"
             ],
             [
              1,
              "#f0f921"
             ]
            ],
            "type": "histogram2d"
           }
          ],
          "histogram2dcontour": [
           {
            "colorbar": {
             "outlinewidth": 0,
             "ticks": ""
            },
            "colorscale": [
             [
              0,
              "#0d0887"
             ],
             [
              0.1111111111111111,
              "#46039f"
             ],
             [
              0.2222222222222222,
              "#7201a8"
             ],
             [
              0.3333333333333333,
              "#9c179e"
             ],
             [
              0.4444444444444444,
              "#bd3786"
             ],
             [
              0.5555555555555556,
              "#d8576b"
             ],
             [
              0.6666666666666666,
              "#ed7953"
             ],
             [
              0.7777777777777778,
              "#fb9f3a"
             ],
             [
              0.8888888888888888,
              "#fdca26"
             ],
             [
              1,
              "#f0f921"
             ]
            ],
            "type": "histogram2dcontour"
           }
          ],
          "mesh3d": [
           {
            "colorbar": {
             "outlinewidth": 0,
             "ticks": ""
            },
            "type": "mesh3d"
           }
          ],
          "parcoords": [
           {
            "line": {
             "colorbar": {
              "outlinewidth": 0,
              "ticks": ""
             }
            },
            "type": "parcoords"
           }
          ],
          "pie": [
           {
            "automargin": true,
            "type": "pie"
           }
          ],
          "scatter": [
           {
            "fillpattern": {
             "fillmode": "overlay",
             "size": 10,
             "solidity": 0.2
            },
            "type": "scatter"
           }
          ],
          "scatter3d": [
           {
            "line": {
             "colorbar": {
              "outlinewidth": 0,
              "ticks": ""
             }
            },
            "marker": {
             "colorbar": {
              "outlinewidth": 0,
              "ticks": ""
             }
            },
            "type": "scatter3d"
           }
          ],
          "scattercarpet": [
           {
            "marker": {
             "colorbar": {
              "outlinewidth": 0,
              "ticks": ""
             }
            },
            "type": "scattercarpet"
           }
          ],
          "scattergeo": [
           {
            "marker": {
             "colorbar": {
              "outlinewidth": 0,
              "ticks": ""
             }
            },
            "type": "scattergeo"
           }
          ],
          "scattergl": [
           {
            "marker": {
             "colorbar": {
              "outlinewidth": 0,
              "ticks": ""
             }
            },
            "type": "scattergl"
           }
          ],
          "scattermapbox": [
           {
            "marker": {
             "colorbar": {
              "outlinewidth": 0,
              "ticks": ""
             }
            },
            "type": "scattermapbox"
           }
          ],
          "scatterpolar": [
           {
            "marker": {
             "colorbar": {
              "outlinewidth": 0,
              "ticks": ""
             }
            },
            "type": "scatterpolar"
           }
          ],
          "scatterpolargl": [
           {
            "marker": {
             "colorbar": {
              "outlinewidth": 0,
              "ticks": ""
             }
            },
            "type": "scatterpolargl"
           }
          ],
          "scatterternary": [
           {
            "marker": {
             "colorbar": {
              "outlinewidth": 0,
              "ticks": ""
             }
            },
            "type": "scatterternary"
           }
          ],
          "surface": [
           {
            "colorbar": {
             "outlinewidth": 0,
             "ticks": ""
            },
            "colorscale": [
             [
              0,
              "#0d0887"
             ],
             [
              0.1111111111111111,
              "#46039f"
             ],
             [
              0.2222222222222222,
              "#7201a8"
             ],
             [
              0.3333333333333333,
              "#9c179e"
             ],
             [
              0.4444444444444444,
              "#bd3786"
             ],
             [
              0.5555555555555556,
              "#d8576b"
             ],
             [
              0.6666666666666666,
              "#ed7953"
             ],
             [
              0.7777777777777778,
              "#fb9f3a"
             ],
             [
              0.8888888888888888,
              "#fdca26"
             ],
             [
              1,
              "#f0f921"
             ]
            ],
            "type": "surface"
           }
          ],
          "table": [
           {
            "cells": {
             "fill": {
              "color": "#EBF0F8"
             },
             "line": {
              "color": "white"
             }
            },
            "header": {
             "fill": {
              "color": "#C8D4E3"
             },
             "line": {
              "color": "white"
             }
            },
            "type": "table"
           }
          ]
         },
         "layout": {
          "annotationdefaults": {
           "arrowcolor": "#2a3f5f",
           "arrowhead": 0,
           "arrowwidth": 1
          },
          "autotypenumbers": "strict",
          "coloraxis": {
           "colorbar": {
            "outlinewidth": 0,
            "ticks": ""
           }
          },
          "colorscale": {
           "diverging": [
            [
             0,
             "#8e0152"
            ],
            [
             0.1,
             "#c51b7d"
            ],
            [
             0.2,
             "#de77ae"
            ],
            [
             0.3,
             "#f1b6da"
            ],
            [
             0.4,
             "#fde0ef"
            ],
            [
             0.5,
             "#f7f7f7"
            ],
            [
             0.6,
             "#e6f5d0"
            ],
            [
             0.7,
             "#b8e186"
            ],
            [
             0.8,
             "#7fbc41"
            ],
            [
             0.9,
             "#4d9221"
            ],
            [
             1,
             "#276419"
            ]
           ],
           "sequential": [
            [
             0,
             "#0d0887"
            ],
            [
             0.1111111111111111,
             "#46039f"
            ],
            [
             0.2222222222222222,
             "#7201a8"
            ],
            [
             0.3333333333333333,
             "#9c179e"
            ],
            [
             0.4444444444444444,
             "#bd3786"
            ],
            [
             0.5555555555555556,
             "#d8576b"
            ],
            [
             0.6666666666666666,
             "#ed7953"
            ],
            [
             0.7777777777777778,
             "#fb9f3a"
            ],
            [
             0.8888888888888888,
             "#fdca26"
            ],
            [
             1,
             "#f0f921"
            ]
           ],
           "sequentialminus": [
            [
             0,
             "#0d0887"
            ],
            [
             0.1111111111111111,
             "#46039f"
            ],
            [
             0.2222222222222222,
             "#7201a8"
            ],
            [
             0.3333333333333333,
             "#9c179e"
            ],
            [
             0.4444444444444444,
             "#bd3786"
            ],
            [
             0.5555555555555556,
             "#d8576b"
            ],
            [
             0.6666666666666666,
             "#ed7953"
            ],
            [
             0.7777777777777778,
             "#fb9f3a"
            ],
            [
             0.8888888888888888,
             "#fdca26"
            ],
            [
             1,
             "#f0f921"
            ]
           ]
          },
          "colorway": [
           "#636efa",
           "#EF553B",
           "#00cc96",
           "#ab63fa",
           "#FFA15A",
           "#19d3f3",
           "#FF6692",
           "#B6E880",
           "#FF97FF",
           "#FECB52"
          ],
          "font": {
           "color": "#2a3f5f"
          },
          "geo": {
           "bgcolor": "white",
           "lakecolor": "white",
           "landcolor": "#E5ECF6",
           "showlakes": true,
           "showland": true,
           "subunitcolor": "white"
          },
          "hoverlabel": {
           "align": "left"
          },
          "hovermode": "closest",
          "mapbox": {
           "style": "light"
          },
          "paper_bgcolor": "white",
          "plot_bgcolor": "#E5ECF6",
          "polar": {
           "angularaxis": {
            "gridcolor": "white",
            "linecolor": "white",
            "ticks": ""
           },
           "bgcolor": "#E5ECF6",
           "radialaxis": {
            "gridcolor": "white",
            "linecolor": "white",
            "ticks": ""
           }
          },
          "scene": {
           "xaxis": {
            "backgroundcolor": "#E5ECF6",
            "gridcolor": "white",
            "gridwidth": 2,
            "linecolor": "white",
            "showbackground": true,
            "ticks": "",
            "zerolinecolor": "white"
           },
           "yaxis": {
            "backgroundcolor": "#E5ECF6",
            "gridcolor": "white",
            "gridwidth": 2,
            "linecolor": "white",
            "showbackground": true,
            "ticks": "",
            "zerolinecolor": "white"
           },
           "zaxis": {
            "backgroundcolor": "#E5ECF6",
            "gridcolor": "white",
            "gridwidth": 2,
            "linecolor": "white",
            "showbackground": true,
            "ticks": "",
            "zerolinecolor": "white"
           }
          },
          "shapedefaults": {
           "line": {
            "color": "#2a3f5f"
           }
          },
          "ternary": {
           "aaxis": {
            "gridcolor": "white",
            "linecolor": "white",
            "ticks": ""
           },
           "baxis": {
            "gridcolor": "white",
            "linecolor": "white",
            "ticks": ""
           },
           "bgcolor": "#E5ECF6",
           "caxis": {
            "gridcolor": "white",
            "linecolor": "white",
            "ticks": ""
           }
          },
          "title": {
           "x": 0.05
          },
          "xaxis": {
           "automargin": true,
           "gridcolor": "white",
           "linecolor": "white",
           "ticks": "",
           "title": {
            "standoff": 15
           },
           "zerolinecolor": "white",
           "zerolinewidth": 2
          },
          "yaxis": {
           "automargin": true,
           "gridcolor": "white",
           "linecolor": "white",
           "ticks": "",
           "title": {
            "standoff": 15
           },
           "zerolinecolor": "white",
           "zerolinewidth": 2
          }
         }
        },
        "xaxis": {
         "anchor": "y",
         "domain": [
          0,
          1
         ],
         "title": {
          "text": "film_release_year"
         }
        },
        "yaxis": {
         "anchor": "x",
         "domain": [
          0,
          1
         ],
         "title": {
          "text": "box_office_adjusted_2005_$"
         }
        }
       }
      }
     },
     "metadata": {},
     "output_type": "display_data"
    }
   ],
   "source": [
    "fig=px.line(data,x='film_release_year',y='box_office_adjusted_2005_$')\n",
    "fig.show()"
   ]
  },
  {
   "cell_type": "markdown",
   "id": "d4bb818c",
   "metadata": {},
   "source": [
    "# Bar chart"
   ]
  },
  {
   "cell_type": "code",
   "execution_count": 6,
   "id": "6cc472f1",
   "metadata": {},
   "outputs": [
    {
     "data": {
      "application/vnd.plotly.v1+json": {
       "config": {
        "plotlyServerURL": "https://plot.ly"
       },
       "data": [
        {
         "alignmentgroup": "True",
         "hovertemplate": "bond_actor=%{x}<br>bond_actor_age=%{marker.color}<extra></extra>",
         "legendgroup": "",
         "marker": {
          "color": [
           32,
           32,
           33,
           33,
           35,
           33,
           34,
           34,
           34,
           34,
           34,
           35,
           35,
           35,
           35,
           37,
           37,
           37,
           37,
           30,
           30,
           30,
           41,
           41,
           41,
           41,
           46,
           46,
           46,
           47,
           56,
           47,
           50,
           50,
           50,
           52,
           52,
           52,
           54,
           54,
           54,
           56,
           58,
           58,
           58,
           41,
           43,
           43,
           42,
           42,
           42,
           44,
           44,
           44,
           46,
           46,
           46,
           49,
           49,
           49,
           38,
           38,
           40,
           40,
           44,
           44,
           47,
           47,
           53,
           53,
           53
          ],
          "coloraxis": "coloraxis",
          "pattern": {
           "shape": ""
          }
         },
         "name": "",
         "offsetgroup": "",
         "orientation": "v",
         "showlegend": false,
         "textposition": "auto",
         "type": "bar",
         "x": [
          "Sean Connery",
          "Sean Connery",
          "Sean Connery",
          "Sean Connery",
          "Sean Connery",
          "Sean Connery",
          "Sean Connery",
          "Sean Connery",
          "Sean Connery",
          "Sean Connery",
          "Sean Connery",
          "Sean Connery",
          "Sean Connery",
          "Sean Connery",
          "Sean Connery",
          "Sean Connery",
          "Sean Connery",
          "Sean Connery",
          "Sean Connery",
          "George Lazenby",
          "George Lazenby",
          "George Lazenby",
          "Sean Connery",
          "Sean Connery",
          "Sean Connery",
          "Sean Connery",
          "Roger Moore",
          "Roger Moore",
          "Roger Moore",
          "Roger Moore",
          "Roger Moore",
          "Roger Moore",
          "Roger Moore",
          "Roger Moore",
          "Roger Moore",
          "Roger Moore",
          "Roger Moore",
          "Roger Moore",
          "Roger Moore",
          "Roger Moore",
          "Roger Moore",
          "Roger Moore",
          "Roger Moore",
          "Roger Moore",
          "Roger Moore",
          "Timothy Dalton",
          "Timothy Dalton",
          "Timothy Dalton",
          "Pierce Brosnan",
          "Pierce Brosnan",
          "Pierce Brosnan",
          "Pierce Brosnan",
          "Pierce Brosnan",
          "Pierce Brosnan",
          "Pierce Brosnan",
          "Pierce Brosnan",
          "Pierce Brosnan",
          "Pierce Brosnan",
          "Pierce Brosnan",
          "Pierce Brosnan",
          "Daniel Craig",
          "Daniel Craig",
          "Daniel Craig",
          "Daniel Craig",
          "Daniel Craig",
          "Daniel Craig",
          "Daniel Craig",
          "Daniel Craig",
          "Daniel Craig",
          "Daniel Craig",
          "Daniel Craig"
         ],
         "xaxis": "x",
         "y": [
          32,
          32,
          33,
          33,
          35,
          33,
          34,
          34,
          34,
          34,
          34,
          35,
          35,
          35,
          35,
          37,
          37,
          37,
          37,
          30,
          30,
          30,
          41,
          41,
          41,
          41,
          46,
          46,
          46,
          47,
          56,
          47,
          50,
          50,
          50,
          52,
          52,
          52,
          54,
          54,
          54,
          56,
          58,
          58,
          58,
          41,
          43,
          43,
          42,
          42,
          42,
          44,
          44,
          44,
          46,
          46,
          46,
          49,
          49,
          49,
          38,
          38,
          40,
          40,
          44,
          44,
          47,
          47,
          53,
          53,
          53
         ],
         "yaxis": "y"
        }
       ],
       "layout": {
        "barmode": "relative",
        "coloraxis": {
         "colorbar": {
          "title": {
           "text": "bond_actor_age"
          }
         },
         "colorscale": [
          [
           0,
           "#0d0887"
          ],
          [
           0.1111111111111111,
           "#46039f"
          ],
          [
           0.2222222222222222,
           "#7201a8"
          ],
          [
           0.3333333333333333,
           "#9c179e"
          ],
          [
           0.4444444444444444,
           "#bd3786"
          ],
          [
           0.5555555555555556,
           "#d8576b"
          ],
          [
           0.6666666666666666,
           "#ed7953"
          ],
          [
           0.7777777777777778,
           "#fb9f3a"
          ],
          [
           0.8888888888888888,
           "#fdca26"
          ],
          [
           1,
           "#f0f921"
          ]
         ]
        },
        "legend": {
         "tracegroupgap": 0
        },
        "margin": {
         "t": 60
        },
        "template": {
         "data": {
          "bar": [
           {
            "error_x": {
             "color": "#2a3f5f"
            },
            "error_y": {
             "color": "#2a3f5f"
            },
            "marker": {
             "line": {
              "color": "#E5ECF6",
              "width": 0.5
             },
             "pattern": {
              "fillmode": "overlay",
              "size": 10,
              "solidity": 0.2
             }
            },
            "type": "bar"
           }
          ],
          "barpolar": [
           {
            "marker": {
             "line": {
              "color": "#E5ECF6",
              "width": 0.5
             },
             "pattern": {
              "fillmode": "overlay",
              "size": 10,
              "solidity": 0.2
             }
            },
            "type": "barpolar"
           }
          ],
          "carpet": [
           {
            "aaxis": {
             "endlinecolor": "#2a3f5f",
             "gridcolor": "white",
             "linecolor": "white",
             "minorgridcolor": "white",
             "startlinecolor": "#2a3f5f"
            },
            "baxis": {
             "endlinecolor": "#2a3f5f",
             "gridcolor": "white",
             "linecolor": "white",
             "minorgridcolor": "white",
             "startlinecolor": "#2a3f5f"
            },
            "type": "carpet"
           }
          ],
          "choropleth": [
           {
            "colorbar": {
             "outlinewidth": 0,
             "ticks": ""
            },
            "type": "choropleth"
           }
          ],
          "contour": [
           {
            "colorbar": {
             "outlinewidth": 0,
             "ticks": ""
            },
            "colorscale": [
             [
              0,
              "#0d0887"
             ],
             [
              0.1111111111111111,
              "#46039f"
             ],
             [
              0.2222222222222222,
              "#7201a8"
             ],
             [
              0.3333333333333333,
              "#9c179e"
             ],
             [
              0.4444444444444444,
              "#bd3786"
             ],
             [
              0.5555555555555556,
              "#d8576b"
             ],
             [
              0.6666666666666666,
              "#ed7953"
             ],
             [
              0.7777777777777778,
              "#fb9f3a"
             ],
             [
              0.8888888888888888,
              "#fdca26"
             ],
             [
              1,
              "#f0f921"
             ]
            ],
            "type": "contour"
           }
          ],
          "contourcarpet": [
           {
            "colorbar": {
             "outlinewidth": 0,
             "ticks": ""
            },
            "type": "contourcarpet"
           }
          ],
          "heatmap": [
           {
            "colorbar": {
             "outlinewidth": 0,
             "ticks": ""
            },
            "colorscale": [
             [
              0,
              "#0d0887"
             ],
             [
              0.1111111111111111,
              "#46039f"
             ],
             [
              0.2222222222222222,
              "#7201a8"
             ],
             [
              0.3333333333333333,
              "#9c179e"
             ],
             [
              0.4444444444444444,
              "#bd3786"
             ],
             [
              0.5555555555555556,
              "#d8576b"
             ],
             [
              0.6666666666666666,
              "#ed7953"
             ],
             [
              0.7777777777777778,
              "#fb9f3a"
             ],
             [
              0.8888888888888888,
              "#fdca26"
             ],
             [
              1,
              "#f0f921"
             ]
            ],
            "type": "heatmap"
           }
          ],
          "heatmapgl": [
           {
            "colorbar": {
             "outlinewidth": 0,
             "ticks": ""
            },
            "colorscale": [
             [
              0,
              "#0d0887"
             ],
             [
              0.1111111111111111,
              "#46039f"
             ],
             [
              0.2222222222222222,
              "#7201a8"
             ],
             [
              0.3333333333333333,
              "#9c179e"
             ],
             [
              0.4444444444444444,
              "#bd3786"
             ],
             [
              0.5555555555555556,
              "#d8576b"
             ],
             [
              0.6666666666666666,
              "#ed7953"
             ],
             [
              0.7777777777777778,
              "#fb9f3a"
             ],
             [
              0.8888888888888888,
              "#fdca26"
             ],
             [
              1,
              "#f0f921"
             ]
            ],
            "type": "heatmapgl"
           }
          ],
          "histogram": [
           {
            "marker": {
             "pattern": {
              "fillmode": "overlay",
              "size": 10,
              "solidity": 0.2
             }
            },
            "type": "histogram"
           }
          ],
          "histogram2d": [
           {
            "colorbar": {
             "outlinewidth": 0,
             "ticks": ""
            },
            "colorscale": [
             [
              0,
              "#0d0887"
             ],
             [
              0.1111111111111111,
              "#46039f"
             ],
             [
              0.2222222222222222,
              "#7201a8"
             ],
             [
              0.3333333333333333,
              "#9c179e"
             ],
             [
              0.4444444444444444,
              "#bd3786"
             ],
             [
              0.5555555555555556,
              "#d8576b"
             ],
             [
              0.6666666666666666,
              "#ed7953"
             ],
             [
              0.7777777777777778,
              "#fb9f3a"
             ],
             [
              0.8888888888888888,
              "#fdca26"
             ],
             [
              1,
              "#f0f921"
             ]
            ],
            "type": "histogram2d"
           }
          ],
          "histogram2dcontour": [
           {
            "colorbar": {
             "outlinewidth": 0,
             "ticks": ""
            },
            "colorscale": [
             [
              0,
              "#0d0887"
             ],
             [
              0.1111111111111111,
              "#46039f"
             ],
             [
              0.2222222222222222,
              "#7201a8"
             ],
             [
              0.3333333333333333,
              "#9c179e"
             ],
             [
              0.4444444444444444,
              "#bd3786"
             ],
             [
              0.5555555555555556,
              "#d8576b"
             ],
             [
              0.6666666666666666,
              "#ed7953"
             ],
             [
              0.7777777777777778,
              "#fb9f3a"
             ],
             [
              0.8888888888888888,
              "#fdca26"
             ],
             [
              1,
              "#f0f921"
             ]
            ],
            "type": "histogram2dcontour"
           }
          ],
          "mesh3d": [
           {
            "colorbar": {
             "outlinewidth": 0,
             "ticks": ""
            },
            "type": "mesh3d"
           }
          ],
          "parcoords": [
           {
            "line": {
             "colorbar": {
              "outlinewidth": 0,
              "ticks": ""
             }
            },
            "type": "parcoords"
           }
          ],
          "pie": [
           {
            "automargin": true,
            "type": "pie"
           }
          ],
          "scatter": [
           {
            "fillpattern": {
             "fillmode": "overlay",
             "size": 10,
             "solidity": 0.2
            },
            "type": "scatter"
           }
          ],
          "scatter3d": [
           {
            "line": {
             "colorbar": {
              "outlinewidth": 0,
              "ticks": ""
             }
            },
            "marker": {
             "colorbar": {
              "outlinewidth": 0,
              "ticks": ""
             }
            },
            "type": "scatter3d"
           }
          ],
          "scattercarpet": [
           {
            "marker": {
             "colorbar": {
              "outlinewidth": 0,
              "ticks": ""
             }
            },
            "type": "scattercarpet"
           }
          ],
          "scattergeo": [
           {
            "marker": {
             "colorbar": {
              "outlinewidth": 0,
              "ticks": ""
             }
            },
            "type": "scattergeo"
           }
          ],
          "scattergl": [
           {
            "marker": {
             "colorbar": {
              "outlinewidth": 0,
              "ticks": ""
             }
            },
            "type": "scattergl"
           }
          ],
          "scattermapbox": [
           {
            "marker": {
             "colorbar": {
              "outlinewidth": 0,
              "ticks": ""
             }
            },
            "type": "scattermapbox"
           }
          ],
          "scatterpolar": [
           {
            "marker": {
             "colorbar": {
              "outlinewidth": 0,
              "ticks": ""
             }
            },
            "type": "scatterpolar"
           }
          ],
          "scatterpolargl": [
           {
            "marker": {
             "colorbar": {
              "outlinewidth": 0,
              "ticks": ""
             }
            },
            "type": "scatterpolargl"
           }
          ],
          "scatterternary": [
           {
            "marker": {
             "colorbar": {
              "outlinewidth": 0,
              "ticks": ""
             }
            },
            "type": "scatterternary"
           }
          ],
          "surface": [
           {
            "colorbar": {
             "outlinewidth": 0,
             "ticks": ""
            },
            "colorscale": [
             [
              0,
              "#0d0887"
             ],
             [
              0.1111111111111111,
              "#46039f"
             ],
             [
              0.2222222222222222,
              "#7201a8"
             ],
             [
              0.3333333333333333,
              "#9c179e"
             ],
             [
              0.4444444444444444,
              "#bd3786"
             ],
             [
              0.5555555555555556,
              "#d8576b"
             ],
             [
              0.6666666666666666,
              "#ed7953"
             ],
             [
              0.7777777777777778,
              "#fb9f3a"
             ],
             [
              0.8888888888888888,
              "#fdca26"
             ],
             [
              1,
              "#f0f921"
             ]
            ],
            "type": "surface"
           }
          ],
          "table": [
           {
            "cells": {
             "fill": {
              "color": "#EBF0F8"
             },
             "line": {
              "color": "white"
             }
            },
            "header": {
             "fill": {
              "color": "#C8D4E3"
             },
             "line": {
              "color": "white"
             }
            },
            "type": "table"
           }
          ]
         },
         "layout": {
          "annotationdefaults": {
           "arrowcolor": "#2a3f5f",
           "arrowhead": 0,
           "arrowwidth": 1
          },
          "autotypenumbers": "strict",
          "coloraxis": {
           "colorbar": {
            "outlinewidth": 0,
            "ticks": ""
           }
          },
          "colorscale": {
           "diverging": [
            [
             0,
             "#8e0152"
            ],
            [
             0.1,
             "#c51b7d"
            ],
            [
             0.2,
             "#de77ae"
            ],
            [
             0.3,
             "#f1b6da"
            ],
            [
             0.4,
             "#fde0ef"
            ],
            [
             0.5,
             "#f7f7f7"
            ],
            [
             0.6,
             "#e6f5d0"
            ],
            [
             0.7,
             "#b8e186"
            ],
            [
             0.8,
             "#7fbc41"
            ],
            [
             0.9,
             "#4d9221"
            ],
            [
             1,
             "#276419"
            ]
           ],
           "sequential": [
            [
             0,
             "#0d0887"
            ],
            [
             0.1111111111111111,
             "#46039f"
            ],
            [
             0.2222222222222222,
             "#7201a8"
            ],
            [
             0.3333333333333333,
             "#9c179e"
            ],
            [
             0.4444444444444444,
             "#bd3786"
            ],
            [
             0.5555555555555556,
             "#d8576b"
            ],
            [
             0.6666666666666666,
             "#ed7953"
            ],
            [
             0.7777777777777778,
             "#fb9f3a"
            ],
            [
             0.8888888888888888,
             "#fdca26"
            ],
            [
             1,
             "#f0f921"
            ]
           ],
           "sequentialminus": [
            [
             0,
             "#0d0887"
            ],
            [
             0.1111111111111111,
             "#46039f"
            ],
            [
             0.2222222222222222,
             "#7201a8"
            ],
            [
             0.3333333333333333,
             "#9c179e"
            ],
            [
             0.4444444444444444,
             "#bd3786"
            ],
            [
             0.5555555555555556,
             "#d8576b"
            ],
            [
             0.6666666666666666,
             "#ed7953"
            ],
            [
             0.7777777777777778,
             "#fb9f3a"
            ],
            [
             0.8888888888888888,
             "#fdca26"
            ],
            [
             1,
             "#f0f921"
            ]
           ]
          },
          "colorway": [
           "#636efa",
           "#EF553B",
           "#00cc96",
           "#ab63fa",
           "#FFA15A",
           "#19d3f3",
           "#FF6692",
           "#B6E880",
           "#FF97FF",
           "#FECB52"
          ],
          "font": {
           "color": "#2a3f5f"
          },
          "geo": {
           "bgcolor": "white",
           "lakecolor": "white",
           "landcolor": "#E5ECF6",
           "showlakes": true,
           "showland": true,
           "subunitcolor": "white"
          },
          "hoverlabel": {
           "align": "left"
          },
          "hovermode": "closest",
          "mapbox": {
           "style": "light"
          },
          "paper_bgcolor": "white",
          "plot_bgcolor": "#E5ECF6",
          "polar": {
           "angularaxis": {
            "gridcolor": "white",
            "linecolor": "white",
            "ticks": ""
           },
           "bgcolor": "#E5ECF6",
           "radialaxis": {
            "gridcolor": "white",
            "linecolor": "white",
            "ticks": ""
           }
          },
          "scene": {
           "xaxis": {
            "backgroundcolor": "#E5ECF6",
            "gridcolor": "white",
            "gridwidth": 2,
            "linecolor": "white",
            "showbackground": true,
            "ticks": "",
            "zerolinecolor": "white"
           },
           "yaxis": {
            "backgroundcolor": "#E5ECF6",
            "gridcolor": "white",
            "gridwidth": 2,
            "linecolor": "white",
            "showbackground": true,
            "ticks": "",
            "zerolinecolor": "white"
           },
           "zaxis": {
            "backgroundcolor": "#E5ECF6",
            "gridcolor": "white",
            "gridwidth": 2,
            "linecolor": "white",
            "showbackground": true,
            "ticks": "",
            "zerolinecolor": "white"
           }
          },
          "shapedefaults": {
           "line": {
            "color": "#2a3f5f"
           }
          },
          "ternary": {
           "aaxis": {
            "gridcolor": "white",
            "linecolor": "white",
            "ticks": ""
           },
           "baxis": {
            "gridcolor": "white",
            "linecolor": "white",
            "ticks": ""
           },
           "bgcolor": "#E5ECF6",
           "caxis": {
            "gridcolor": "white",
            "linecolor": "white",
            "ticks": ""
           }
          },
          "title": {
           "x": 0.05
          },
          "xaxis": {
           "automargin": true,
           "gridcolor": "white",
           "linecolor": "white",
           "ticks": "",
           "title": {
            "standoff": 15
           },
           "zerolinecolor": "white",
           "zerolinewidth": 2
          },
          "yaxis": {
           "automargin": true,
           "gridcolor": "white",
           "linecolor": "white",
           "ticks": "",
           "title": {
            "standoff": 15
           },
           "zerolinecolor": "white",
           "zerolinewidth": 2
          }
         }
        },
        "xaxis": {
         "anchor": "y",
         "domain": [
          0,
          1
         ],
         "title": {
          "text": "bond_actor"
         }
        },
        "yaxis": {
         "anchor": "x",
         "domain": [
          0,
          1
         ],
         "title": {
          "text": "bond_actor_age"
         }
        }
       }
      }
     },
     "metadata": {},
     "output_type": "display_data"
    }
   ],
   "source": [
    "fig=px.bar(data,x='bond_actor',y='bond_actor_age',color='bond_actor_age')\n",
    "fig.show()"
   ]
  },
  {
   "cell_type": "markdown",
   "id": "65f78cf5",
   "metadata": {},
   "source": [
    "# Histogram"
   ]
  },
  {
   "cell_type": "code",
   "execution_count": 7,
   "id": "610558f3",
   "metadata": {},
   "outputs": [
    {
     "data": {
      "text/html": [
       "<div>\n",
       "<style scoped>\n",
       "    .dataframe tbody tr th:only-of-type {\n",
       "        vertical-align: middle;\n",
       "    }\n",
       "\n",
       "    .dataframe tbody tr th {\n",
       "        vertical-align: top;\n",
       "    }\n",
       "\n",
       "    .dataframe thead th {\n",
       "        text-align: right;\n",
       "    }\n",
       "</style>\n",
       "<table border=\"1\" class=\"dataframe\">\n",
       "  <thead>\n",
       "    <tr style=\"text-align: right;\">\n",
       "      <th></th>\n",
       "      <th>bond_girl_name</th>\n",
       "      <th>actress_age</th>\n",
       "      <th>film_title</th>\n",
       "      <th>film_release_year</th>\n",
       "      <th>bond_actor</th>\n",
       "      <th>bond_actor_age</th>\n",
       "      <th>director_name</th>\n",
       "      <th>box_office_actual_$</th>\n",
       "      <th>box_office_adjusted_2005_$</th>\n",
       "      <th>budget_actual_$</th>\n",
       "      <th>budget_adjusted_2005_$</th>\n",
       "    </tr>\n",
       "  </thead>\n",
       "  <tbody>\n",
       "    <tr>\n",
       "      <th>0</th>\n",
       "      <td>Ursula Andress</td>\n",
       "      <td>26</td>\n",
       "      <td>Dr. No</td>\n",
       "      <td>1962</td>\n",
       "      <td>Sean Connery</td>\n",
       "      <td>32</td>\n",
       "      <td>Terence Young</td>\n",
       "      <td>59.5</td>\n",
       "      <td>448.8</td>\n",
       "      <td>1.1</td>\n",
       "      <td>7.0</td>\n",
       "    </tr>\n",
       "  </tbody>\n",
       "</table>\n",
       "</div>"
      ],
      "text/plain": [
       "   bond_girl_name  actress_age film_title  film_release_year    bond_actor  \\\n",
       "0  Ursula Andress           26     Dr. No               1962  Sean Connery   \n",
       "\n",
       "   bond_actor_age  director_name  box_office_actual_$  \\\n",
       "0              32  Terence Young                 59.5   \n",
       "\n",
       "   box_office_adjusted_2005_$ budget_actual_$ budget_adjusted_2005_$  \n",
       "0                       448.8             1.1                    7.0  "
      ]
     },
     "execution_count": 7,
     "metadata": {},
     "output_type": "execute_result"
    }
   ],
   "source": [
    "\n",
    "data.head(1)"
   ]
  },
  {
   "cell_type": "code",
   "execution_count": 8,
   "id": "fd3bd2d6",
   "metadata": {},
   "outputs": [
    {
     "data": {
      "application/vnd.plotly.v1+json": {
       "config": {
        "plotlyServerURL": "https://plot.ly"
       },
       "data": [
        {
         "alignmentgroup": "True",
         "bingroup": "x",
         "histfunc": "sum",
         "hovertemplate": "actress_age=%{x}<br>sum of film_release_year=%{y}<extra></extra>",
         "legendgroup": "",
         "marker": {
          "color": "#636efa",
          "pattern": {
           "shape": ""
          }
         },
         "name": "",
         "offsetgroup": "",
         "orientation": "v",
         "showlegend": false,
         "type": "histogram",
         "x": [
          26,
          36,
          35,
          21,
          24,
          23,
          39,
          27,
          23,
          33,
          21,
          24,
          28,
          23,
          22,
          24,
          28,
          31,
          29,
          31,
          24,
          25,
          31,
          25,
          24,
          36,
          22,
          24,
          24,
          32,
          38,
          24,
          30,
          28,
          33,
          32,
          29,
          28,
          24,
          23,
          33,
          33,
          30,
          37,
          29,
          27,
          28,
          22,
          25,
          31,
          32,
          35,
          33,
          23,
          28,
          33,
          38,
          36,
          23,
          25,
          26,
          29,
          29,
          22,
          33,
          25,
          51,
          30,
          36,
          34,
          33
         ],
         "xaxis": "x",
         "y": [
          1962,
          1962,
          1963,
          1963,
          1965,
          1963,
          1964,
          1964,
          1964,
          1964,
          1964,
          1965,
          1965,
          1965,
          1965,
          1967,
          1967,
          1967,
          1967,
          1969,
          1969,
          1969,
          1971,
          1971,
          1971,
          1971,
          1973,
          1973,
          1973,
          1974,
          1983,
          1974,
          1977,
          1977,
          1977,
          1979,
          1979,
          1979,
          1981,
          1981,
          1981,
          1983,
          1985,
          1985,
          1985,
          1987,
          1989,
          1989,
          1995,
          1995,
          1995,
          1997,
          1997,
          1997,
          1999,
          1999,
          1999,
          2002,
          2002,
          2002,
          2006,
          2006,
          2008,
          2008,
          2012,
          2012,
          2015,
          2015,
          2021,
          2021,
          2021
         ],
         "yaxis": "y"
        }
       ],
       "layout": {
        "barmode": "relative",
        "legend": {
         "tracegroupgap": 0
        },
        "margin": {
         "t": 60
        },
        "template": {
         "data": {
          "bar": [
           {
            "error_x": {
             "color": "#2a3f5f"
            },
            "error_y": {
             "color": "#2a3f5f"
            },
            "marker": {
             "line": {
              "color": "#E5ECF6",
              "width": 0.5
             },
             "pattern": {
              "fillmode": "overlay",
              "size": 10,
              "solidity": 0.2
             }
            },
            "type": "bar"
           }
          ],
          "barpolar": [
           {
            "marker": {
             "line": {
              "color": "#E5ECF6",
              "width": 0.5
             },
             "pattern": {
              "fillmode": "overlay",
              "size": 10,
              "solidity": 0.2
             }
            },
            "type": "barpolar"
           }
          ],
          "carpet": [
           {
            "aaxis": {
             "endlinecolor": "#2a3f5f",
             "gridcolor": "white",
             "linecolor": "white",
             "minorgridcolor": "white",
             "startlinecolor": "#2a3f5f"
            },
            "baxis": {
             "endlinecolor": "#2a3f5f",
             "gridcolor": "white",
             "linecolor": "white",
             "minorgridcolor": "white",
             "startlinecolor": "#2a3f5f"
            },
            "type": "carpet"
           }
          ],
          "choropleth": [
           {
            "colorbar": {
             "outlinewidth": 0,
             "ticks": ""
            },
            "type": "choropleth"
           }
          ],
          "contour": [
           {
            "colorbar": {
             "outlinewidth": 0,
             "ticks": ""
            },
            "colorscale": [
             [
              0,
              "#0d0887"
             ],
             [
              0.1111111111111111,
              "#46039f"
             ],
             [
              0.2222222222222222,
              "#7201a8"
             ],
             [
              0.3333333333333333,
              "#9c179e"
             ],
             [
              0.4444444444444444,
              "#bd3786"
             ],
             [
              0.5555555555555556,
              "#d8576b"
             ],
             [
              0.6666666666666666,
              "#ed7953"
             ],
             [
              0.7777777777777778,
              "#fb9f3a"
             ],
             [
              0.8888888888888888,
              "#fdca26"
             ],
             [
              1,
              "#f0f921"
             ]
            ],
            "type": "contour"
           }
          ],
          "contourcarpet": [
           {
            "colorbar": {
             "outlinewidth": 0,
             "ticks": ""
            },
            "type": "contourcarpet"
           }
          ],
          "heatmap": [
           {
            "colorbar": {
             "outlinewidth": 0,
             "ticks": ""
            },
            "colorscale": [
             [
              0,
              "#0d0887"
             ],
             [
              0.1111111111111111,
              "#46039f"
             ],
             [
              0.2222222222222222,
              "#7201a8"
             ],
             [
              0.3333333333333333,
              "#9c179e"
             ],
             [
              0.4444444444444444,
              "#bd3786"
             ],
             [
              0.5555555555555556,
              "#d8576b"
             ],
             [
              0.6666666666666666,
              "#ed7953"
             ],
             [
              0.7777777777777778,
              "#fb9f3a"
             ],
             [
              0.8888888888888888,
              "#fdca26"
             ],
             [
              1,
              "#f0f921"
             ]
            ],
            "type": "heatmap"
           }
          ],
          "heatmapgl": [
           {
            "colorbar": {
             "outlinewidth": 0,
             "ticks": ""
            },
            "colorscale": [
             [
              0,
              "#0d0887"
             ],
             [
              0.1111111111111111,
              "#46039f"
             ],
             [
              0.2222222222222222,
              "#7201a8"
             ],
             [
              0.3333333333333333,
              "#9c179e"
             ],
             [
              0.4444444444444444,
              "#bd3786"
             ],
             [
              0.5555555555555556,
              "#d8576b"
             ],
             [
              0.6666666666666666,
              "#ed7953"
             ],
             [
              0.7777777777777778,
              "#fb9f3a"
             ],
             [
              0.8888888888888888,
              "#fdca26"
             ],
             [
              1,
              "#f0f921"
             ]
            ],
            "type": "heatmapgl"
           }
          ],
          "histogram": [
           {
            "marker": {
             "pattern": {
              "fillmode": "overlay",
              "size": 10,
              "solidity": 0.2
             }
            },
            "type": "histogram"
           }
          ],
          "histogram2d": [
           {
            "colorbar": {
             "outlinewidth": 0,
             "ticks": ""
            },
            "colorscale": [
             [
              0,
              "#0d0887"
             ],
             [
              0.1111111111111111,
              "#46039f"
             ],
             [
              0.2222222222222222,
              "#7201a8"
             ],
             [
              0.3333333333333333,
              "#9c179e"
             ],
             [
              0.4444444444444444,
              "#bd3786"
             ],
             [
              0.5555555555555556,
              "#d8576b"
             ],
             [
              0.6666666666666666,
              "#ed7953"
             ],
             [
              0.7777777777777778,
              "#fb9f3a"
             ],
             [
              0.8888888888888888,
              "#fdca26"
             ],
             [
              1,
              "#f0f921"
             ]
            ],
            "type": "histogram2d"
           }
          ],
          "histogram2dcontour": [
           {
            "colorbar": {
             "outlinewidth": 0,
             "ticks": ""
            },
            "colorscale": [
             [
              0,
              "#0d0887"
             ],
             [
              0.1111111111111111,
              "#46039f"
             ],
             [
              0.2222222222222222,
              "#7201a8"
             ],
             [
              0.3333333333333333,
              "#9c179e"
             ],
             [
              0.4444444444444444,
              "#bd3786"
             ],
             [
              0.5555555555555556,
              "#d8576b"
             ],
             [
              0.6666666666666666,
              "#ed7953"
             ],
             [
              0.7777777777777778,
              "#fb9f3a"
             ],
             [
              0.8888888888888888,
              "#fdca26"
             ],
             [
              1,
              "#f0f921"
             ]
            ],
            "type": "histogram2dcontour"
           }
          ],
          "mesh3d": [
           {
            "colorbar": {
             "outlinewidth": 0,
             "ticks": ""
            },
            "type": "mesh3d"
           }
          ],
          "parcoords": [
           {
            "line": {
             "colorbar": {
              "outlinewidth": 0,
              "ticks": ""
             }
            },
            "type": "parcoords"
           }
          ],
          "pie": [
           {
            "automargin": true,
            "type": "pie"
           }
          ],
          "scatter": [
           {
            "fillpattern": {
             "fillmode": "overlay",
             "size": 10,
             "solidity": 0.2
            },
            "type": "scatter"
           }
          ],
          "scatter3d": [
           {
            "line": {
             "colorbar": {
              "outlinewidth": 0,
              "ticks": ""
             }
            },
            "marker": {
             "colorbar": {
              "outlinewidth": 0,
              "ticks": ""
             }
            },
            "type": "scatter3d"
           }
          ],
          "scattercarpet": [
           {
            "marker": {
             "colorbar": {
              "outlinewidth": 0,
              "ticks": ""
             }
            },
            "type": "scattercarpet"
           }
          ],
          "scattergeo": [
           {
            "marker": {
             "colorbar": {
              "outlinewidth": 0,
              "ticks": ""
             }
            },
            "type": "scattergeo"
           }
          ],
          "scattergl": [
           {
            "marker": {
             "colorbar": {
              "outlinewidth": 0,
              "ticks": ""
             }
            },
            "type": "scattergl"
           }
          ],
          "scattermapbox": [
           {
            "marker": {
             "colorbar": {
              "outlinewidth": 0,
              "ticks": ""
             }
            },
            "type": "scattermapbox"
           }
          ],
          "scatterpolar": [
           {
            "marker": {
             "colorbar": {
              "outlinewidth": 0,
              "ticks": ""
             }
            },
            "type": "scatterpolar"
           }
          ],
          "scatterpolargl": [
           {
            "marker": {
             "colorbar": {
              "outlinewidth": 0,
              "ticks": ""
             }
            },
            "type": "scatterpolargl"
           }
          ],
          "scatterternary": [
           {
            "marker": {
             "colorbar": {
              "outlinewidth": 0,
              "ticks": ""
             }
            },
            "type": "scatterternary"
           }
          ],
          "surface": [
           {
            "colorbar": {
             "outlinewidth": 0,
             "ticks": ""
            },
            "colorscale": [
             [
              0,
              "#0d0887"
             ],
             [
              0.1111111111111111,
              "#46039f"
             ],
             [
              0.2222222222222222,
              "#7201a8"
             ],
             [
              0.3333333333333333,
              "#9c179e"
             ],
             [
              0.4444444444444444,
              "#bd3786"
             ],
             [
              0.5555555555555556,
              "#d8576b"
             ],
             [
              0.6666666666666666,
              "#ed7953"
             ],
             [
              0.7777777777777778,
              "#fb9f3a"
             ],
             [
              0.8888888888888888,
              "#fdca26"
             ],
             [
              1,
              "#f0f921"
             ]
            ],
            "type": "surface"
           }
          ],
          "table": [
           {
            "cells": {
             "fill": {
              "color": "#EBF0F8"
             },
             "line": {
              "color": "white"
             }
            },
            "header": {
             "fill": {
              "color": "#C8D4E3"
             },
             "line": {
              "color": "white"
             }
            },
            "type": "table"
           }
          ]
         },
         "layout": {
          "annotationdefaults": {
           "arrowcolor": "#2a3f5f",
           "arrowhead": 0,
           "arrowwidth": 1
          },
          "autotypenumbers": "strict",
          "coloraxis": {
           "colorbar": {
            "outlinewidth": 0,
            "ticks": ""
           }
          },
          "colorscale": {
           "diverging": [
            [
             0,
             "#8e0152"
            ],
            [
             0.1,
             "#c51b7d"
            ],
            [
             0.2,
             "#de77ae"
            ],
            [
             0.3,
             "#f1b6da"
            ],
            [
             0.4,
             "#fde0ef"
            ],
            [
             0.5,
             "#f7f7f7"
            ],
            [
             0.6,
             "#e6f5d0"
            ],
            [
             0.7,
             "#b8e186"
            ],
            [
             0.8,
             "#7fbc41"
            ],
            [
             0.9,
             "#4d9221"
            ],
            [
             1,
             "#276419"
            ]
           ],
           "sequential": [
            [
             0,
             "#0d0887"
            ],
            [
             0.1111111111111111,
             "#46039f"
            ],
            [
             0.2222222222222222,
             "#7201a8"
            ],
            [
             0.3333333333333333,
             "#9c179e"
            ],
            [
             0.4444444444444444,
             "#bd3786"
            ],
            [
             0.5555555555555556,
             "#d8576b"
            ],
            [
             0.6666666666666666,
             "#ed7953"
            ],
            [
             0.7777777777777778,
             "#fb9f3a"
            ],
            [
             0.8888888888888888,
             "#fdca26"
            ],
            [
             1,
             "#f0f921"
            ]
           ],
           "sequentialminus": [
            [
             0,
             "#0d0887"
            ],
            [
             0.1111111111111111,
             "#46039f"
            ],
            [
             0.2222222222222222,
             "#7201a8"
            ],
            [
             0.3333333333333333,
             "#9c179e"
            ],
            [
             0.4444444444444444,
             "#bd3786"
            ],
            [
             0.5555555555555556,
             "#d8576b"
            ],
            [
             0.6666666666666666,
             "#ed7953"
            ],
            [
             0.7777777777777778,
             "#fb9f3a"
            ],
            [
             0.8888888888888888,
             "#fdca26"
            ],
            [
             1,
             "#f0f921"
            ]
           ]
          },
          "colorway": [
           "#636efa",
           "#EF553B",
           "#00cc96",
           "#ab63fa",
           "#FFA15A",
           "#19d3f3",
           "#FF6692",
           "#B6E880",
           "#FF97FF",
           "#FECB52"
          ],
          "font": {
           "color": "#2a3f5f"
          },
          "geo": {
           "bgcolor": "white",
           "lakecolor": "white",
           "landcolor": "#E5ECF6",
           "showlakes": true,
           "showland": true,
           "subunitcolor": "white"
          },
          "hoverlabel": {
           "align": "left"
          },
          "hovermode": "closest",
          "mapbox": {
           "style": "light"
          },
          "paper_bgcolor": "white",
          "plot_bgcolor": "#E5ECF6",
          "polar": {
           "angularaxis": {
            "gridcolor": "white",
            "linecolor": "white",
            "ticks": ""
           },
           "bgcolor": "#E5ECF6",
           "radialaxis": {
            "gridcolor": "white",
            "linecolor": "white",
            "ticks": ""
           }
          },
          "scene": {
           "xaxis": {
            "backgroundcolor": "#E5ECF6",
            "gridcolor": "white",
            "gridwidth": 2,
            "linecolor": "white",
            "showbackground": true,
            "ticks": "",
            "zerolinecolor": "white"
           },
           "yaxis": {
            "backgroundcolor": "#E5ECF6",
            "gridcolor": "white",
            "gridwidth": 2,
            "linecolor": "white",
            "showbackground": true,
            "ticks": "",
            "zerolinecolor": "white"
           },
           "zaxis": {
            "backgroundcolor": "#E5ECF6",
            "gridcolor": "white",
            "gridwidth": 2,
            "linecolor": "white",
            "showbackground": true,
            "ticks": "",
            "zerolinecolor": "white"
           }
          },
          "shapedefaults": {
           "line": {
            "color": "#2a3f5f"
           }
          },
          "ternary": {
           "aaxis": {
            "gridcolor": "white",
            "linecolor": "white",
            "ticks": ""
           },
           "baxis": {
            "gridcolor": "white",
            "linecolor": "white",
            "ticks": ""
           },
           "bgcolor": "#E5ECF6",
           "caxis": {
            "gridcolor": "white",
            "linecolor": "white",
            "ticks": ""
           }
          },
          "title": {
           "x": 0.05
          },
          "xaxis": {
           "automargin": true,
           "gridcolor": "white",
           "linecolor": "white",
           "ticks": "",
           "title": {
            "standoff": 15
           },
           "zerolinecolor": "white",
           "zerolinewidth": 2
          },
          "yaxis": {
           "automargin": true,
           "gridcolor": "white",
           "linecolor": "white",
           "ticks": "",
           "title": {
            "standoff": 15
           },
           "zerolinecolor": "white",
           "zerolinewidth": 2
          }
         }
        },
        "xaxis": {
         "anchor": "y",
         "domain": [
          0,
          1
         ],
         "title": {
          "text": "actress_age"
         }
        },
        "yaxis": {
         "anchor": "x",
         "domain": [
          0,
          1
         ],
         "title": {
          "text": "sum of film_release_year"
         }
        }
       }
      }
     },
     "metadata": {},
     "output_type": "display_data"
    }
   ],
   "source": [
    "fig=px.histogram(data,x='actress_age',y='film_release_year')\n",
    "fig.show()"
   ]
  },
  {
   "cell_type": "markdown",
   "id": "cce21dbf",
   "metadata": {},
   "source": [
    "# Scatter Plot"
   ]
  },
  {
   "cell_type": "code",
   "execution_count": 9,
   "id": "0f5e208f",
   "metadata": {},
   "outputs": [
    {
     "data": {
      "text/html": [
       "<div>\n",
       "<style scoped>\n",
       "    .dataframe tbody tr th:only-of-type {\n",
       "        vertical-align: middle;\n",
       "    }\n",
       "\n",
       "    .dataframe tbody tr th {\n",
       "        vertical-align: top;\n",
       "    }\n",
       "\n",
       "    .dataframe thead th {\n",
       "        text-align: right;\n",
       "    }\n",
       "</style>\n",
       "<table border=\"1\" class=\"dataframe\">\n",
       "  <thead>\n",
       "    <tr style=\"text-align: right;\">\n",
       "      <th></th>\n",
       "      <th>bond_girl_name</th>\n",
       "      <th>actress_age</th>\n",
       "      <th>film_title</th>\n",
       "      <th>film_release_year</th>\n",
       "      <th>bond_actor</th>\n",
       "      <th>bond_actor_age</th>\n",
       "      <th>director_name</th>\n",
       "      <th>box_office_actual_$</th>\n",
       "      <th>box_office_adjusted_2005_$</th>\n",
       "      <th>budget_actual_$</th>\n",
       "      <th>budget_adjusted_2005_$</th>\n",
       "    </tr>\n",
       "  </thead>\n",
       "  <tbody>\n",
       "    <tr>\n",
       "      <th>0</th>\n",
       "      <td>Ursula Andress</td>\n",
       "      <td>26</td>\n",
       "      <td>Dr. No</td>\n",
       "      <td>1962</td>\n",
       "      <td>Sean Connery</td>\n",
       "      <td>32</td>\n",
       "      <td>Terence Young</td>\n",
       "      <td>59.5</td>\n",
       "      <td>448.8</td>\n",
       "      <td>1.1</td>\n",
       "      <td>7.0</td>\n",
       "    </tr>\n",
       "  </tbody>\n",
       "</table>\n",
       "</div>"
      ],
      "text/plain": [
       "   bond_girl_name  actress_age film_title  film_release_year    bond_actor  \\\n",
       "0  Ursula Andress           26     Dr. No               1962  Sean Connery   \n",
       "\n",
       "   bond_actor_age  director_name  box_office_actual_$  \\\n",
       "0              32  Terence Young                 59.5   \n",
       "\n",
       "   box_office_adjusted_2005_$ budget_actual_$ budget_adjusted_2005_$  \n",
       "0                       448.8             1.1                    7.0  "
      ]
     },
     "execution_count": 9,
     "metadata": {},
     "output_type": "execute_result"
    }
   ],
   "source": [
    "data.head(1)"
   ]
  },
  {
   "cell_type": "code",
   "execution_count": 10,
   "id": "d52b11e6",
   "metadata": {},
   "outputs": [
    {
     "data": {
      "application/vnd.plotly.v1+json": {
       "config": {
        "plotlyServerURL": "https://plot.ly"
       },
       "data": [
        {
         "hovertemplate": "box_office_actual_$=%{x}<br>box_office_adjusted_2005_$=%{y}<br>bond_actor_age=%{marker.color}<extra></extra>",
         "legendgroup": "",
         "marker": {
          "color": [
           32,
           32,
           33,
           33,
           35,
           33,
           34,
           34,
           34,
           34,
           34,
           35,
           35,
           35,
           35,
           37,
           37,
           37,
           37,
           30,
           30,
           30,
           41,
           41,
           41,
           41,
           46,
           46,
           46,
           47,
           56,
           47,
           50,
           50,
           50,
           52,
           52,
           52,
           54,
           54,
           54,
           56,
           58,
           58,
           58,
           41,
           43,
           43,
           42,
           42,
           42,
           44,
           44,
           44,
           46,
           46,
           46,
           49,
           49,
           49,
           38,
           38,
           40,
           40,
           44,
           44,
           47,
           47,
           53,
           53,
           53
          ],
          "coloraxis": "coloraxis",
          "symbol": "circle"
         },
         "mode": "markers",
         "name": "",
         "orientation": "v",
         "showlegend": false,
         "type": "scatter",
         "x": [
          59.5,
          59.5,
          78.9,
          78.9,
          141.2,
          78.9,
          124.9,
          124.9,
          124.9,
          124.9,
          124.9,
          141.2,
          141.2,
          141.2,
          141.2,
          111.6,
          111.6,
          111.6,
          111.6,
          64.6,
          64.6,
          64.6,
          116,
          116,
          116,
          116,
          126.4,
          126.4,
          126.4,
          97.6,
          183.7,
          97.6,
          185.4,
          185.4,
          185.4,
          210.3,
          210.3,
          210.3,
          194.9,
          194.9,
          194.9,
          183.7,
          152.4,
          152.4,
          152.4,
          191.2,
          156.2,
          156.2,
          352,
          352,
          352,
          333,
          333,
          333,
          361.8,
          361.8,
          361.8,
          432,
          432,
          432,
          606,
          606,
          586.1,
          586.1,
          1108.6,
          1108.6,
          880.7,
          880.7,
          525.7,
          525.7,
          525.7
         ],
         "xaxis": "x",
         "y": [
          448.8,
          448.8,
          543.8,
          543.8,
          848.1,
          543.8,
          820.4,
          820.4,
          820.4,
          820.4,
          820.4,
          848.1,
          848.1,
          848.1,
          848.1,
          514.2,
          514.2,
          514.2,
          514.2,
          291.5,
          291.5,
          291.5,
          442.5,
          442.5,
          442.5,
          442.5,
          460.3,
          460.3,
          460.3,
          334,
          373.8,
          334,
          533,
          533,
          533,
          535,
          535,
          535,
          449.4,
          449.4,
          449.4,
          373.8,
          275.2,
          275.2,
          275.2,
          313.5,
          250.9,
          250.9,
          518.5,
          518.5,
          518.5,
          463.2,
          463.2,
          463.2,
          439.5,
          439.5,
          439.5,
          465.4,
          465.4,
          465.4,
          589.4,
          589.4,
          514.2,
          514.2,
          943.5,
          943.5,
          725.5,
          725.5,
          396.8,
          396.8,
          396.8
         ],
         "yaxis": "y"
        }
       ],
       "layout": {
        "coloraxis": {
         "colorbar": {
          "title": {
           "text": "bond_actor_age"
          }
         },
         "colorscale": [
          [
           0,
           "#0d0887"
          ],
          [
           0.1111111111111111,
           "#46039f"
          ],
          [
           0.2222222222222222,
           "#7201a8"
          ],
          [
           0.3333333333333333,
           "#9c179e"
          ],
          [
           0.4444444444444444,
           "#bd3786"
          ],
          [
           0.5555555555555556,
           "#d8576b"
          ],
          [
           0.6666666666666666,
           "#ed7953"
          ],
          [
           0.7777777777777778,
           "#fb9f3a"
          ],
          [
           0.8888888888888888,
           "#fdca26"
          ],
          [
           1,
           "#f0f921"
          ]
         ]
        },
        "legend": {
         "tracegroupgap": 0
        },
        "margin": {
         "t": 60
        },
        "template": {
         "data": {
          "bar": [
           {
            "error_x": {
             "color": "#2a3f5f"
            },
            "error_y": {
             "color": "#2a3f5f"
            },
            "marker": {
             "line": {
              "color": "#E5ECF6",
              "width": 0.5
             },
             "pattern": {
              "fillmode": "overlay",
              "size": 10,
              "solidity": 0.2
             }
            },
            "type": "bar"
           }
          ],
          "barpolar": [
           {
            "marker": {
             "line": {
              "color": "#E5ECF6",
              "width": 0.5
             },
             "pattern": {
              "fillmode": "overlay",
              "size": 10,
              "solidity": 0.2
             }
            },
            "type": "barpolar"
           }
          ],
          "carpet": [
           {
            "aaxis": {
             "endlinecolor": "#2a3f5f",
             "gridcolor": "white",
             "linecolor": "white",
             "minorgridcolor": "white",
             "startlinecolor": "#2a3f5f"
            },
            "baxis": {
             "endlinecolor": "#2a3f5f",
             "gridcolor": "white",
             "linecolor": "white",
             "minorgridcolor": "white",
             "startlinecolor": "#2a3f5f"
            },
            "type": "carpet"
           }
          ],
          "choropleth": [
           {
            "colorbar": {
             "outlinewidth": 0,
             "ticks": ""
            },
            "type": "choropleth"
           }
          ],
          "contour": [
           {
            "colorbar": {
             "outlinewidth": 0,
             "ticks": ""
            },
            "colorscale": [
             [
              0,
              "#0d0887"
             ],
             [
              0.1111111111111111,
              "#46039f"
             ],
             [
              0.2222222222222222,
              "#7201a8"
             ],
             [
              0.3333333333333333,
              "#9c179e"
             ],
             [
              0.4444444444444444,
              "#bd3786"
             ],
             [
              0.5555555555555556,
              "#d8576b"
             ],
             [
              0.6666666666666666,
              "#ed7953"
             ],
             [
              0.7777777777777778,
              "#fb9f3a"
             ],
             [
              0.8888888888888888,
              "#fdca26"
             ],
             [
              1,
              "#f0f921"
             ]
            ],
            "type": "contour"
           }
          ],
          "contourcarpet": [
           {
            "colorbar": {
             "outlinewidth": 0,
             "ticks": ""
            },
            "type": "contourcarpet"
           }
          ],
          "heatmap": [
           {
            "colorbar": {
             "outlinewidth": 0,
             "ticks": ""
            },
            "colorscale": [
             [
              0,
              "#0d0887"
             ],
             [
              0.1111111111111111,
              "#46039f"
             ],
             [
              0.2222222222222222,
              "#7201a8"
             ],
             [
              0.3333333333333333,
              "#9c179e"
             ],
             [
              0.4444444444444444,
              "#bd3786"
             ],
             [
              0.5555555555555556,
              "#d8576b"
             ],
             [
              0.6666666666666666,
              "#ed7953"
             ],
             [
              0.7777777777777778,
              "#fb9f3a"
             ],
             [
              0.8888888888888888,
              "#fdca26"
             ],
             [
              1,
              "#f0f921"
             ]
            ],
            "type": "heatmap"
           }
          ],
          "heatmapgl": [
           {
            "colorbar": {
             "outlinewidth": 0,
             "ticks": ""
            },
            "colorscale": [
             [
              0,
              "#0d0887"
             ],
             [
              0.1111111111111111,
              "#46039f"
             ],
             [
              0.2222222222222222,
              "#7201a8"
             ],
             [
              0.3333333333333333,
              "#9c179e"
             ],
             [
              0.4444444444444444,
              "#bd3786"
             ],
             [
              0.5555555555555556,
              "#d8576b"
             ],
             [
              0.6666666666666666,
              "#ed7953"
             ],
             [
              0.7777777777777778,
              "#fb9f3a"
             ],
             [
              0.8888888888888888,
              "#fdca26"
             ],
             [
              1,
              "#f0f921"
             ]
            ],
            "type": "heatmapgl"
           }
          ],
          "histogram": [
           {
            "marker": {
             "pattern": {
              "fillmode": "overlay",
              "size": 10,
              "solidity": 0.2
             }
            },
            "type": "histogram"
           }
          ],
          "histogram2d": [
           {
            "colorbar": {
             "outlinewidth": 0,
             "ticks": ""
            },
            "colorscale": [
             [
              0,
              "#0d0887"
             ],
             [
              0.1111111111111111,
              "#46039f"
             ],
             [
              0.2222222222222222,
              "#7201a8"
             ],
             [
              0.3333333333333333,
              "#9c179e"
             ],
             [
              0.4444444444444444,
              "#bd3786"
             ],
             [
              0.5555555555555556,
              "#d8576b"
             ],
             [
              0.6666666666666666,
              "#ed7953"
             ],
             [
              0.7777777777777778,
              "#fb9f3a"
             ],
             [
              0.8888888888888888,
              "#fdca26"
             ],
             [
              1,
              "#f0f921"
             ]
            ],
            "type": "histogram2d"
           }
          ],
          "histogram2dcontour": [
           {
            "colorbar": {
             "outlinewidth": 0,
             "ticks": ""
            },
            "colorscale": [
             [
              0,
              "#0d0887"
             ],
             [
              0.1111111111111111,
              "#46039f"
             ],
             [
              0.2222222222222222,
              "#7201a8"
             ],
             [
              0.3333333333333333,
              "#9c179e"
             ],
             [
              0.4444444444444444,
              "#bd3786"
             ],
             [
              0.5555555555555556,
              "#d8576b"
             ],
             [
              0.6666666666666666,
              "#ed7953"
             ],
             [
              0.7777777777777778,
              "#fb9f3a"
             ],
             [
              0.8888888888888888,
              "#fdca26"
             ],
             [
              1,
              "#f0f921"
             ]
            ],
            "type": "histogram2dcontour"
           }
          ],
          "mesh3d": [
           {
            "colorbar": {
             "outlinewidth": 0,
             "ticks": ""
            },
            "type": "mesh3d"
           }
          ],
          "parcoords": [
           {
            "line": {
             "colorbar": {
              "outlinewidth": 0,
              "ticks": ""
             }
            },
            "type": "parcoords"
           }
          ],
          "pie": [
           {
            "automargin": true,
            "type": "pie"
           }
          ],
          "scatter": [
           {
            "fillpattern": {
             "fillmode": "overlay",
             "size": 10,
             "solidity": 0.2
            },
            "type": "scatter"
           }
          ],
          "scatter3d": [
           {
            "line": {
             "colorbar": {
              "outlinewidth": 0,
              "ticks": ""
             }
            },
            "marker": {
             "colorbar": {
              "outlinewidth": 0,
              "ticks": ""
             }
            },
            "type": "scatter3d"
           }
          ],
          "scattercarpet": [
           {
            "marker": {
             "colorbar": {
              "outlinewidth": 0,
              "ticks": ""
             }
            },
            "type": "scattercarpet"
           }
          ],
          "scattergeo": [
           {
            "marker": {
             "colorbar": {
              "outlinewidth": 0,
              "ticks": ""
             }
            },
            "type": "scattergeo"
           }
          ],
          "scattergl": [
           {
            "marker": {
             "colorbar": {
              "outlinewidth": 0,
              "ticks": ""
             }
            },
            "type": "scattergl"
           }
          ],
          "scattermapbox": [
           {
            "marker": {
             "colorbar": {
              "outlinewidth": 0,
              "ticks": ""
             }
            },
            "type": "scattermapbox"
           }
          ],
          "scatterpolar": [
           {
            "marker": {
             "colorbar": {
              "outlinewidth": 0,
              "ticks": ""
             }
            },
            "type": "scatterpolar"
           }
          ],
          "scatterpolargl": [
           {
            "marker": {
             "colorbar": {
              "outlinewidth": 0,
              "ticks": ""
             }
            },
            "type": "scatterpolargl"
           }
          ],
          "scatterternary": [
           {
            "marker": {
             "colorbar": {
              "outlinewidth": 0,
              "ticks": ""
             }
            },
            "type": "scatterternary"
           }
          ],
          "surface": [
           {
            "colorbar": {
             "outlinewidth": 0,
             "ticks": ""
            },
            "colorscale": [
             [
              0,
              "#0d0887"
             ],
             [
              0.1111111111111111,
              "#46039f"
             ],
             [
              0.2222222222222222,
              "#7201a8"
             ],
             [
              0.3333333333333333,
              "#9c179e"
             ],
             [
              0.4444444444444444,
              "#bd3786"
             ],
             [
              0.5555555555555556,
              "#d8576b"
             ],
             [
              0.6666666666666666,
              "#ed7953"
             ],
             [
              0.7777777777777778,
              "#fb9f3a"
             ],
             [
              0.8888888888888888,
              "#fdca26"
             ],
             [
              1,
              "#f0f921"
             ]
            ],
            "type": "surface"
           }
          ],
          "table": [
           {
            "cells": {
             "fill": {
              "color": "#EBF0F8"
             },
             "line": {
              "color": "white"
             }
            },
            "header": {
             "fill": {
              "color": "#C8D4E3"
             },
             "line": {
              "color": "white"
             }
            },
            "type": "table"
           }
          ]
         },
         "layout": {
          "annotationdefaults": {
           "arrowcolor": "#2a3f5f",
           "arrowhead": 0,
           "arrowwidth": 1
          },
          "autotypenumbers": "strict",
          "coloraxis": {
           "colorbar": {
            "outlinewidth": 0,
            "ticks": ""
           }
          },
          "colorscale": {
           "diverging": [
            [
             0,
             "#8e0152"
            ],
            [
             0.1,
             "#c51b7d"
            ],
            [
             0.2,
             "#de77ae"
            ],
            [
             0.3,
             "#f1b6da"
            ],
            [
             0.4,
             "#fde0ef"
            ],
            [
             0.5,
             "#f7f7f7"
            ],
            [
             0.6,
             "#e6f5d0"
            ],
            [
             0.7,
             "#b8e186"
            ],
            [
             0.8,
             "#7fbc41"
            ],
            [
             0.9,
             "#4d9221"
            ],
            [
             1,
             "#276419"
            ]
           ],
           "sequential": [
            [
             0,
             "#0d0887"
            ],
            [
             0.1111111111111111,
             "#46039f"
            ],
            [
             0.2222222222222222,
             "#7201a8"
            ],
            [
             0.3333333333333333,
             "#9c179e"
            ],
            [
             0.4444444444444444,
             "#bd3786"
            ],
            [
             0.5555555555555556,
             "#d8576b"
            ],
            [
             0.6666666666666666,
             "#ed7953"
            ],
            [
             0.7777777777777778,
             "#fb9f3a"
            ],
            [
             0.8888888888888888,
             "#fdca26"
            ],
            [
             1,
             "#f0f921"
            ]
           ],
           "sequentialminus": [
            [
             0,
             "#0d0887"
            ],
            [
             0.1111111111111111,
             "#46039f"
            ],
            [
             0.2222222222222222,
             "#7201a8"
            ],
            [
             0.3333333333333333,
             "#9c179e"
            ],
            [
             0.4444444444444444,
             "#bd3786"
            ],
            [
             0.5555555555555556,
             "#d8576b"
            ],
            [
             0.6666666666666666,
             "#ed7953"
            ],
            [
             0.7777777777777778,
             "#fb9f3a"
            ],
            [
             0.8888888888888888,
             "#fdca26"
            ],
            [
             1,
             "#f0f921"
            ]
           ]
          },
          "colorway": [
           "#636efa",
           "#EF553B",
           "#00cc96",
           "#ab63fa",
           "#FFA15A",
           "#19d3f3",
           "#FF6692",
           "#B6E880",
           "#FF97FF",
           "#FECB52"
          ],
          "font": {
           "color": "#2a3f5f"
          },
          "geo": {
           "bgcolor": "white",
           "lakecolor": "white",
           "landcolor": "#E5ECF6",
           "showlakes": true,
           "showland": true,
           "subunitcolor": "white"
          },
          "hoverlabel": {
           "align": "left"
          },
          "hovermode": "closest",
          "mapbox": {
           "style": "light"
          },
          "paper_bgcolor": "white",
          "plot_bgcolor": "#E5ECF6",
          "polar": {
           "angularaxis": {
            "gridcolor": "white",
            "linecolor": "white",
            "ticks": ""
           },
           "bgcolor": "#E5ECF6",
           "radialaxis": {
            "gridcolor": "white",
            "linecolor": "white",
            "ticks": ""
           }
          },
          "scene": {
           "xaxis": {
            "backgroundcolor": "#E5ECF6",
            "gridcolor": "white",
            "gridwidth": 2,
            "linecolor": "white",
            "showbackground": true,
            "ticks": "",
            "zerolinecolor": "white"
           },
           "yaxis": {
            "backgroundcolor": "#E5ECF6",
            "gridcolor": "white",
            "gridwidth": 2,
            "linecolor": "white",
            "showbackground": true,
            "ticks": "",
            "zerolinecolor": "white"
           },
           "zaxis": {
            "backgroundcolor": "#E5ECF6",
            "gridcolor": "white",
            "gridwidth": 2,
            "linecolor": "white",
            "showbackground": true,
            "ticks": "",
            "zerolinecolor": "white"
           }
          },
          "shapedefaults": {
           "line": {
            "color": "#2a3f5f"
           }
          },
          "ternary": {
           "aaxis": {
            "gridcolor": "white",
            "linecolor": "white",
            "ticks": ""
           },
           "baxis": {
            "gridcolor": "white",
            "linecolor": "white",
            "ticks": ""
           },
           "bgcolor": "#E5ECF6",
           "caxis": {
            "gridcolor": "white",
            "linecolor": "white",
            "ticks": ""
           }
          },
          "title": {
           "x": 0.05
          },
          "xaxis": {
           "automargin": true,
           "gridcolor": "white",
           "linecolor": "white",
           "ticks": "",
           "title": {
            "standoff": 15
           },
           "zerolinecolor": "white",
           "zerolinewidth": 2
          },
          "yaxis": {
           "automargin": true,
           "gridcolor": "white",
           "linecolor": "white",
           "ticks": "",
           "title": {
            "standoff": 15
           },
           "zerolinecolor": "white",
           "zerolinewidth": 2
          }
         }
        },
        "xaxis": {
         "anchor": "y",
         "domain": [
          0,
          1
         ],
         "title": {
          "text": "box_office_actual_$"
         }
        },
        "yaxis": {
         "anchor": "x",
         "domain": [
          0,
          1
         ],
         "title": {
          "text": "box_office_adjusted_2005_$"
         }
        }
       }
      }
     },
     "metadata": {},
     "output_type": "display_data"
    }
   ],
   "source": [
    "fig=px.scatter(data,x='box_office_actual_$',y='box_office_adjusted_2005_$',color='bond_actor_age')\n",
    "fig.show()"
   ]
  },
  {
   "cell_type": "markdown",
   "id": "da77f768",
   "metadata": {},
   "source": [
    "# Bubble Chart"
   ]
  },
  {
   "cell_type": "code",
   "execution_count": 11,
   "id": "23499530",
   "metadata": {},
   "outputs": [
    {
     "data": {
      "text/html": [
       "<div>\n",
       "<style scoped>\n",
       "    .dataframe tbody tr th:only-of-type {\n",
       "        vertical-align: middle;\n",
       "    }\n",
       "\n",
       "    .dataframe tbody tr th {\n",
       "        vertical-align: top;\n",
       "    }\n",
       "\n",
       "    .dataframe thead th {\n",
       "        text-align: right;\n",
       "    }\n",
       "</style>\n",
       "<table border=\"1\" class=\"dataframe\">\n",
       "  <thead>\n",
       "    <tr style=\"text-align: right;\">\n",
       "      <th></th>\n",
       "      <th>bond_girl_name</th>\n",
       "      <th>actress_age</th>\n",
       "      <th>film_title</th>\n",
       "      <th>film_release_year</th>\n",
       "      <th>bond_actor</th>\n",
       "      <th>bond_actor_age</th>\n",
       "      <th>director_name</th>\n",
       "      <th>box_office_actual_$</th>\n",
       "      <th>box_office_adjusted_2005_$</th>\n",
       "      <th>budget_actual_$</th>\n",
       "      <th>budget_adjusted_2005_$</th>\n",
       "    </tr>\n",
       "  </thead>\n",
       "  <tbody>\n",
       "    <tr>\n",
       "      <th>0</th>\n",
       "      <td>Ursula Andress</td>\n",
       "      <td>26</td>\n",
       "      <td>Dr. No</td>\n",
       "      <td>1962</td>\n",
       "      <td>Sean Connery</td>\n",
       "      <td>32</td>\n",
       "      <td>Terence Young</td>\n",
       "      <td>59.5</td>\n",
       "      <td>448.8</td>\n",
       "      <td>1.1</td>\n",
       "      <td>7.0</td>\n",
       "    </tr>\n",
       "  </tbody>\n",
       "</table>\n",
       "</div>"
      ],
      "text/plain": [
       "   bond_girl_name  actress_age film_title  film_release_year    bond_actor  \\\n",
       "0  Ursula Andress           26     Dr. No               1962  Sean Connery   \n",
       "\n",
       "   bond_actor_age  director_name  box_office_actual_$  \\\n",
       "0              32  Terence Young                 59.5   \n",
       "\n",
       "   box_office_adjusted_2005_$ budget_actual_$ budget_adjusted_2005_$  \n",
       "0                       448.8             1.1                    7.0  "
      ]
     },
     "execution_count": 11,
     "metadata": {},
     "output_type": "execute_result"
    }
   ],
   "source": [
    "data.head(1)"
   ]
  },
  {
   "cell_type": "code",
   "execution_count": 12,
   "id": "7438a879",
   "metadata": {},
   "outputs": [
    {
     "data": {
      "application/vnd.plotly.v1+json": {
       "config": {
        "plotlyServerURL": "https://plot.ly"
       },
       "data": [
        {
         "hovertemplate": "director_name=Terence Young<br>film_release_year=%{x}<br>film_title=%{y}<br>actress_age=%{marker.size}<extra></extra>",
         "legendgroup": "Terence Young",
         "marker": {
          "color": "#636efa",
          "size": [
           26,
           36,
           35,
           21,
           24,
           23,
           24,
           28,
           23,
           22
          ],
          "sizemode": "area",
          "sizeref": 0.1275,
          "symbol": "circle"
         },
         "mode": "markers",
         "name": "Terence Young",
         "orientation": "h",
         "showlegend": true,
         "type": "scatter",
         "x": [
          1962,
          1962,
          1963,
          1963,
          1965,
          1963,
          1965,
          1965,
          1965,
          1965
         ],
         "xaxis": "x",
         "y": [
          "Dr. No",
          "Dr. No",
          "From Russia with Love",
          "From Russia with Love",
          "Thunderball",
          "From Russia with Love",
          "Thunderball",
          "Thunderball",
          "Thunderball",
          "Thunderball"
         ],
         "yaxis": "y"
        },
        {
         "hovertemplate": "director_name=Guy Hamilton<br>film_release_year=%{x}<br>film_title=%{y}<br>actress_age=%{marker.size}<extra></extra>",
         "legendgroup": "Guy Hamilton",
         "marker": {
          "color": "#EF553B",
          "size": [
           39,
           27,
           23,
           33,
           21,
           31,
           25,
           24,
           36,
           22,
           24,
           24,
           32,
           24
          ],
          "sizemode": "area",
          "sizeref": 0.1275,
          "symbol": "circle"
         },
         "mode": "markers",
         "name": "Guy Hamilton",
         "orientation": "h",
         "showlegend": true,
         "type": "scatter",
         "x": [
          1964,
          1964,
          1964,
          1964,
          1964,
          1971,
          1971,
          1971,
          1971,
          1973,
          1973,
          1973,
          1974,
          1974
         ],
         "xaxis": "x",
         "y": [
          "Goldfinger",
          "Goldfinger",
          "Goldfinger",
          "Goldfinger",
          "Goldfinger",
          "Diamonds Are Forever",
          "Diamonds Are Forever",
          "Diamonds Are Forever",
          "Diamonds Are Forever",
          "Live and Let Die",
          "Live and Let Die",
          "Live and Let Die",
          "The Man with the Golden Gun",
          "The Man with the Golden Gun"
         ],
         "yaxis": "y"
        },
        {
         "hovertemplate": "director_name=Lewis Gilbert<br>film_release_year=%{x}<br>film_title=%{y}<br>actress_age=%{marker.size}<extra></extra>",
         "legendgroup": "Lewis Gilbert",
         "marker": {
          "color": "#00cc96",
          "size": [
           24,
           28,
           31,
           29,
           30,
           28,
           33,
           32,
           29,
           28
          ],
          "sizemode": "area",
          "sizeref": 0.1275,
          "symbol": "circle"
         },
         "mode": "markers",
         "name": "Lewis Gilbert",
         "orientation": "h",
         "showlegend": true,
         "type": "scatter",
         "x": [
          1967,
          1967,
          1967,
          1967,
          1977,
          1977,
          1977,
          1979,
          1979,
          1979
         ],
         "xaxis": "x",
         "y": [
          "You Only Live Twice",
          "You Only Live Twice",
          "You Only Live Twice",
          "You Only Live Twice",
          "The Spy Who Loved Me",
          "The Spy Who Loved Me",
          "The Spy Who Loved Me",
          "Moonraker",
          "Moonraker",
          "Moonraker"
         ],
         "yaxis": "y"
        },
        {
         "hovertemplate": "director_name=Peter R. Hunt<br>film_release_year=%{x}<br>film_title=%{y}<br>actress_age=%{marker.size}<extra></extra>",
         "legendgroup": "Peter R. Hunt",
         "marker": {
          "color": "#ab63fa",
          "size": [
           31,
           24,
           25
          ],
          "sizemode": "area",
          "sizeref": 0.1275,
          "symbol": "circle"
         },
         "mode": "markers",
         "name": "Peter R. Hunt",
         "orientation": "h",
         "showlegend": true,
         "type": "scatter",
         "x": [
          1969,
          1969,
          1969
         ],
         "xaxis": "x",
         "y": [
          "On Her Majesty's Secret Service",
          "On Her Majesty's Secret Service",
          "On Her Majesty's Secret Service"
         ],
         "yaxis": "y"
        },
        {
         "hovertemplate": "director_name=John Glen<br>film_release_year=%{x}<br>film_title=%{y}<br>actress_age=%{marker.size}<extra></extra>",
         "legendgroup": "John Glen",
         "marker": {
          "color": "#FFA15A",
          "size": [
           38,
           24,
           23,
           33,
           33,
           30,
           37,
           29,
           27,
           28,
           22
          ],
          "sizemode": "area",
          "sizeref": 0.1275,
          "symbol": "circle"
         },
         "mode": "markers",
         "name": "John Glen",
         "orientation": "h",
         "showlegend": true,
         "type": "scatter",
         "x": [
          1983,
          1981,
          1981,
          1981,
          1983,
          1985,
          1985,
          1985,
          1987,
          1989,
          1989
         ],
         "xaxis": "x",
         "y": [
          "Octopussy",
          "For Your Eyes Only",
          "For Your Eyes Only",
          "For Your Eyes Only",
          "Octopussy",
          "A View to a Kill",
          "A View to a Kill",
          "A View to a Kill",
          "The Living Daylights",
          "Licence to Kill",
          "Licence to Kill"
         ],
         "yaxis": "y"
        },
        {
         "hovertemplate": "director_name=Martin Campbell<br>film_release_year=%{x}<br>film_title=%{y}<br>actress_age=%{marker.size}<extra></extra>",
         "legendgroup": "Martin Campbell",
         "marker": {
          "color": "#19d3f3",
          "size": [
           25,
           31,
           32,
           26,
           29
          ],
          "sizemode": "area",
          "sizeref": 0.1275,
          "symbol": "circle"
         },
         "mode": "markers",
         "name": "Martin Campbell",
         "orientation": "h",
         "showlegend": true,
         "type": "scatter",
         "x": [
          1995,
          1995,
          1995,
          2006,
          2006
         ],
         "xaxis": "x",
         "y": [
          "GoldenEye",
          "GoldenEye",
          "GoldenEye",
          "Casino Royale",
          "Casino Royale"
         ],
         "yaxis": "y"
        },
        {
         "hovertemplate": "director_name=Roger Spottiswoode<br>film_release_year=%{x}<br>film_title=%{y}<br>actress_age=%{marker.size}<extra></extra>",
         "legendgroup": "Roger Spottiswoode",
         "marker": {
          "color": "#FF6692",
          "size": [
           35,
           33,
           23
          ],
          "sizemode": "area",
          "sizeref": 0.1275,
          "symbol": "circle"
         },
         "mode": "markers",
         "name": "Roger Spottiswoode",
         "orientation": "h",
         "showlegend": true,
         "type": "scatter",
         "x": [
          1997,
          1997,
          1997
         ],
         "xaxis": "x",
         "y": [
          "Tomorrow Never Dies",
          "Tomorrow Never Dies",
          "Tomorrow Never Dies"
         ],
         "yaxis": "y"
        },
        {
         "hovertemplate": "director_name=Michael Apted<br>film_release_year=%{x}<br>film_title=%{y}<br>actress_age=%{marker.size}<extra></extra>",
         "legendgroup": "Michael Apted",
         "marker": {
          "color": "#B6E880",
          "size": [
           28,
           33,
           38
          ],
          "sizemode": "area",
          "sizeref": 0.1275,
          "symbol": "circle"
         },
         "mode": "markers",
         "name": "Michael Apted",
         "orientation": "h",
         "showlegend": true,
         "type": "scatter",
         "x": [
          1999,
          1999,
          1999
         ],
         "xaxis": "x",
         "y": [
          "The World Is Not Enough",
          "The World Is Not Enough",
          "The World Is Not Enough"
         ],
         "yaxis": "y"
        },
        {
         "hovertemplate": "director_name=Lee Tamahori<br>film_release_year=%{x}<br>film_title=%{y}<br>actress_age=%{marker.size}<extra></extra>",
         "legendgroup": "Lee Tamahori",
         "marker": {
          "color": "#FF97FF",
          "size": [
           36,
           23,
           25
          ],
          "sizemode": "area",
          "sizeref": 0.1275,
          "symbol": "circle"
         },
         "mode": "markers",
         "name": "Lee Tamahori",
         "orientation": "h",
         "showlegend": true,
         "type": "scatter",
         "x": [
          2002,
          2002,
          2002
         ],
         "xaxis": "x",
         "y": [
          "Die Another Day",
          "Die Another Day",
          "Die Another Day"
         ],
         "yaxis": "y"
        },
        {
         "hovertemplate": "director_name=Marc Forster<br>film_release_year=%{x}<br>film_title=%{y}<br>actress_age=%{marker.size}<extra></extra>",
         "legendgroup": "Marc Forster",
         "marker": {
          "color": "#FECB52",
          "size": [
           29,
           22
          ],
          "sizemode": "area",
          "sizeref": 0.1275,
          "symbol": "circle"
         },
         "mode": "markers",
         "name": "Marc Forster",
         "orientation": "h",
         "showlegend": true,
         "type": "scatter",
         "x": [
          2008,
          2008
         ],
         "xaxis": "x",
         "y": [
          "Quantum of Solace",
          "Quantum of Solace"
         ],
         "yaxis": "y"
        },
        {
         "hovertemplate": "director_name=Sam Mendes<br>film_release_year=%{x}<br>film_title=%{y}<br>actress_age=%{marker.size}<extra></extra>",
         "legendgroup": "Sam Mendes",
         "marker": {
          "color": "#636efa",
          "size": [
           33,
           25,
           51,
           30
          ],
          "sizemode": "area",
          "sizeref": 0.1275,
          "symbol": "circle"
         },
         "mode": "markers",
         "name": "Sam Mendes",
         "orientation": "h",
         "showlegend": true,
         "type": "scatter",
         "x": [
          2012,
          2012,
          2015,
          2015
         ],
         "xaxis": "x",
         "y": [
          "Skyfall",
          "Skyfall",
          "Spectre",
          "Spectre"
         ],
         "yaxis": "y"
        },
        {
         "hovertemplate": "director_name=Cary Joji Fukunaga<br>film_release_year=%{x}<br>film_title=%{y}<br>actress_age=%{marker.size}<extra></extra>",
         "legendgroup": "Cary Joji Fukunaga",
         "marker": {
          "color": "#EF553B",
          "size": [
           36,
           34,
           33
          ],
          "sizemode": "area",
          "sizeref": 0.1275,
          "symbol": "circle"
         },
         "mode": "markers",
         "name": "Cary Joji Fukunaga",
         "orientation": "h",
         "showlegend": true,
         "type": "scatter",
         "x": [
          2021,
          2021,
          2021
         ],
         "xaxis": "x",
         "y": [
          "No Time to Die",
          "No Time to Die",
          "No Time to Die"
         ],
         "yaxis": "y"
        }
       ],
       "layout": {
        "legend": {
         "itemsizing": "constant",
         "title": {
          "text": "director_name"
         },
         "tracegroupgap": 0
        },
        "margin": {
         "t": 60
        },
        "template": {
         "data": {
          "bar": [
           {
            "error_x": {
             "color": "#2a3f5f"
            },
            "error_y": {
             "color": "#2a3f5f"
            },
            "marker": {
             "line": {
              "color": "#E5ECF6",
              "width": 0.5
             },
             "pattern": {
              "fillmode": "overlay",
              "size": 10,
              "solidity": 0.2
             }
            },
            "type": "bar"
           }
          ],
          "barpolar": [
           {
            "marker": {
             "line": {
              "color": "#E5ECF6",
              "width": 0.5
             },
             "pattern": {
              "fillmode": "overlay",
              "size": 10,
              "solidity": 0.2
             }
            },
            "type": "barpolar"
           }
          ],
          "carpet": [
           {
            "aaxis": {
             "endlinecolor": "#2a3f5f",
             "gridcolor": "white",
             "linecolor": "white",
             "minorgridcolor": "white",
             "startlinecolor": "#2a3f5f"
            },
            "baxis": {
             "endlinecolor": "#2a3f5f",
             "gridcolor": "white",
             "linecolor": "white",
             "minorgridcolor": "white",
             "startlinecolor": "#2a3f5f"
            },
            "type": "carpet"
           }
          ],
          "choropleth": [
           {
            "colorbar": {
             "outlinewidth": 0,
             "ticks": ""
            },
            "type": "choropleth"
           }
          ],
          "contour": [
           {
            "colorbar": {
             "outlinewidth": 0,
             "ticks": ""
            },
            "colorscale": [
             [
              0,
              "#0d0887"
             ],
             [
              0.1111111111111111,
              "#46039f"
             ],
             [
              0.2222222222222222,
              "#7201a8"
             ],
             [
              0.3333333333333333,
              "#9c179e"
             ],
             [
              0.4444444444444444,
              "#bd3786"
             ],
             [
              0.5555555555555556,
              "#d8576b"
             ],
             [
              0.6666666666666666,
              "#ed7953"
             ],
             [
              0.7777777777777778,
              "#fb9f3a"
             ],
             [
              0.8888888888888888,
              "#fdca26"
             ],
             [
              1,
              "#f0f921"
             ]
            ],
            "type": "contour"
           }
          ],
          "contourcarpet": [
           {
            "colorbar": {
             "outlinewidth": 0,
             "ticks": ""
            },
            "type": "contourcarpet"
           }
          ],
          "heatmap": [
           {
            "colorbar": {
             "outlinewidth": 0,
             "ticks": ""
            },
            "colorscale": [
             [
              0,
              "#0d0887"
             ],
             [
              0.1111111111111111,
              "#46039f"
             ],
             [
              0.2222222222222222,
              "#7201a8"
             ],
             [
              0.3333333333333333,
              "#9c179e"
             ],
             [
              0.4444444444444444,
              "#bd3786"
             ],
             [
              0.5555555555555556,
              "#d8576b"
             ],
             [
              0.6666666666666666,
              "#ed7953"
             ],
             [
              0.7777777777777778,
              "#fb9f3a"
             ],
             [
              0.8888888888888888,
              "#fdca26"
             ],
             [
              1,
              "#f0f921"
             ]
            ],
            "type": "heatmap"
           }
          ],
          "heatmapgl": [
           {
            "colorbar": {
             "outlinewidth": 0,
             "ticks": ""
            },
            "colorscale": [
             [
              0,
              "#0d0887"
             ],
             [
              0.1111111111111111,
              "#46039f"
             ],
             [
              0.2222222222222222,
              "#7201a8"
             ],
             [
              0.3333333333333333,
              "#9c179e"
             ],
             [
              0.4444444444444444,
              "#bd3786"
             ],
             [
              0.5555555555555556,
              "#d8576b"
             ],
             [
              0.6666666666666666,
              "#ed7953"
             ],
             [
              0.7777777777777778,
              "#fb9f3a"
             ],
             [
              0.8888888888888888,
              "#fdca26"
             ],
             [
              1,
              "#f0f921"
             ]
            ],
            "type": "heatmapgl"
           }
          ],
          "histogram": [
           {
            "marker": {
             "pattern": {
              "fillmode": "overlay",
              "size": 10,
              "solidity": 0.2
             }
            },
            "type": "histogram"
           }
          ],
          "histogram2d": [
           {
            "colorbar": {
             "outlinewidth": 0,
             "ticks": ""
            },
            "colorscale": [
             [
              0,
              "#0d0887"
             ],
             [
              0.1111111111111111,
              "#46039f"
             ],
             [
              0.2222222222222222,
              "#7201a8"
             ],
             [
              0.3333333333333333,
              "#9c179e"
             ],
             [
              0.4444444444444444,
              "#bd3786"
             ],
             [
              0.5555555555555556,
              "#d8576b"
             ],
             [
              0.6666666666666666,
              "#ed7953"
             ],
             [
              0.7777777777777778,
              "#fb9f3a"
             ],
             [
              0.8888888888888888,
              "#fdca26"
             ],
             [
              1,
              "#f0f921"
             ]
            ],
            "type": "histogram2d"
           }
          ],
          "histogram2dcontour": [
           {
            "colorbar": {
             "outlinewidth": 0,
             "ticks": ""
            },
            "colorscale": [
             [
              0,
              "#0d0887"
             ],
             [
              0.1111111111111111,
              "#46039f"
             ],
             [
              0.2222222222222222,
              "#7201a8"
             ],
             [
              0.3333333333333333,
              "#9c179e"
             ],
             [
              0.4444444444444444,
              "#bd3786"
             ],
             [
              0.5555555555555556,
              "#d8576b"
             ],
             [
              0.6666666666666666,
              "#ed7953"
             ],
             [
              0.7777777777777778,
              "#fb9f3a"
             ],
             [
              0.8888888888888888,
              "#fdca26"
             ],
             [
              1,
              "#f0f921"
             ]
            ],
            "type": "histogram2dcontour"
           }
          ],
          "mesh3d": [
           {
            "colorbar": {
             "outlinewidth": 0,
             "ticks": ""
            },
            "type": "mesh3d"
           }
          ],
          "parcoords": [
           {
            "line": {
             "colorbar": {
              "outlinewidth": 0,
              "ticks": ""
             }
            },
            "type": "parcoords"
           }
          ],
          "pie": [
           {
            "automargin": true,
            "type": "pie"
           }
          ],
          "scatter": [
           {
            "fillpattern": {
             "fillmode": "overlay",
             "size": 10,
             "solidity": 0.2
            },
            "type": "scatter"
           }
          ],
          "scatter3d": [
           {
            "line": {
             "colorbar": {
              "outlinewidth": 0,
              "ticks": ""
             }
            },
            "marker": {
             "colorbar": {
              "outlinewidth": 0,
              "ticks": ""
             }
            },
            "type": "scatter3d"
           }
          ],
          "scattercarpet": [
           {
            "marker": {
             "colorbar": {
              "outlinewidth": 0,
              "ticks": ""
             }
            },
            "type": "scattercarpet"
           }
          ],
          "scattergeo": [
           {
            "marker": {
             "colorbar": {
              "outlinewidth": 0,
              "ticks": ""
             }
            },
            "type": "scattergeo"
           }
          ],
          "scattergl": [
           {
            "marker": {
             "colorbar": {
              "outlinewidth": 0,
              "ticks": ""
             }
            },
            "type": "scattergl"
           }
          ],
          "scattermapbox": [
           {
            "marker": {
             "colorbar": {
              "outlinewidth": 0,
              "ticks": ""
             }
            },
            "type": "scattermapbox"
           }
          ],
          "scatterpolar": [
           {
            "marker": {
             "colorbar": {
              "outlinewidth": 0,
              "ticks": ""
             }
            },
            "type": "scatterpolar"
           }
          ],
          "scatterpolargl": [
           {
            "marker": {
             "colorbar": {
              "outlinewidth": 0,
              "ticks": ""
             }
            },
            "type": "scatterpolargl"
           }
          ],
          "scatterternary": [
           {
            "marker": {
             "colorbar": {
              "outlinewidth": 0,
              "ticks": ""
             }
            },
            "type": "scatterternary"
           }
          ],
          "surface": [
           {
            "colorbar": {
             "outlinewidth": 0,
             "ticks": ""
            },
            "colorscale": [
             [
              0,
              "#0d0887"
             ],
             [
              0.1111111111111111,
              "#46039f"
             ],
             [
              0.2222222222222222,
              "#7201a8"
             ],
             [
              0.3333333333333333,
              "#9c179e"
             ],
             [
              0.4444444444444444,
              "#bd3786"
             ],
             [
              0.5555555555555556,
              "#d8576b"
             ],
             [
              0.6666666666666666,
              "#ed7953"
             ],
             [
              0.7777777777777778,
              "#fb9f3a"
             ],
             [
              0.8888888888888888,
              "#fdca26"
             ],
             [
              1,
              "#f0f921"
             ]
            ],
            "type": "surface"
           }
          ],
          "table": [
           {
            "cells": {
             "fill": {
              "color": "#EBF0F8"
             },
             "line": {
              "color": "white"
             }
            },
            "header": {
             "fill": {
              "color": "#C8D4E3"
             },
             "line": {
              "color": "white"
             }
            },
            "type": "table"
           }
          ]
         },
         "layout": {
          "annotationdefaults": {
           "arrowcolor": "#2a3f5f",
           "arrowhead": 0,
           "arrowwidth": 1
          },
          "autotypenumbers": "strict",
          "coloraxis": {
           "colorbar": {
            "outlinewidth": 0,
            "ticks": ""
           }
          },
          "colorscale": {
           "diverging": [
            [
             0,
             "#8e0152"
            ],
            [
             0.1,
             "#c51b7d"
            ],
            [
             0.2,
             "#de77ae"
            ],
            [
             0.3,
             "#f1b6da"
            ],
            [
             0.4,
             "#fde0ef"
            ],
            [
             0.5,
             "#f7f7f7"
            ],
            [
             0.6,
             "#e6f5d0"
            ],
            [
             0.7,
             "#b8e186"
            ],
            [
             0.8,
             "#7fbc41"
            ],
            [
             0.9,
             "#4d9221"
            ],
            [
             1,
             "#276419"
            ]
           ],
           "sequential": [
            [
             0,
             "#0d0887"
            ],
            [
             0.1111111111111111,
             "#46039f"
            ],
            [
             0.2222222222222222,
             "#7201a8"
            ],
            [
             0.3333333333333333,
             "#9c179e"
            ],
            [
             0.4444444444444444,
             "#bd3786"
            ],
            [
             0.5555555555555556,
             "#d8576b"
            ],
            [
             0.6666666666666666,
             "#ed7953"
            ],
            [
             0.7777777777777778,
             "#fb9f3a"
            ],
            [
             0.8888888888888888,
             "#fdca26"
            ],
            [
             1,
             "#f0f921"
            ]
           ],
           "sequentialminus": [
            [
             0,
             "#0d0887"
            ],
            [
             0.1111111111111111,
             "#46039f"
            ],
            [
             0.2222222222222222,
             "#7201a8"
            ],
            [
             0.3333333333333333,
             "#9c179e"
            ],
            [
             0.4444444444444444,
             "#bd3786"
            ],
            [
             0.5555555555555556,
             "#d8576b"
            ],
            [
             0.6666666666666666,
             "#ed7953"
            ],
            [
             0.7777777777777778,
             "#fb9f3a"
            ],
            [
             0.8888888888888888,
             "#fdca26"
            ],
            [
             1,
             "#f0f921"
            ]
           ]
          },
          "colorway": [
           "#636efa",
           "#EF553B",
           "#00cc96",
           "#ab63fa",
           "#FFA15A",
           "#19d3f3",
           "#FF6692",
           "#B6E880",
           "#FF97FF",
           "#FECB52"
          ],
          "font": {
           "color": "#2a3f5f"
          },
          "geo": {
           "bgcolor": "white",
           "lakecolor": "white",
           "landcolor": "#E5ECF6",
           "showlakes": true,
           "showland": true,
           "subunitcolor": "white"
          },
          "hoverlabel": {
           "align": "left"
          },
          "hovermode": "closest",
          "mapbox": {
           "style": "light"
          },
          "paper_bgcolor": "white",
          "plot_bgcolor": "#E5ECF6",
          "polar": {
           "angularaxis": {
            "gridcolor": "white",
            "linecolor": "white",
            "ticks": ""
           },
           "bgcolor": "#E5ECF6",
           "radialaxis": {
            "gridcolor": "white",
            "linecolor": "white",
            "ticks": ""
           }
          },
          "scene": {
           "xaxis": {
            "backgroundcolor": "#E5ECF6",
            "gridcolor": "white",
            "gridwidth": 2,
            "linecolor": "white",
            "showbackground": true,
            "ticks": "",
            "zerolinecolor": "white"
           },
           "yaxis": {
            "backgroundcolor": "#E5ECF6",
            "gridcolor": "white",
            "gridwidth": 2,
            "linecolor": "white",
            "showbackground": true,
            "ticks": "",
            "zerolinecolor": "white"
           },
           "zaxis": {
            "backgroundcolor": "#E5ECF6",
            "gridcolor": "white",
            "gridwidth": 2,
            "linecolor": "white",
            "showbackground": true,
            "ticks": "",
            "zerolinecolor": "white"
           }
          },
          "shapedefaults": {
           "line": {
            "color": "#2a3f5f"
           }
          },
          "ternary": {
           "aaxis": {
            "gridcolor": "white",
            "linecolor": "white",
            "ticks": ""
           },
           "baxis": {
            "gridcolor": "white",
            "linecolor": "white",
            "ticks": ""
           },
           "bgcolor": "#E5ECF6",
           "caxis": {
            "gridcolor": "white",
            "linecolor": "white",
            "ticks": ""
           }
          },
          "title": {
           "x": 0.05
          },
          "xaxis": {
           "automargin": true,
           "gridcolor": "white",
           "linecolor": "white",
           "ticks": "",
           "title": {
            "standoff": 15
           },
           "zerolinecolor": "white",
           "zerolinewidth": 2
          },
          "yaxis": {
           "automargin": true,
           "gridcolor": "white",
           "linecolor": "white",
           "ticks": "",
           "title": {
            "standoff": 15
           },
           "zerolinecolor": "white",
           "zerolinewidth": 2
          }
         }
        },
        "xaxis": {
         "anchor": "y",
         "domain": [
          0,
          1
         ],
         "title": {
          "text": "film_release_year"
         }
        },
        "yaxis": {
         "anchor": "x",
         "domain": [
          0,
          1
         ],
         "title": {
          "text": "film_title"
         }
        }
       }
      }
     },
     "metadata": {},
     "output_type": "display_data"
    }
   ],
   "source": [
    "fig = px.scatter(data,x='film_release_year',y='film_title',size='actress_age',\n",
    "                color='director_name')\n",
    "fig.show()"
   ]
  },
  {
   "cell_type": "markdown",
   "id": "3be002a8",
   "metadata": {},
   "source": [
    "# Pie Chart"
   ]
  },
  {
   "cell_type": "code",
   "execution_count": 13,
   "id": "ff6a42c9",
   "metadata": {},
   "outputs": [
    {
     "data": {
      "text/html": [
       "<div>\n",
       "<style scoped>\n",
       "    .dataframe tbody tr th:only-of-type {\n",
       "        vertical-align: middle;\n",
       "    }\n",
       "\n",
       "    .dataframe tbody tr th {\n",
       "        vertical-align: top;\n",
       "    }\n",
       "\n",
       "    .dataframe thead th {\n",
       "        text-align: right;\n",
       "    }\n",
       "</style>\n",
       "<table border=\"1\" class=\"dataframe\">\n",
       "  <thead>\n",
       "    <tr style=\"text-align: right;\">\n",
       "      <th></th>\n",
       "      <th>bond_girl_name</th>\n",
       "      <th>actress_age</th>\n",
       "      <th>film_title</th>\n",
       "      <th>film_release_year</th>\n",
       "      <th>bond_actor</th>\n",
       "      <th>bond_actor_age</th>\n",
       "      <th>director_name</th>\n",
       "      <th>box_office_actual_$</th>\n",
       "      <th>box_office_adjusted_2005_$</th>\n",
       "      <th>budget_actual_$</th>\n",
       "      <th>budget_adjusted_2005_$</th>\n",
       "    </tr>\n",
       "  </thead>\n",
       "  <tbody>\n",
       "    <tr>\n",
       "      <th>0</th>\n",
       "      <td>Ursula Andress</td>\n",
       "      <td>26</td>\n",
       "      <td>Dr. No</td>\n",
       "      <td>1962</td>\n",
       "      <td>Sean Connery</td>\n",
       "      <td>32</td>\n",
       "      <td>Terence Young</td>\n",
       "      <td>59.5</td>\n",
       "      <td>448.8</td>\n",
       "      <td>1.1</td>\n",
       "      <td>7.0</td>\n",
       "    </tr>\n",
       "  </tbody>\n",
       "</table>\n",
       "</div>"
      ],
      "text/plain": [
       "   bond_girl_name  actress_age film_title  film_release_year    bond_actor  \\\n",
       "0  Ursula Andress           26     Dr. No               1962  Sean Connery   \n",
       "\n",
       "   bond_actor_age  director_name  box_office_actual_$  \\\n",
       "0              32  Terence Young                 59.5   \n",
       "\n",
       "   box_office_adjusted_2005_$ budget_actual_$ budget_adjusted_2005_$  \n",
       "0                       448.8             1.1                    7.0  "
      ]
     },
     "execution_count": 13,
     "metadata": {},
     "output_type": "execute_result"
    }
   ],
   "source": [
    "data.head(1)"
   ]
  },
  {
   "cell_type": "code",
   "execution_count": 14,
   "id": "a7ea03bb",
   "metadata": {},
   "outputs": [
    {
     "data": {
      "application/vnd.plotly.v1+json": {
       "config": {
        "plotlyServerURL": "https://plot.ly"
       },
       "data": [
        {
         "domain": {
          "x": [
           0,
           1
          ],
          "y": [
           0,
           1
          ]
         },
         "hovertemplate": "actress_age=%{label}<br>budget_actual_$=%{value}<extra></extra>",
         "labels": [
          26,
          36,
          35,
          21,
          24,
          23,
          39,
          27,
          23,
          33,
          21,
          24,
          28,
          23,
          22,
          24,
          28,
          31,
          29,
          31,
          24,
          25,
          31,
          25,
          24,
          36,
          22,
          24,
          24,
          32,
          38,
          24,
          30,
          28,
          33,
          32,
          29,
          28,
          24,
          23,
          33,
          33,
          30,
          37,
          29,
          27,
          28,
          22,
          25,
          31,
          32,
          35,
          33,
          23,
          28,
          33,
          38,
          36,
          23,
          25,
          26,
          29,
          29,
          22,
          33,
          25,
          51,
          30,
          36,
          34,
          33
         ],
         "legendgroup": "",
         "name": "",
         "showlegend": true,
         "type": "pie",
         "values": [
          "1.1",
          "1.1",
          "2.0",
          "2.0",
          "6.8",
          "2.0",
          "3.0",
          "3.0",
          "3.0",
          "3.0",
          "3.0",
          "6.8",
          "6.8",
          "6.8",
          "6.8",
          "10.3",
          "10.3",
          "10.3",
          "10.3",
          "7.0",
          "7.0",
          "7.0",
          "7.2",
          "7.2",
          "7.2",
          "7.2",
          "7.0",
          "7.0",
          "7.0",
          "7.0",
          "27.5",
          "7.0",
          "14.0",
          "14.0",
          "14.0",
          "34.0",
          "34.0",
          "34.0",
          "28.0",
          "28.0",
          "28.0",
          "27.5",
          "30.0",
          "30.0",
          "30.0",
          "40.0",
          "36.0",
          "36.0",
          "60.0",
          "60.0",
          "60.0",
          "110.0",
          "110.0",
          "110.0",
          "135.0",
          "135.0",
          "135.0",
          "142.0",
          "142.0",
          "142.0",
          "150.0",
          "150.0",
          "200.0",
          "200.0",
          "150.0–200.0",
          "150.0–200.0",
          "245.0–250.0[b]",
          "245.0–250.0[b]",
          "250.0–301.0",
          "250.0–301.0",
          "250.0–301.0"
         ]
        }
       ],
       "layout": {
        "legend": {
         "tracegroupgap": 0
        },
        "margin": {
         "t": 60
        },
        "template": {
         "data": {
          "bar": [
           {
            "error_x": {
             "color": "#2a3f5f"
            },
            "error_y": {
             "color": "#2a3f5f"
            },
            "marker": {
             "line": {
              "color": "#E5ECF6",
              "width": 0.5
             },
             "pattern": {
              "fillmode": "overlay",
              "size": 10,
              "solidity": 0.2
             }
            },
            "type": "bar"
           }
          ],
          "barpolar": [
           {
            "marker": {
             "line": {
              "color": "#E5ECF6",
              "width": 0.5
             },
             "pattern": {
              "fillmode": "overlay",
              "size": 10,
              "solidity": 0.2
             }
            },
            "type": "barpolar"
           }
          ],
          "carpet": [
           {
            "aaxis": {
             "endlinecolor": "#2a3f5f",
             "gridcolor": "white",
             "linecolor": "white",
             "minorgridcolor": "white",
             "startlinecolor": "#2a3f5f"
            },
            "baxis": {
             "endlinecolor": "#2a3f5f",
             "gridcolor": "white",
             "linecolor": "white",
             "minorgridcolor": "white",
             "startlinecolor": "#2a3f5f"
            },
            "type": "carpet"
           }
          ],
          "choropleth": [
           {
            "colorbar": {
             "outlinewidth": 0,
             "ticks": ""
            },
            "type": "choropleth"
           }
          ],
          "contour": [
           {
            "colorbar": {
             "outlinewidth": 0,
             "ticks": ""
            },
            "colorscale": [
             [
              0,
              "#0d0887"
             ],
             [
              0.1111111111111111,
              "#46039f"
             ],
             [
              0.2222222222222222,
              "#7201a8"
             ],
             [
              0.3333333333333333,
              "#9c179e"
             ],
             [
              0.4444444444444444,
              "#bd3786"
             ],
             [
              0.5555555555555556,
              "#d8576b"
             ],
             [
              0.6666666666666666,
              "#ed7953"
             ],
             [
              0.7777777777777778,
              "#fb9f3a"
             ],
             [
              0.8888888888888888,
              "#fdca26"
             ],
             [
              1,
              "#f0f921"
             ]
            ],
            "type": "contour"
           }
          ],
          "contourcarpet": [
           {
            "colorbar": {
             "outlinewidth": 0,
             "ticks": ""
            },
            "type": "contourcarpet"
           }
          ],
          "heatmap": [
           {
            "colorbar": {
             "outlinewidth": 0,
             "ticks": ""
            },
            "colorscale": [
             [
              0,
              "#0d0887"
             ],
             [
              0.1111111111111111,
              "#46039f"
             ],
             [
              0.2222222222222222,
              "#7201a8"
             ],
             [
              0.3333333333333333,
              "#9c179e"
             ],
             [
              0.4444444444444444,
              "#bd3786"
             ],
             [
              0.5555555555555556,
              "#d8576b"
             ],
             [
              0.6666666666666666,
              "#ed7953"
             ],
             [
              0.7777777777777778,
              "#fb9f3a"
             ],
             [
              0.8888888888888888,
              "#fdca26"
             ],
             [
              1,
              "#f0f921"
             ]
            ],
            "type": "heatmap"
           }
          ],
          "heatmapgl": [
           {
            "colorbar": {
             "outlinewidth": 0,
             "ticks": ""
            },
            "colorscale": [
             [
              0,
              "#0d0887"
             ],
             [
              0.1111111111111111,
              "#46039f"
             ],
             [
              0.2222222222222222,
              "#7201a8"
             ],
             [
              0.3333333333333333,
              "#9c179e"
             ],
             [
              0.4444444444444444,
              "#bd3786"
             ],
             [
              0.5555555555555556,
              "#d8576b"
             ],
             [
              0.6666666666666666,
              "#ed7953"
             ],
             [
              0.7777777777777778,
              "#fb9f3a"
             ],
             [
              0.8888888888888888,
              "#fdca26"
             ],
             [
              1,
              "#f0f921"
             ]
            ],
            "type": "heatmapgl"
           }
          ],
          "histogram": [
           {
            "marker": {
             "pattern": {
              "fillmode": "overlay",
              "size": 10,
              "solidity": 0.2
             }
            },
            "type": "histogram"
           }
          ],
          "histogram2d": [
           {
            "colorbar": {
             "outlinewidth": 0,
             "ticks": ""
            },
            "colorscale": [
             [
              0,
              "#0d0887"
             ],
             [
              0.1111111111111111,
              "#46039f"
             ],
             [
              0.2222222222222222,
              "#7201a8"
             ],
             [
              0.3333333333333333,
              "#9c179e"
             ],
             [
              0.4444444444444444,
              "#bd3786"
             ],
             [
              0.5555555555555556,
              "#d8576b"
             ],
             [
              0.6666666666666666,
              "#ed7953"
             ],
             [
              0.7777777777777778,
              "#fb9f3a"
             ],
             [
              0.8888888888888888,
              "#fdca26"
             ],
             [
              1,
              "#f0f921"
             ]
            ],
            "type": "histogram2d"
           }
          ],
          "histogram2dcontour": [
           {
            "colorbar": {
             "outlinewidth": 0,
             "ticks": ""
            },
            "colorscale": [
             [
              0,
              "#0d0887"
             ],
             [
              0.1111111111111111,
              "#46039f"
             ],
             [
              0.2222222222222222,
              "#7201a8"
             ],
             [
              0.3333333333333333,
              "#9c179e"
             ],
             [
              0.4444444444444444,
              "#bd3786"
             ],
             [
              0.5555555555555556,
              "#d8576b"
             ],
             [
              0.6666666666666666,
              "#ed7953"
             ],
             [
              0.7777777777777778,
              "#fb9f3a"
             ],
             [
              0.8888888888888888,
              "#fdca26"
             ],
             [
              1,
              "#f0f921"
             ]
            ],
            "type": "histogram2dcontour"
           }
          ],
          "mesh3d": [
           {
            "colorbar": {
             "outlinewidth": 0,
             "ticks": ""
            },
            "type": "mesh3d"
           }
          ],
          "parcoords": [
           {
            "line": {
             "colorbar": {
              "outlinewidth": 0,
              "ticks": ""
             }
            },
            "type": "parcoords"
           }
          ],
          "pie": [
           {
            "automargin": true,
            "type": "pie"
           }
          ],
          "scatter": [
           {
            "fillpattern": {
             "fillmode": "overlay",
             "size": 10,
             "solidity": 0.2
            },
            "type": "scatter"
           }
          ],
          "scatter3d": [
           {
            "line": {
             "colorbar": {
              "outlinewidth": 0,
              "ticks": ""
             }
            },
            "marker": {
             "colorbar": {
              "outlinewidth": 0,
              "ticks": ""
             }
            },
            "type": "scatter3d"
           }
          ],
          "scattercarpet": [
           {
            "marker": {
             "colorbar": {
              "outlinewidth": 0,
              "ticks": ""
             }
            },
            "type": "scattercarpet"
           }
          ],
          "scattergeo": [
           {
            "marker": {
             "colorbar": {
              "outlinewidth": 0,
              "ticks": ""
             }
            },
            "type": "scattergeo"
           }
          ],
          "scattergl": [
           {
            "marker": {
             "colorbar": {
              "outlinewidth": 0,
              "ticks": ""
             }
            },
            "type": "scattergl"
           }
          ],
          "scattermapbox": [
           {
            "marker": {
             "colorbar": {
              "outlinewidth": 0,
              "ticks": ""
             }
            },
            "type": "scattermapbox"
           }
          ],
          "scatterpolar": [
           {
            "marker": {
             "colorbar": {
              "outlinewidth": 0,
              "ticks": ""
             }
            },
            "type": "scatterpolar"
           }
          ],
          "scatterpolargl": [
           {
            "marker": {
             "colorbar": {
              "outlinewidth": 0,
              "ticks": ""
             }
            },
            "type": "scatterpolargl"
           }
          ],
          "scatterternary": [
           {
            "marker": {
             "colorbar": {
              "outlinewidth": 0,
              "ticks": ""
             }
            },
            "type": "scatterternary"
           }
          ],
          "surface": [
           {
            "colorbar": {
             "outlinewidth": 0,
             "ticks": ""
            },
            "colorscale": [
             [
              0,
              "#0d0887"
             ],
             [
              0.1111111111111111,
              "#46039f"
             ],
             [
              0.2222222222222222,
              "#7201a8"
             ],
             [
              0.3333333333333333,
              "#9c179e"
             ],
             [
              0.4444444444444444,
              "#bd3786"
             ],
             [
              0.5555555555555556,
              "#d8576b"
             ],
             [
              0.6666666666666666,
              "#ed7953"
             ],
             [
              0.7777777777777778,
              "#fb9f3a"
             ],
             [
              0.8888888888888888,
              "#fdca26"
             ],
             [
              1,
              "#f0f921"
             ]
            ],
            "type": "surface"
           }
          ],
          "table": [
           {
            "cells": {
             "fill": {
              "color": "#EBF0F8"
             },
             "line": {
              "color": "white"
             }
            },
            "header": {
             "fill": {
              "color": "#C8D4E3"
             },
             "line": {
              "color": "white"
             }
            },
            "type": "table"
           }
          ]
         },
         "layout": {
          "annotationdefaults": {
           "arrowcolor": "#2a3f5f",
           "arrowhead": 0,
           "arrowwidth": 1
          },
          "autotypenumbers": "strict",
          "coloraxis": {
           "colorbar": {
            "outlinewidth": 0,
            "ticks": ""
           }
          },
          "colorscale": {
           "diverging": [
            [
             0,
             "#8e0152"
            ],
            [
             0.1,
             "#c51b7d"
            ],
            [
             0.2,
             "#de77ae"
            ],
            [
             0.3,
             "#f1b6da"
            ],
            [
             0.4,
             "#fde0ef"
            ],
            [
             0.5,
             "#f7f7f7"
            ],
            [
             0.6,
             "#e6f5d0"
            ],
            [
             0.7,
             "#b8e186"
            ],
            [
             0.8,
             "#7fbc41"
            ],
            [
             0.9,
             "#4d9221"
            ],
            [
             1,
             "#276419"
            ]
           ],
           "sequential": [
            [
             0,
             "#0d0887"
            ],
            [
             0.1111111111111111,
             "#46039f"
            ],
            [
             0.2222222222222222,
             "#7201a8"
            ],
            [
             0.3333333333333333,
             "#9c179e"
            ],
            [
             0.4444444444444444,
             "#bd3786"
            ],
            [
             0.5555555555555556,
             "#d8576b"
            ],
            [
             0.6666666666666666,
             "#ed7953"
            ],
            [
             0.7777777777777778,
             "#fb9f3a"
            ],
            [
             0.8888888888888888,
             "#fdca26"
            ],
            [
             1,
             "#f0f921"
            ]
           ],
           "sequentialminus": [
            [
             0,
             "#0d0887"
            ],
            [
             0.1111111111111111,
             "#46039f"
            ],
            [
             0.2222222222222222,
             "#7201a8"
            ],
            [
             0.3333333333333333,
             "#9c179e"
            ],
            [
             0.4444444444444444,
             "#bd3786"
            ],
            [
             0.5555555555555556,
             "#d8576b"
            ],
            [
             0.6666666666666666,
             "#ed7953"
            ],
            [
             0.7777777777777778,
             "#fb9f3a"
            ],
            [
             0.8888888888888888,
             "#fdca26"
            ],
            [
             1,
             "#f0f921"
            ]
           ]
          },
          "colorway": [
           "#636efa",
           "#EF553B",
           "#00cc96",
           "#ab63fa",
           "#FFA15A",
           "#19d3f3",
           "#FF6692",
           "#B6E880",
           "#FF97FF",
           "#FECB52"
          ],
          "font": {
           "color": "#2a3f5f"
          },
          "geo": {
           "bgcolor": "white",
           "lakecolor": "white",
           "landcolor": "#E5ECF6",
           "showlakes": true,
           "showland": true,
           "subunitcolor": "white"
          },
          "hoverlabel": {
           "align": "left"
          },
          "hovermode": "closest",
          "mapbox": {
           "style": "light"
          },
          "paper_bgcolor": "white",
          "plot_bgcolor": "#E5ECF6",
          "polar": {
           "angularaxis": {
            "gridcolor": "white",
            "linecolor": "white",
            "ticks": ""
           },
           "bgcolor": "#E5ECF6",
           "radialaxis": {
            "gridcolor": "white",
            "linecolor": "white",
            "ticks": ""
           }
          },
          "scene": {
           "xaxis": {
            "backgroundcolor": "#E5ECF6",
            "gridcolor": "white",
            "gridwidth": 2,
            "linecolor": "white",
            "showbackground": true,
            "ticks": "",
            "zerolinecolor": "white"
           },
           "yaxis": {
            "backgroundcolor": "#E5ECF6",
            "gridcolor": "white",
            "gridwidth": 2,
            "linecolor": "white",
            "showbackground": true,
            "ticks": "",
            "zerolinecolor": "white"
           },
           "zaxis": {
            "backgroundcolor": "#E5ECF6",
            "gridcolor": "white",
            "gridwidth": 2,
            "linecolor": "white",
            "showbackground": true,
            "ticks": "",
            "zerolinecolor": "white"
           }
          },
          "shapedefaults": {
           "line": {
            "color": "#2a3f5f"
           }
          },
          "ternary": {
           "aaxis": {
            "gridcolor": "white",
            "linecolor": "white",
            "ticks": ""
           },
           "baxis": {
            "gridcolor": "white",
            "linecolor": "white",
            "ticks": ""
           },
           "bgcolor": "#E5ECF6",
           "caxis": {
            "gridcolor": "white",
            "linecolor": "white",
            "ticks": ""
           }
          },
          "title": {
           "x": 0.05
          },
          "xaxis": {
           "automargin": true,
           "gridcolor": "white",
           "linecolor": "white",
           "ticks": "",
           "title": {
            "standoff": 15
           },
           "zerolinecolor": "white",
           "zerolinewidth": 2
          },
          "yaxis": {
           "automargin": true,
           "gridcolor": "white",
           "linecolor": "white",
           "ticks": "",
           "title": {
            "standoff": 15
           },
           "zerolinecolor": "white",
           "zerolinewidth": 2
          }
         }
        }
       }
      }
     },
     "metadata": {},
     "output_type": "display_data"
    }
   ],
   "source": [
    "fig=px.pie(data,values='budget_actual_$',names='actress_age')\n",
    "fig.show()"
   ]
  },
  {
   "cell_type": "markdown",
   "id": "17dbd603",
   "metadata": {},
   "source": [
    "# Box Plot"
   ]
  },
  {
   "cell_type": "code",
   "execution_count": 15,
   "id": "0ad8d157",
   "metadata": {},
   "outputs": [
    {
     "data": {
      "text/html": [
       "<div>\n",
       "<style scoped>\n",
       "    .dataframe tbody tr th:only-of-type {\n",
       "        vertical-align: middle;\n",
       "    }\n",
       "\n",
       "    .dataframe tbody tr th {\n",
       "        vertical-align: top;\n",
       "    }\n",
       "\n",
       "    .dataframe thead th {\n",
       "        text-align: right;\n",
       "    }\n",
       "</style>\n",
       "<table border=\"1\" class=\"dataframe\">\n",
       "  <thead>\n",
       "    <tr style=\"text-align: right;\">\n",
       "      <th></th>\n",
       "      <th>bond_girl_name</th>\n",
       "      <th>actress_age</th>\n",
       "      <th>film_title</th>\n",
       "      <th>film_release_year</th>\n",
       "      <th>bond_actor</th>\n",
       "      <th>bond_actor_age</th>\n",
       "      <th>director_name</th>\n",
       "      <th>box_office_actual_$</th>\n",
       "      <th>box_office_adjusted_2005_$</th>\n",
       "      <th>budget_actual_$</th>\n",
       "      <th>budget_adjusted_2005_$</th>\n",
       "    </tr>\n",
       "  </thead>\n",
       "  <tbody>\n",
       "    <tr>\n",
       "      <th>0</th>\n",
       "      <td>Ursula Andress</td>\n",
       "      <td>26</td>\n",
       "      <td>Dr. No</td>\n",
       "      <td>1962</td>\n",
       "      <td>Sean Connery</td>\n",
       "      <td>32</td>\n",
       "      <td>Terence Young</td>\n",
       "      <td>59.5</td>\n",
       "      <td>448.8</td>\n",
       "      <td>1.1</td>\n",
       "      <td>7.0</td>\n",
       "    </tr>\n",
       "  </tbody>\n",
       "</table>\n",
       "</div>"
      ],
      "text/plain": [
       "   bond_girl_name  actress_age film_title  film_release_year    bond_actor  \\\n",
       "0  Ursula Andress           26     Dr. No               1962  Sean Connery   \n",
       "\n",
       "   bond_actor_age  director_name  box_office_actual_$  \\\n",
       "0              32  Terence Young                 59.5   \n",
       "\n",
       "   box_office_adjusted_2005_$ budget_actual_$ budget_adjusted_2005_$  \n",
       "0                       448.8             1.1                    7.0  "
      ]
     },
     "execution_count": 15,
     "metadata": {},
     "output_type": "execute_result"
    }
   ],
   "source": [
    "data.head(1)"
   ]
  },
  {
   "cell_type": "code",
   "execution_count": 16,
   "id": "2189a8b0",
   "metadata": {
    "scrolled": true
   },
   "outputs": [
    {
     "data": {
      "application/vnd.plotly.v1+json": {
       "config": {
        "plotlyServerURL": "https://plot.ly"
       },
       "data": [
        {
         "alignmentgroup": "True",
         "hovertemplate": "director_name=%{x}<br>actress_age=%{y}<extra></extra>",
         "legendgroup": "",
         "marker": {
          "color": "#636efa"
         },
         "name": "",
         "notched": false,
         "offsetgroup": "",
         "orientation": "v",
         "showlegend": false,
         "type": "box",
         "x": [
          "Terence Young",
          "Terence Young",
          "Terence Young",
          "Terence Young",
          "Terence Young",
          "Terence Young",
          "Guy Hamilton",
          "Guy Hamilton",
          "Guy Hamilton",
          "Guy Hamilton",
          "Guy Hamilton",
          "Terence Young",
          "Terence Young",
          "Terence Young",
          "Terence Young",
          "Lewis Gilbert",
          "Lewis Gilbert",
          "Lewis Gilbert",
          "Lewis Gilbert",
          "Peter R. Hunt",
          "Peter R. Hunt",
          "Peter R. Hunt",
          "Guy Hamilton",
          "Guy Hamilton",
          "Guy Hamilton",
          "Guy Hamilton",
          "Guy Hamilton",
          "Guy Hamilton",
          "Guy Hamilton",
          "Guy Hamilton",
          "John Glen",
          "Guy Hamilton",
          "Lewis Gilbert",
          "Lewis Gilbert",
          "Lewis Gilbert",
          "Lewis Gilbert",
          "Lewis Gilbert",
          "Lewis Gilbert",
          "John Glen",
          "John Glen",
          "John Glen",
          "John Glen",
          "John Glen",
          "John Glen",
          "John Glen",
          "John Glen",
          "John Glen",
          "John Glen",
          "Martin Campbell",
          "Martin Campbell",
          "Martin Campbell",
          "Roger Spottiswoode",
          "Roger Spottiswoode",
          "Roger Spottiswoode",
          "Michael Apted",
          "Michael Apted",
          "Michael Apted",
          "Lee Tamahori",
          "Lee Tamahori",
          "Lee Tamahori",
          "Martin Campbell",
          "Martin Campbell",
          "Marc Forster",
          "Marc Forster",
          "Sam Mendes",
          "Sam Mendes",
          "Sam Mendes",
          "Sam Mendes",
          "Cary Joji Fukunaga",
          "Cary Joji Fukunaga",
          "Cary Joji Fukunaga"
         ],
         "x0": " ",
         "xaxis": "x",
         "y": [
          26,
          36,
          35,
          21,
          24,
          23,
          39,
          27,
          23,
          33,
          21,
          24,
          28,
          23,
          22,
          24,
          28,
          31,
          29,
          31,
          24,
          25,
          31,
          25,
          24,
          36,
          22,
          24,
          24,
          32,
          38,
          24,
          30,
          28,
          33,
          32,
          29,
          28,
          24,
          23,
          33,
          33,
          30,
          37,
          29,
          27,
          28,
          22,
          25,
          31,
          32,
          35,
          33,
          23,
          28,
          33,
          38,
          36,
          23,
          25,
          26,
          29,
          29,
          22,
          33,
          25,
          51,
          30,
          36,
          34,
          33
         ],
         "y0": " ",
         "yaxis": "y"
        }
       ],
       "layout": {
        "boxmode": "group",
        "legend": {
         "tracegroupgap": 0
        },
        "margin": {
         "t": 60
        },
        "template": {
         "data": {
          "bar": [
           {
            "error_x": {
             "color": "#2a3f5f"
            },
            "error_y": {
             "color": "#2a3f5f"
            },
            "marker": {
             "line": {
              "color": "#E5ECF6",
              "width": 0.5
             },
             "pattern": {
              "fillmode": "overlay",
              "size": 10,
              "solidity": 0.2
             }
            },
            "type": "bar"
           }
          ],
          "barpolar": [
           {
            "marker": {
             "line": {
              "color": "#E5ECF6",
              "width": 0.5
             },
             "pattern": {
              "fillmode": "overlay",
              "size": 10,
              "solidity": 0.2
             }
            },
            "type": "barpolar"
           }
          ],
          "carpet": [
           {
            "aaxis": {
             "endlinecolor": "#2a3f5f",
             "gridcolor": "white",
             "linecolor": "white",
             "minorgridcolor": "white",
             "startlinecolor": "#2a3f5f"
            },
            "baxis": {
             "endlinecolor": "#2a3f5f",
             "gridcolor": "white",
             "linecolor": "white",
             "minorgridcolor": "white",
             "startlinecolor": "#2a3f5f"
            },
            "type": "carpet"
           }
          ],
          "choropleth": [
           {
            "colorbar": {
             "outlinewidth": 0,
             "ticks": ""
            },
            "type": "choropleth"
           }
          ],
          "contour": [
           {
            "colorbar": {
             "outlinewidth": 0,
             "ticks": ""
            },
            "colorscale": [
             [
              0,
              "#0d0887"
             ],
             [
              0.1111111111111111,
              "#46039f"
             ],
             [
              0.2222222222222222,
              "#7201a8"
             ],
             [
              0.3333333333333333,
              "#9c179e"
             ],
             [
              0.4444444444444444,
              "#bd3786"
             ],
             [
              0.5555555555555556,
              "#d8576b"
             ],
             [
              0.6666666666666666,
              "#ed7953"
             ],
             [
              0.7777777777777778,
              "#fb9f3a"
             ],
             [
              0.8888888888888888,
              "#fdca26"
             ],
             [
              1,
              "#f0f921"
             ]
            ],
            "type": "contour"
           }
          ],
          "contourcarpet": [
           {
            "colorbar": {
             "outlinewidth": 0,
             "ticks": ""
            },
            "type": "contourcarpet"
           }
          ],
          "heatmap": [
           {
            "colorbar": {
             "outlinewidth": 0,
             "ticks": ""
            },
            "colorscale": [
             [
              0,
              "#0d0887"
             ],
             [
              0.1111111111111111,
              "#46039f"
             ],
             [
              0.2222222222222222,
              "#7201a8"
             ],
             [
              0.3333333333333333,
              "#9c179e"
             ],
             [
              0.4444444444444444,
              "#bd3786"
             ],
             [
              0.5555555555555556,
              "#d8576b"
             ],
             [
              0.6666666666666666,
              "#ed7953"
             ],
             [
              0.7777777777777778,
              "#fb9f3a"
             ],
             [
              0.8888888888888888,
              "#fdca26"
             ],
             [
              1,
              "#f0f921"
             ]
            ],
            "type": "heatmap"
           }
          ],
          "heatmapgl": [
           {
            "colorbar": {
             "outlinewidth": 0,
             "ticks": ""
            },
            "colorscale": [
             [
              0,
              "#0d0887"
             ],
             [
              0.1111111111111111,
              "#46039f"
             ],
             [
              0.2222222222222222,
              "#7201a8"
             ],
             [
              0.3333333333333333,
              "#9c179e"
             ],
             [
              0.4444444444444444,
              "#bd3786"
             ],
             [
              0.5555555555555556,
              "#d8576b"
             ],
             [
              0.6666666666666666,
              "#ed7953"
             ],
             [
              0.7777777777777778,
              "#fb9f3a"
             ],
             [
              0.8888888888888888,
              "#fdca26"
             ],
             [
              1,
              "#f0f921"
             ]
            ],
            "type": "heatmapgl"
           }
          ],
          "histogram": [
           {
            "marker": {
             "pattern": {
              "fillmode": "overlay",
              "size": 10,
              "solidity": 0.2
             }
            },
            "type": "histogram"
           }
          ],
          "histogram2d": [
           {
            "colorbar": {
             "outlinewidth": 0,
             "ticks": ""
            },
            "colorscale": [
             [
              0,
              "#0d0887"
             ],
             [
              0.1111111111111111,
              "#46039f"
             ],
             [
              0.2222222222222222,
              "#7201a8"
             ],
             [
              0.3333333333333333,
              "#9c179e"
             ],
             [
              0.4444444444444444,
              "#bd3786"
             ],
             [
              0.5555555555555556,
              "#d8576b"
             ],
             [
              0.6666666666666666,
              "#ed7953"
             ],
             [
              0.7777777777777778,
              "#fb9f3a"
             ],
             [
              0.8888888888888888,
              "#fdca26"
             ],
             [
              1,
              "#f0f921"
             ]
            ],
            "type": "histogram2d"
           }
          ],
          "histogram2dcontour": [
           {
            "colorbar": {
             "outlinewidth": 0,
             "ticks": ""
            },
            "colorscale": [
             [
              0,
              "#0d0887"
             ],
             [
              0.1111111111111111,
              "#46039f"
             ],
             [
              0.2222222222222222,
              "#7201a8"
             ],
             [
              0.3333333333333333,
              "#9c179e"
             ],
             [
              0.4444444444444444,
              "#bd3786"
             ],
             [
              0.5555555555555556,
              "#d8576b"
             ],
             [
              0.6666666666666666,
              "#ed7953"
             ],
             [
              0.7777777777777778,
              "#fb9f3a"
             ],
             [
              0.8888888888888888,
              "#fdca26"
             ],
             [
              1,
              "#f0f921"
             ]
            ],
            "type": "histogram2dcontour"
           }
          ],
          "mesh3d": [
           {
            "colorbar": {
             "outlinewidth": 0,
             "ticks": ""
            },
            "type": "mesh3d"
           }
          ],
          "parcoords": [
           {
            "line": {
             "colorbar": {
              "outlinewidth": 0,
              "ticks": ""
             }
            },
            "type": "parcoords"
           }
          ],
          "pie": [
           {
            "automargin": true,
            "type": "pie"
           }
          ],
          "scatter": [
           {
            "fillpattern": {
             "fillmode": "overlay",
             "size": 10,
             "solidity": 0.2
            },
            "type": "scatter"
           }
          ],
          "scatter3d": [
           {
            "line": {
             "colorbar": {
              "outlinewidth": 0,
              "ticks": ""
             }
            },
            "marker": {
             "colorbar": {
              "outlinewidth": 0,
              "ticks": ""
             }
            },
            "type": "scatter3d"
           }
          ],
          "scattercarpet": [
           {
            "marker": {
             "colorbar": {
              "outlinewidth": 0,
              "ticks": ""
             }
            },
            "type": "scattercarpet"
           }
          ],
          "scattergeo": [
           {
            "marker": {
             "colorbar": {
              "outlinewidth": 0,
              "ticks": ""
             }
            },
            "type": "scattergeo"
           }
          ],
          "scattergl": [
           {
            "marker": {
             "colorbar": {
              "outlinewidth": 0,
              "ticks": ""
             }
            },
            "type": "scattergl"
           }
          ],
          "scattermapbox": [
           {
            "marker": {
             "colorbar": {
              "outlinewidth": 0,
              "ticks": ""
             }
            },
            "type": "scattermapbox"
           }
          ],
          "scatterpolar": [
           {
            "marker": {
             "colorbar": {
              "outlinewidth": 0,
              "ticks": ""
             }
            },
            "type": "scatterpolar"
           }
          ],
          "scatterpolargl": [
           {
            "marker": {
             "colorbar": {
              "outlinewidth": 0,
              "ticks": ""
             }
            },
            "type": "scatterpolargl"
           }
          ],
          "scatterternary": [
           {
            "marker": {
             "colorbar": {
              "outlinewidth": 0,
              "ticks": ""
             }
            },
            "type": "scatterternary"
           }
          ],
          "surface": [
           {
            "colorbar": {
             "outlinewidth": 0,
             "ticks": ""
            },
            "colorscale": [
             [
              0,
              "#0d0887"
             ],
             [
              0.1111111111111111,
              "#46039f"
             ],
             [
              0.2222222222222222,
              "#7201a8"
             ],
             [
              0.3333333333333333,
              "#9c179e"
             ],
             [
              0.4444444444444444,
              "#bd3786"
             ],
             [
              0.5555555555555556,
              "#d8576b"
             ],
             [
              0.6666666666666666,
              "#ed7953"
             ],
             [
              0.7777777777777778,
              "#fb9f3a"
             ],
             [
              0.8888888888888888,
              "#fdca26"
             ],
             [
              1,
              "#f0f921"
             ]
            ],
            "type": "surface"
           }
          ],
          "table": [
           {
            "cells": {
             "fill": {
              "color": "#EBF0F8"
             },
             "line": {
              "color": "white"
             }
            },
            "header": {
             "fill": {
              "color": "#C8D4E3"
             },
             "line": {
              "color": "white"
             }
            },
            "type": "table"
           }
          ]
         },
         "layout": {
          "annotationdefaults": {
           "arrowcolor": "#2a3f5f",
           "arrowhead": 0,
           "arrowwidth": 1
          },
          "autotypenumbers": "strict",
          "coloraxis": {
           "colorbar": {
            "outlinewidth": 0,
            "ticks": ""
           }
          },
          "colorscale": {
           "diverging": [
            [
             0,
             "#8e0152"
            ],
            [
             0.1,
             "#c51b7d"
            ],
            [
             0.2,
             "#de77ae"
            ],
            [
             0.3,
             "#f1b6da"
            ],
            [
             0.4,
             "#fde0ef"
            ],
            [
             0.5,
             "#f7f7f7"
            ],
            [
             0.6,
             "#e6f5d0"
            ],
            [
             0.7,
             "#b8e186"
            ],
            [
             0.8,
             "#7fbc41"
            ],
            [
             0.9,
             "#4d9221"
            ],
            [
             1,
             "#276419"
            ]
           ],
           "sequential": [
            [
             0,
             "#0d0887"
            ],
            [
             0.1111111111111111,
             "#46039f"
            ],
            [
             0.2222222222222222,
             "#7201a8"
            ],
            [
             0.3333333333333333,
             "#9c179e"
            ],
            [
             0.4444444444444444,
             "#bd3786"
            ],
            [
             0.5555555555555556,
             "#d8576b"
            ],
            [
             0.6666666666666666,
             "#ed7953"
            ],
            [
             0.7777777777777778,
             "#fb9f3a"
            ],
            [
             0.8888888888888888,
             "#fdca26"
            ],
            [
             1,
             "#f0f921"
            ]
           ],
           "sequentialminus": [
            [
             0,
             "#0d0887"
            ],
            [
             0.1111111111111111,
             "#46039f"
            ],
            [
             0.2222222222222222,
             "#7201a8"
            ],
            [
             0.3333333333333333,
             "#9c179e"
            ],
            [
             0.4444444444444444,
             "#bd3786"
            ],
            [
             0.5555555555555556,
             "#d8576b"
            ],
            [
             0.6666666666666666,
             "#ed7953"
            ],
            [
             0.7777777777777778,
             "#fb9f3a"
            ],
            [
             0.8888888888888888,
             "#fdca26"
            ],
            [
             1,
             "#f0f921"
            ]
           ]
          },
          "colorway": [
           "#636efa",
           "#EF553B",
           "#00cc96",
           "#ab63fa",
           "#FFA15A",
           "#19d3f3",
           "#FF6692",
           "#B6E880",
           "#FF97FF",
           "#FECB52"
          ],
          "font": {
           "color": "#2a3f5f"
          },
          "geo": {
           "bgcolor": "white",
           "lakecolor": "white",
           "landcolor": "#E5ECF6",
           "showlakes": true,
           "showland": true,
           "subunitcolor": "white"
          },
          "hoverlabel": {
           "align": "left"
          },
          "hovermode": "closest",
          "mapbox": {
           "style": "light"
          },
          "paper_bgcolor": "white",
          "plot_bgcolor": "#E5ECF6",
          "polar": {
           "angularaxis": {
            "gridcolor": "white",
            "linecolor": "white",
            "ticks": ""
           },
           "bgcolor": "#E5ECF6",
           "radialaxis": {
            "gridcolor": "white",
            "linecolor": "white",
            "ticks": ""
           }
          },
          "scene": {
           "xaxis": {
            "backgroundcolor": "#E5ECF6",
            "gridcolor": "white",
            "gridwidth": 2,
            "linecolor": "white",
            "showbackground": true,
            "ticks": "",
            "zerolinecolor": "white"
           },
           "yaxis": {
            "backgroundcolor": "#E5ECF6",
            "gridcolor": "white",
            "gridwidth": 2,
            "linecolor": "white",
            "showbackground": true,
            "ticks": "",
            "zerolinecolor": "white"
           },
           "zaxis": {
            "backgroundcolor": "#E5ECF6",
            "gridcolor": "white",
            "gridwidth": 2,
            "linecolor": "white",
            "showbackground": true,
            "ticks": "",
            "zerolinecolor": "white"
           }
          },
          "shapedefaults": {
           "line": {
            "color": "#2a3f5f"
           }
          },
          "ternary": {
           "aaxis": {
            "gridcolor": "white",
            "linecolor": "white",
            "ticks": ""
           },
           "baxis": {
            "gridcolor": "white",
            "linecolor": "white",
            "ticks": ""
           },
           "bgcolor": "#E5ECF6",
           "caxis": {
            "gridcolor": "white",
            "linecolor": "white",
            "ticks": ""
           }
          },
          "title": {
           "x": 0.05
          },
          "xaxis": {
           "automargin": true,
           "gridcolor": "white",
           "linecolor": "white",
           "ticks": "",
           "title": {
            "standoff": 15
           },
           "zerolinecolor": "white",
           "zerolinewidth": 2
          },
          "yaxis": {
           "automargin": true,
           "gridcolor": "white",
           "linecolor": "white",
           "ticks": "",
           "title": {
            "standoff": 15
           },
           "zerolinecolor": "white",
           "zerolinewidth": 2
          }
         }
        },
        "xaxis": {
         "anchor": "y",
         "domain": [
          0,
          1
         ],
         "title": {
          "text": "director_name"
         }
        },
        "yaxis": {
         "anchor": "x",
         "domain": [
          0,
          1
         ],
         "title": {
          "text": "actress_age"
         }
        }
       }
      }
     },
     "metadata": {},
     "output_type": "display_data"
    }
   ],
   "source": [
    "fig=px.box(data,x='director_name',y='actress_age')\n",
    "fig.show()"
   ]
  },
  {
   "cell_type": "markdown",
   "id": "62f89985",
   "metadata": {},
   "source": [
    "# Violin Plots"
   ]
  },
  {
   "cell_type": "code",
   "execution_count": 17,
   "id": "b5c52622",
   "metadata": {},
   "outputs": [
    {
     "data": {
      "application/vnd.plotly.v1+json": {
       "config": {
        "plotlyServerURL": "https://plot.ly"
       },
       "data": [
        {
         "alignmentgroup": "True",
         "box": {
          "visible": false
         },
         "hovertemplate": "director_name=%{x}<br>actress_age=%{y}<extra></extra>",
         "legendgroup": "",
         "marker": {
          "color": "#636efa"
         },
         "name": "",
         "offsetgroup": "",
         "orientation": "v",
         "scalegroup": "True",
         "showlegend": false,
         "type": "violin",
         "x": [
          "Terence Young",
          "Terence Young",
          "Terence Young",
          "Terence Young",
          "Terence Young",
          "Terence Young",
          "Guy Hamilton",
          "Guy Hamilton",
          "Guy Hamilton",
          "Guy Hamilton",
          "Guy Hamilton",
          "Terence Young",
          "Terence Young",
          "Terence Young",
          "Terence Young",
          "Lewis Gilbert",
          "Lewis Gilbert",
          "Lewis Gilbert",
          "Lewis Gilbert",
          "Peter R. Hunt",
          "Peter R. Hunt",
          "Peter R. Hunt",
          "Guy Hamilton",
          "Guy Hamilton",
          "Guy Hamilton",
          "Guy Hamilton",
          "Guy Hamilton",
          "Guy Hamilton",
          "Guy Hamilton",
          "Guy Hamilton",
          "John Glen",
          "Guy Hamilton",
          "Lewis Gilbert",
          "Lewis Gilbert",
          "Lewis Gilbert",
          "Lewis Gilbert",
          "Lewis Gilbert",
          "Lewis Gilbert",
          "John Glen",
          "John Glen",
          "John Glen",
          "John Glen",
          "John Glen",
          "John Glen",
          "John Glen",
          "John Glen",
          "John Glen",
          "John Glen",
          "Martin Campbell",
          "Martin Campbell",
          "Martin Campbell",
          "Roger Spottiswoode",
          "Roger Spottiswoode",
          "Roger Spottiswoode",
          "Michael Apted",
          "Michael Apted",
          "Michael Apted",
          "Lee Tamahori",
          "Lee Tamahori",
          "Lee Tamahori",
          "Martin Campbell",
          "Martin Campbell",
          "Marc Forster",
          "Marc Forster",
          "Sam Mendes",
          "Sam Mendes",
          "Sam Mendes",
          "Sam Mendes",
          "Cary Joji Fukunaga",
          "Cary Joji Fukunaga",
          "Cary Joji Fukunaga"
         ],
         "x0": " ",
         "xaxis": "x",
         "y": [
          26,
          36,
          35,
          21,
          24,
          23,
          39,
          27,
          23,
          33,
          21,
          24,
          28,
          23,
          22,
          24,
          28,
          31,
          29,
          31,
          24,
          25,
          31,
          25,
          24,
          36,
          22,
          24,
          24,
          32,
          38,
          24,
          30,
          28,
          33,
          32,
          29,
          28,
          24,
          23,
          33,
          33,
          30,
          37,
          29,
          27,
          28,
          22,
          25,
          31,
          32,
          35,
          33,
          23,
          28,
          33,
          38,
          36,
          23,
          25,
          26,
          29,
          29,
          22,
          33,
          25,
          51,
          30,
          36,
          34,
          33
         ],
         "y0": " ",
         "yaxis": "y"
        }
       ],
       "layout": {
        "legend": {
         "tracegroupgap": 0
        },
        "margin": {
         "t": 60
        },
        "template": {
         "data": {
          "bar": [
           {
            "error_x": {
             "color": "#2a3f5f"
            },
            "error_y": {
             "color": "#2a3f5f"
            },
            "marker": {
             "line": {
              "color": "#E5ECF6",
              "width": 0.5
             },
             "pattern": {
              "fillmode": "overlay",
              "size": 10,
              "solidity": 0.2
             }
            },
            "type": "bar"
           }
          ],
          "barpolar": [
           {
            "marker": {
             "line": {
              "color": "#E5ECF6",
              "width": 0.5
             },
             "pattern": {
              "fillmode": "overlay",
              "size": 10,
              "solidity": 0.2
             }
            },
            "type": "barpolar"
           }
          ],
          "carpet": [
           {
            "aaxis": {
             "endlinecolor": "#2a3f5f",
             "gridcolor": "white",
             "linecolor": "white",
             "minorgridcolor": "white",
             "startlinecolor": "#2a3f5f"
            },
            "baxis": {
             "endlinecolor": "#2a3f5f",
             "gridcolor": "white",
             "linecolor": "white",
             "minorgridcolor": "white",
             "startlinecolor": "#2a3f5f"
            },
            "type": "carpet"
           }
          ],
          "choropleth": [
           {
            "colorbar": {
             "outlinewidth": 0,
             "ticks": ""
            },
            "type": "choropleth"
           }
          ],
          "contour": [
           {
            "colorbar": {
             "outlinewidth": 0,
             "ticks": ""
            },
            "colorscale": [
             [
              0,
              "#0d0887"
             ],
             [
              0.1111111111111111,
              "#46039f"
             ],
             [
              0.2222222222222222,
              "#7201a8"
             ],
             [
              0.3333333333333333,
              "#9c179e"
             ],
             [
              0.4444444444444444,
              "#bd3786"
             ],
             [
              0.5555555555555556,
              "#d8576b"
             ],
             [
              0.6666666666666666,
              "#ed7953"
             ],
             [
              0.7777777777777778,
              "#fb9f3a"
             ],
             [
              0.8888888888888888,
              "#fdca26"
             ],
             [
              1,
              "#f0f921"
             ]
            ],
            "type": "contour"
           }
          ],
          "contourcarpet": [
           {
            "colorbar": {
             "outlinewidth": 0,
             "ticks": ""
            },
            "type": "contourcarpet"
           }
          ],
          "heatmap": [
           {
            "colorbar": {
             "outlinewidth": 0,
             "ticks": ""
            },
            "colorscale": [
             [
              0,
              "#0d0887"
             ],
             [
              0.1111111111111111,
              "#46039f"
             ],
             [
              0.2222222222222222,
              "#7201a8"
             ],
             [
              0.3333333333333333,
              "#9c179e"
             ],
             [
              0.4444444444444444,
              "#bd3786"
             ],
             [
              0.5555555555555556,
              "#d8576b"
             ],
             [
              0.6666666666666666,
              "#ed7953"
             ],
             [
              0.7777777777777778,
              "#fb9f3a"
             ],
             [
              0.8888888888888888,
              "#fdca26"
             ],
             [
              1,
              "#f0f921"
             ]
            ],
            "type": "heatmap"
           }
          ],
          "heatmapgl": [
           {
            "colorbar": {
             "outlinewidth": 0,
             "ticks": ""
            },
            "colorscale": [
             [
              0,
              "#0d0887"
             ],
             [
              0.1111111111111111,
              "#46039f"
             ],
             [
              0.2222222222222222,
              "#7201a8"
             ],
             [
              0.3333333333333333,
              "#9c179e"
             ],
             [
              0.4444444444444444,
              "#bd3786"
             ],
             [
              0.5555555555555556,
              "#d8576b"
             ],
             [
              0.6666666666666666,
              "#ed7953"
             ],
             [
              0.7777777777777778,
              "#fb9f3a"
             ],
             [
              0.8888888888888888,
              "#fdca26"
             ],
             [
              1,
              "#f0f921"
             ]
            ],
            "type": "heatmapgl"
           }
          ],
          "histogram": [
           {
            "marker": {
             "pattern": {
              "fillmode": "overlay",
              "size": 10,
              "solidity": 0.2
             }
            },
            "type": "histogram"
           }
          ],
          "histogram2d": [
           {
            "colorbar": {
             "outlinewidth": 0,
             "ticks": ""
            },
            "colorscale": [
             [
              0,
              "#0d0887"
             ],
             [
              0.1111111111111111,
              "#46039f"
             ],
             [
              0.2222222222222222,
              "#7201a8"
             ],
             [
              0.3333333333333333,
              "#9c179e"
             ],
             [
              0.4444444444444444,
              "#bd3786"
             ],
             [
              0.5555555555555556,
              "#d8576b"
             ],
             [
              0.6666666666666666,
              "#ed7953"
             ],
             [
              0.7777777777777778,
              "#fb9f3a"
             ],
             [
              0.8888888888888888,
              "#fdca26"
             ],
             [
              1,
              "#f0f921"
             ]
            ],
            "type": "histogram2d"
           }
          ],
          "histogram2dcontour": [
           {
            "colorbar": {
             "outlinewidth": 0,
             "ticks": ""
            },
            "colorscale": [
             [
              0,
              "#0d0887"
             ],
             [
              0.1111111111111111,
              "#46039f"
             ],
             [
              0.2222222222222222,
              "#7201a8"
             ],
             [
              0.3333333333333333,
              "#9c179e"
             ],
             [
              0.4444444444444444,
              "#bd3786"
             ],
             [
              0.5555555555555556,
              "#d8576b"
             ],
             [
              0.6666666666666666,
              "#ed7953"
             ],
             [
              0.7777777777777778,
              "#fb9f3a"
             ],
             [
              0.8888888888888888,
              "#fdca26"
             ],
             [
              1,
              "#f0f921"
             ]
            ],
            "type": "histogram2dcontour"
           }
          ],
          "mesh3d": [
           {
            "colorbar": {
             "outlinewidth": 0,
             "ticks": ""
            },
            "type": "mesh3d"
           }
          ],
          "parcoords": [
           {
            "line": {
             "colorbar": {
              "outlinewidth": 0,
              "ticks": ""
             }
            },
            "type": "parcoords"
           }
          ],
          "pie": [
           {
            "automargin": true,
            "type": "pie"
           }
          ],
          "scatter": [
           {
            "fillpattern": {
             "fillmode": "overlay",
             "size": 10,
             "solidity": 0.2
            },
            "type": "scatter"
           }
          ],
          "scatter3d": [
           {
            "line": {
             "colorbar": {
              "outlinewidth": 0,
              "ticks": ""
             }
            },
            "marker": {
             "colorbar": {
              "outlinewidth": 0,
              "ticks": ""
             }
            },
            "type": "scatter3d"
           }
          ],
          "scattercarpet": [
           {
            "marker": {
             "colorbar": {
              "outlinewidth": 0,
              "ticks": ""
             }
            },
            "type": "scattercarpet"
           }
          ],
          "scattergeo": [
           {
            "marker": {
             "colorbar": {
              "outlinewidth": 0,
              "ticks": ""
             }
            },
            "type": "scattergeo"
           }
          ],
          "scattergl": [
           {
            "marker": {
             "colorbar": {
              "outlinewidth": 0,
              "ticks": ""
             }
            },
            "type": "scattergl"
           }
          ],
          "scattermapbox": [
           {
            "marker": {
             "colorbar": {
              "outlinewidth": 0,
              "ticks": ""
             }
            },
            "type": "scattermapbox"
           }
          ],
          "scatterpolar": [
           {
            "marker": {
             "colorbar": {
              "outlinewidth": 0,
              "ticks": ""
             }
            },
            "type": "scatterpolar"
           }
          ],
          "scatterpolargl": [
           {
            "marker": {
             "colorbar": {
              "outlinewidth": 0,
              "ticks": ""
             }
            },
            "type": "scatterpolargl"
           }
          ],
          "scatterternary": [
           {
            "marker": {
             "colorbar": {
              "outlinewidth": 0,
              "ticks": ""
             }
            },
            "type": "scatterternary"
           }
          ],
          "surface": [
           {
            "colorbar": {
             "outlinewidth": 0,
             "ticks": ""
            },
            "colorscale": [
             [
              0,
              "#0d0887"
             ],
             [
              0.1111111111111111,
              "#46039f"
             ],
             [
              0.2222222222222222,
              "#7201a8"
             ],
             [
              0.3333333333333333,
              "#9c179e"
             ],
             [
              0.4444444444444444,
              "#bd3786"
             ],
             [
              0.5555555555555556,
              "#d8576b"
             ],
             [
              0.6666666666666666,
              "#ed7953"
             ],
             [
              0.7777777777777778,
              "#fb9f3a"
             ],
             [
              0.8888888888888888,
              "#fdca26"
             ],
             [
              1,
              "#f0f921"
             ]
            ],
            "type": "surface"
           }
          ],
          "table": [
           {
            "cells": {
             "fill": {
              "color": "#EBF0F8"
             },
             "line": {
              "color": "white"
             }
            },
            "header": {
             "fill": {
              "color": "#C8D4E3"
             },
             "line": {
              "color": "white"
             }
            },
            "type": "table"
           }
          ]
         },
         "layout": {
          "annotationdefaults": {
           "arrowcolor": "#2a3f5f",
           "arrowhead": 0,
           "arrowwidth": 1
          },
          "autotypenumbers": "strict",
          "coloraxis": {
           "colorbar": {
            "outlinewidth": 0,
            "ticks": ""
           }
          },
          "colorscale": {
           "diverging": [
            [
             0,
             "#8e0152"
            ],
            [
             0.1,
             "#c51b7d"
            ],
            [
             0.2,
             "#de77ae"
            ],
            [
             0.3,
             "#f1b6da"
            ],
            [
             0.4,
             "#fde0ef"
            ],
            [
             0.5,
             "#f7f7f7"
            ],
            [
             0.6,
             "#e6f5d0"
            ],
            [
             0.7,
             "#b8e186"
            ],
            [
             0.8,
             "#7fbc41"
            ],
            [
             0.9,
             "#4d9221"
            ],
            [
             1,
             "#276419"
            ]
           ],
           "sequential": [
            [
             0,
             "#0d0887"
            ],
            [
             0.1111111111111111,
             "#46039f"
            ],
            [
             0.2222222222222222,
             "#7201a8"
            ],
            [
             0.3333333333333333,
             "#9c179e"
            ],
            [
             0.4444444444444444,
             "#bd3786"
            ],
            [
             0.5555555555555556,
             "#d8576b"
            ],
            [
             0.6666666666666666,
             "#ed7953"
            ],
            [
             0.7777777777777778,
             "#fb9f3a"
            ],
            [
             0.8888888888888888,
             "#fdca26"
            ],
            [
             1,
             "#f0f921"
            ]
           ],
           "sequentialminus": [
            [
             0,
             "#0d0887"
            ],
            [
             0.1111111111111111,
             "#46039f"
            ],
            [
             0.2222222222222222,
             "#7201a8"
            ],
            [
             0.3333333333333333,
             "#9c179e"
            ],
            [
             0.4444444444444444,
             "#bd3786"
            ],
            [
             0.5555555555555556,
             "#d8576b"
            ],
            [
             0.6666666666666666,
             "#ed7953"
            ],
            [
             0.7777777777777778,
             "#fb9f3a"
            ],
            [
             0.8888888888888888,
             "#fdca26"
            ],
            [
             1,
             "#f0f921"
            ]
           ]
          },
          "colorway": [
           "#636efa",
           "#EF553B",
           "#00cc96",
           "#ab63fa",
           "#FFA15A",
           "#19d3f3",
           "#FF6692",
           "#B6E880",
           "#FF97FF",
           "#FECB52"
          ],
          "font": {
           "color": "#2a3f5f"
          },
          "geo": {
           "bgcolor": "white",
           "lakecolor": "white",
           "landcolor": "#E5ECF6",
           "showlakes": true,
           "showland": true,
           "subunitcolor": "white"
          },
          "hoverlabel": {
           "align": "left"
          },
          "hovermode": "closest",
          "mapbox": {
           "style": "light"
          },
          "paper_bgcolor": "white",
          "plot_bgcolor": "#E5ECF6",
          "polar": {
           "angularaxis": {
            "gridcolor": "white",
            "linecolor": "white",
            "ticks": ""
           },
           "bgcolor": "#E5ECF6",
           "radialaxis": {
            "gridcolor": "white",
            "linecolor": "white",
            "ticks": ""
           }
          },
          "scene": {
           "xaxis": {
            "backgroundcolor": "#E5ECF6",
            "gridcolor": "white",
            "gridwidth": 2,
            "linecolor": "white",
            "showbackground": true,
            "ticks": "",
            "zerolinecolor": "white"
           },
           "yaxis": {
            "backgroundcolor": "#E5ECF6",
            "gridcolor": "white",
            "gridwidth": 2,
            "linecolor": "white",
            "showbackground": true,
            "ticks": "",
            "zerolinecolor": "white"
           },
           "zaxis": {
            "backgroundcolor": "#E5ECF6",
            "gridcolor": "white",
            "gridwidth": 2,
            "linecolor": "white",
            "showbackground": true,
            "ticks": "",
            "zerolinecolor": "white"
           }
          },
          "shapedefaults": {
           "line": {
            "color": "#2a3f5f"
           }
          },
          "ternary": {
           "aaxis": {
            "gridcolor": "white",
            "linecolor": "white",
            "ticks": ""
           },
           "baxis": {
            "gridcolor": "white",
            "linecolor": "white",
            "ticks": ""
           },
           "bgcolor": "#E5ECF6",
           "caxis": {
            "gridcolor": "white",
            "linecolor": "white",
            "ticks": ""
           }
          },
          "title": {
           "x": 0.05
          },
          "xaxis": {
           "automargin": true,
           "gridcolor": "white",
           "linecolor": "white",
           "ticks": "",
           "title": {
            "standoff": 15
           },
           "zerolinecolor": "white",
           "zerolinewidth": 2
          },
          "yaxis": {
           "automargin": true,
           "gridcolor": "white",
           "linecolor": "white",
           "ticks": "",
           "title": {
            "standoff": 15
           },
           "zerolinecolor": "white",
           "zerolinewidth": 2
          }
         }
        },
        "violinmode": "group",
        "xaxis": {
         "anchor": "y",
         "domain": [
          0,
          1
         ],
         "title": {
          "text": "director_name"
         }
        },
        "yaxis": {
         "anchor": "x",
         "domain": [
          0,
          1
         ],
         "title": {
          "text": "actress_age"
         }
        }
       }
      }
     },
     "metadata": {},
     "output_type": "display_data"
    }
   ],
   "source": [
    "fig=px.violin(data,x='director_name',y='actress_age')\n",
    "fig.show()"
   ]
  },
  {
   "cell_type": "markdown",
   "id": "7b5706fd",
   "metadata": {},
   "source": [
    "# 3D Line Plot"
   ]
  },
  {
   "cell_type": "code",
   "execution_count": 18,
   "id": "d9433adc",
   "metadata": {},
   "outputs": [
    {
     "data": {
      "application/vnd.plotly.v1+json": {
       "config": {
        "plotlyServerURL": "https://plot.ly"
       },
       "data": [
        {
         "hovertemplate": "budget_actual_$=1.1<br>bond_girl_name=%{x}<br>actress_age=%{y}<br>film_release_year=%{z}<extra></extra>",
         "legendgroup": "1.1",
         "line": {
          "color": "#636efa",
          "dash": "solid"
         },
         "marker": {
          "symbol": "circle"
         },
         "mode": "lines",
         "name": "1.1",
         "scene": "scene",
         "showlegend": true,
         "type": "scatter3d",
         "x": [
          "Ursula Andress",
          "Zena Marshall"
         ],
         "y": [
          26,
          36
         ],
         "z": [
          1962,
          1962
         ]
        },
        {
         "hovertemplate": "budget_actual_$=2.0<br>bond_girl_name=%{x}<br>actress_age=%{y}<br>film_release_year=%{z}<extra></extra>",
         "legendgroup": "2.0",
         "line": {
          "color": "#EF553B",
          "dash": "solid"
         },
         "marker": {
          "symbol": "circle"
         },
         "mode": "lines",
         "name": "2.0",
         "scene": "scene",
         "showlegend": true,
         "type": "scatter3d",
         "x": [
          "Eunice Gayson",
          "Daniela Bianchi",
          "Aliza Gur"
         ],
         "y": [
          35,
          21,
          23
         ],
         "z": [
          1963,
          1963,
          1963
         ]
        },
        {
         "hovertemplate": "budget_actual_$=6.8<br>bond_girl_name=%{x}<br>actress_age=%{y}<br>film_release_year=%{z}<extra></extra>",
         "legendgroup": "6.8",
         "line": {
          "color": "#00cc96",
          "dash": "solid"
         },
         "marker": {
          "symbol": "circle"
         },
         "mode": "lines",
         "name": "6.8",
         "scene": "scene",
         "showlegend": true,
         "type": "scatter3d",
         "x": [
          "Martine Beswick",
          "Claudine Auger",
          "Luciana Paluzzi",
          "Molly Peters",
          "Maryse Guy Mitsouko"
         ],
         "y": [
          24,
          24,
          28,
          23,
          22
         ],
         "z": [
          1965,
          1965,
          1965,
          1965,
          1965
         ]
        },
        {
         "hovertemplate": "budget_actual_$=3.0<br>bond_girl_name=%{x}<br>actress_age=%{y}<br>film_release_year=%{z}<extra></extra>",
         "legendgroup": "3.0",
         "line": {
          "color": "#ab63fa",
          "dash": "solid"
         },
         "marker": {
          "symbol": "circle"
         },
         "mode": "lines",
         "name": "3.0",
         "scene": "scene",
         "showlegend": true,
         "type": "scatter3d",
         "x": [
          "Honor Blackman",
          "Shirley Eaton",
          "Tania Mallet",
          "Nadja Regin",
          "Margaret Nolan"
         ],
         "y": [
          39,
          27,
          23,
          33,
          21
         ],
         "z": [
          1964,
          1964,
          1964,
          1964,
          1964
         ]
        },
        {
         "hovertemplate": "budget_actual_$=10.3<br>bond_girl_name=%{x}<br>actress_age=%{y}<br>film_release_year=%{z}<extra></extra>",
         "legendgroup": "10.3",
         "line": {
          "color": "#FFA15A",
          "dash": "solid"
         },
         "marker": {
          "symbol": "circle"
         },
         "mode": "lines",
         "name": "10.3",
         "scene": "scene",
         "showlegend": true,
         "type": "scatter3d",
         "x": [
          "Mie Hama",
          "Akiko Wakabayashi",
          "Tsai Chin",
          "Karin Dor"
         ],
         "y": [
          24,
          28,
          31,
          29
         ],
         "z": [
          1967,
          1967,
          1967,
          1967
         ]
        },
        {
         "hovertemplate": "budget_actual_$=7.0<br>bond_girl_name=%{x}<br>actress_age=%{y}<br>film_release_year=%{z}<extra></extra>",
         "legendgroup": "7.0",
         "line": {
          "color": "#19d3f3",
          "dash": "solid"
         },
         "marker": {
          "symbol": "circle"
         },
         "mode": "lines",
         "name": "7.0",
         "scene": "scene",
         "showlegend": true,
         "type": "scatter3d",
         "x": [
          "Diana Rigg",
          "Angela Scoular",
          "Catherine Schell",
          "Jane Seymour",
          "Gloria Hendry",
          "Madeline Smith",
          "Britt Ekland",
          "Carmen du Sautoy"
         ],
         "y": [
          31,
          24,
          25,
          22,
          24,
          24,
          32,
          24
         ],
         "z": [
          1969,
          1969,
          1969,
          1973,
          1973,
          1973,
          1974,
          1974
         ]
        },
        {
         "hovertemplate": "budget_actual_$=7.2<br>bond_girl_name=%{x}<br>actress_age=%{y}<br>film_release_year=%{z}<extra></extra>",
         "legendgroup": "7.2",
         "line": {
          "color": "#FF6692",
          "dash": "solid"
         },
         "marker": {
          "symbol": "circle"
         },
         "mode": "lines",
         "name": "7.2",
         "scene": "scene",
         "showlegend": true,
         "type": "scatter3d",
         "x": [
          "Jill St John",
          "Lana Wood",
          "Trina Parks",
          "Denise Perrier"
         ],
         "y": [
          31,
          25,
          24,
          36
         ],
         "z": [
          1971,
          1971,
          1971,
          1971
         ]
        },
        {
         "hovertemplate": "budget_actual_$=27.5<br>bond_girl_name=%{x}<br>actress_age=%{y}<br>film_release_year=%{z}<extra></extra>",
         "legendgroup": "27.5",
         "line": {
          "color": "#B6E880",
          "dash": "solid"
         },
         "marker": {
          "symbol": "circle"
         },
         "mode": "lines",
         "name": "27.5",
         "scene": "scene",
         "showlegend": true,
         "type": "scatter3d",
         "x": [
          "Maud Adams",
          "Kristina Wayborn"
         ],
         "y": [
          38,
          33
         ],
         "z": [
          1983,
          1983
         ]
        },
        {
         "hovertemplate": "budget_actual_$=14.0<br>bond_girl_name=%{x}<br>actress_age=%{y}<br>film_release_year=%{z}<extra></extra>",
         "legendgroup": "14.0",
         "line": {
          "color": "#FF97FF",
          "dash": "solid"
         },
         "marker": {
          "symbol": "circle"
         },
         "mode": "lines",
         "name": "14.0",
         "scene": "scene",
         "showlegend": true,
         "type": "scatter3d",
         "x": [
          "Barbara Bach",
          "Caroline Munro",
          "Olga Bisera"
         ],
         "y": [
          30,
          28,
          33
         ],
         "z": [
          1977,
          1977,
          1977
         ]
        },
        {
         "hovertemplate": "budget_actual_$=34.0<br>bond_girl_name=%{x}<br>actress_age=%{y}<br>film_release_year=%{z}<extra></extra>",
         "legendgroup": "34.0",
         "line": {
          "color": "#FECB52",
          "dash": "solid"
         },
         "marker": {
          "symbol": "circle"
         },
         "mode": "lines",
         "name": "34.0",
         "scene": "scene",
         "showlegend": true,
         "type": "scatter3d",
         "x": [
          "Lois Chiles",
          "Corinne Cléry",
          "Emily Bolton"
         ],
         "y": [
          32,
          29,
          28
         ],
         "z": [
          1979,
          1979,
          1979
         ]
        },
        {
         "hovertemplate": "budget_actual_$=28.0<br>bond_girl_name=%{x}<br>actress_age=%{y}<br>film_release_year=%{z}<extra></extra>",
         "legendgroup": "28.0",
         "line": {
          "color": "#636efa",
          "dash": "solid"
         },
         "marker": {
          "symbol": "circle"
         },
         "mode": "lines",
         "name": "28.0",
         "scene": "scene",
         "showlegend": true,
         "type": "scatter3d",
         "x": [
          "Carole Bouquet",
          "Lynn Holly Johnson",
          "Cassandra Harris"
         ],
         "y": [
          24,
          23,
          33
         ],
         "z": [
          1981,
          1981,
          1981
         ]
        },
        {
         "hovertemplate": "budget_actual_$=30.0<br>bond_girl_name=%{x}<br>actress_age=%{y}<br>film_release_year=%{z}<extra></extra>",
         "legendgroup": "30.0",
         "line": {
          "color": "#EF553B",
          "dash": "solid"
         },
         "marker": {
          "symbol": "circle"
         },
         "mode": "lines",
         "name": "30.0",
         "scene": "scene",
         "showlegend": true,
         "type": "scatter3d",
         "x": [
          "Tanya Roberts",
          "Grace Jones",
          "Fiona Fullerton"
         ],
         "y": [
          30,
          37,
          29
         ],
         "z": [
          1985,
          1985,
          1985
         ]
        },
        {
         "hovertemplate": "budget_actual_$=40.0<br>bond_girl_name=%{x}<br>actress_age=%{y}<br>film_release_year=%{z}<extra></extra>",
         "legendgroup": "40.0",
         "line": {
          "color": "#00cc96",
          "dash": "solid"
         },
         "marker": {
          "symbol": "circle"
         },
         "mode": "lines",
         "name": "40.0",
         "scene": "scene",
         "showlegend": true,
         "type": "scatter3d",
         "x": [
          "Maryam d'Abo"
         ],
         "y": [
          27
         ],
         "z": [
          1987
         ]
        },
        {
         "hovertemplate": "budget_actual_$=36.0<br>bond_girl_name=%{x}<br>actress_age=%{y}<br>film_release_year=%{z}<extra></extra>",
         "legendgroup": "36.0",
         "line": {
          "color": "#ab63fa",
          "dash": "solid"
         },
         "marker": {
          "symbol": "circle"
         },
         "mode": "lines",
         "name": "36.0",
         "scene": "scene",
         "showlegend": true,
         "type": "scatter3d",
         "x": [
          "Carey Lowell",
          "Talisa Soto"
         ],
         "y": [
          28,
          22
         ],
         "z": [
          1989,
          1989
         ]
        },
        {
         "hovertemplate": "budget_actual_$=60.0<br>bond_girl_name=%{x}<br>actress_age=%{y}<br>film_release_year=%{z}<extra></extra>",
         "legendgroup": "60.0",
         "line": {
          "color": "#FFA15A",
          "dash": "solid"
         },
         "marker": {
          "symbol": "circle"
         },
         "mode": "lines",
         "name": "60.0",
         "scene": "scene",
         "showlegend": true,
         "type": "scatter3d",
         "x": [
          "Izabella Scorupco",
          "Famke Janssen",
          "Serena Gordon"
         ],
         "y": [
          25,
          31,
          32
         ],
         "z": [
          1995,
          1995,
          1995
         ]
        },
        {
         "hovertemplate": "budget_actual_$=110.0<br>bond_girl_name=%{x}<br>actress_age=%{y}<br>film_release_year=%{z}<extra></extra>",
         "legendgroup": "110.0",
         "line": {
          "color": "#19d3f3",
          "dash": "solid"
         },
         "marker": {
          "symbol": "circle"
         },
         "mode": "lines",
         "name": "110.0",
         "scene": "scene",
         "showlegend": true,
         "type": "scatter3d",
         "x": [
          "Michelle Yeoh",
          "Teri Hatcher",
          "Cecilie Thomsen"
         ],
         "y": [
          35,
          33,
          23
         ],
         "z": [
          1997,
          1997,
          1997
         ]
        },
        {
         "hovertemplate": "budget_actual_$=135.0<br>bond_girl_name=%{x}<br>actress_age=%{y}<br>film_release_year=%{z}<extra></extra>",
         "legendgroup": "135.0",
         "line": {
          "color": "#FF6692",
          "dash": "solid"
         },
         "marker": {
          "symbol": "circle"
         },
         "mode": "lines",
         "name": "135.0",
         "scene": "scene",
         "showlegend": true,
         "type": "scatter3d",
         "x": [
          "Denise Richards",
          "Sophie Marceau",
          "Serena Scott Thomas"
         ],
         "y": [
          28,
          33,
          38
         ],
         "z": [
          1999,
          1999,
          1999
         ]
        },
        {
         "hovertemplate": "budget_actual_$=142.0<br>bond_girl_name=%{x}<br>actress_age=%{y}<br>film_release_year=%{z}<extra></extra>",
         "legendgroup": "142.0",
         "line": {
          "color": "#B6E880",
          "dash": "solid"
         },
         "marker": {
          "symbol": "circle"
         },
         "mode": "lines",
         "name": "142.0",
         "scene": "scene",
         "showlegend": true,
         "type": "scatter3d",
         "x": [
          "Halle Berry",
          "Rosamund Pike",
          "Rachel Grant"
         ],
         "y": [
          36,
          23,
          25
         ],
         "z": [
          2002,
          2002,
          2002
         ]
        },
        {
         "hovertemplate": "budget_actual_$=150.0<br>bond_girl_name=%{x}<br>actress_age=%{y}<br>film_release_year=%{z}<extra></extra>",
         "legendgroup": "150.0",
         "line": {
          "color": "#FF97FF",
          "dash": "solid"
         },
         "marker": {
          "symbol": "circle"
         },
         "mode": "lines",
         "name": "150.0",
         "scene": "scene",
         "showlegend": true,
         "type": "scatter3d",
         "x": [
          "Eva Green",
          "Catherina Murino"
         ],
         "y": [
          26,
          29
         ],
         "z": [
          2006,
          2006
         ]
        },
        {
         "hovertemplate": "budget_actual_$=200.0<br>bond_girl_name=%{x}<br>actress_age=%{y}<br>film_release_year=%{z}<extra></extra>",
         "legendgroup": "200.0",
         "line": {
          "color": "#FECB52",
          "dash": "solid"
         },
         "marker": {
          "symbol": "circle"
         },
         "mode": "lines",
         "name": "200.0",
         "scene": "scene",
         "showlegend": true,
         "type": "scatter3d",
         "x": [
          "Olga Kurylenko",
          "Gemma Arterton"
         ],
         "y": [
          29,
          22
         ],
         "z": [
          2008,
          2008
         ]
        },
        {
         "hovertemplate": "budget_actual_$=150.0–200.0<br>bond_girl_name=%{x}<br>actress_age=%{y}<br>film_release_year=%{z}<extra></extra>",
         "legendgroup": "150.0–200.0",
         "line": {
          "color": "#636efa",
          "dash": "solid"
         },
         "marker": {
          "symbol": "circle"
         },
         "mode": "lines",
         "name": "150.0–200.0",
         "scene": "scene",
         "showlegend": true,
         "type": "scatter3d",
         "x": [
          "Bérénice Marlohe",
          "Tonia Sotiropoulou"
         ],
         "y": [
          33,
          25
         ],
         "z": [
          2012,
          2012
         ]
        },
        {
         "hovertemplate": "budget_actual_$=245.0–250.0[b]<br>bond_girl_name=%{x}<br>actress_age=%{y}<br>film_release_year=%{z}<extra></extra>",
         "legendgroup": "245.0–250.0[b]",
         "line": {
          "color": "#EF553B",
          "dash": "solid"
         },
         "marker": {
          "symbol": "circle"
         },
         "mode": "lines",
         "name": "245.0–250.0[b]",
         "scene": "scene",
         "showlegend": true,
         "type": "scatter3d",
         "x": [
          "Monica Bellucci",
          "Léa Seydoux"
         ],
         "y": [
          51,
          30
         ],
         "z": [
          2015,
          2015
         ]
        },
        {
         "hovertemplate": "budget_actual_$=250.0–301.0<br>bond_girl_name=%{x}<br>actress_age=%{y}<br>film_release_year=%{z}<extra></extra>",
         "legendgroup": "250.0–301.0",
         "line": {
          "color": "#00cc96",
          "dash": "solid"
         },
         "marker": {
          "symbol": "circle"
         },
         "mode": "lines",
         "name": "250.0–301.0",
         "scene": "scene",
         "showlegend": true,
         "type": "scatter3d",
         "x": [
          "Léa Seydoux",
          "Lashan Lynch",
          "Ana de Armas"
         ],
         "y": [
          36,
          34,
          33
         ],
         "z": [
          2021,
          2021,
          2021
         ]
        }
       ],
       "layout": {
        "legend": {
         "title": {
          "text": "budget_actual_$"
         },
         "tracegroupgap": 0
        },
        "margin": {
         "t": 60
        },
        "scene": {
         "domain": {
          "x": [
           0,
           1
          ],
          "y": [
           0,
           1
          ]
         },
         "xaxis": {
          "title": {
           "text": "bond_girl_name"
          }
         },
         "yaxis": {
          "title": {
           "text": "actress_age"
          }
         },
         "zaxis": {
          "title": {
           "text": "film_release_year"
          }
         }
        },
        "template": {
         "data": {
          "bar": [
           {
            "error_x": {
             "color": "#2a3f5f"
            },
            "error_y": {
             "color": "#2a3f5f"
            },
            "marker": {
             "line": {
              "color": "#E5ECF6",
              "width": 0.5
             },
             "pattern": {
              "fillmode": "overlay",
              "size": 10,
              "solidity": 0.2
             }
            },
            "type": "bar"
           }
          ],
          "barpolar": [
           {
            "marker": {
             "line": {
              "color": "#E5ECF6",
              "width": 0.5
             },
             "pattern": {
              "fillmode": "overlay",
              "size": 10,
              "solidity": 0.2
             }
            },
            "type": "barpolar"
           }
          ],
          "carpet": [
           {
            "aaxis": {
             "endlinecolor": "#2a3f5f",
             "gridcolor": "white",
             "linecolor": "white",
             "minorgridcolor": "white",
             "startlinecolor": "#2a3f5f"
            },
            "baxis": {
             "endlinecolor": "#2a3f5f",
             "gridcolor": "white",
             "linecolor": "white",
             "minorgridcolor": "white",
             "startlinecolor": "#2a3f5f"
            },
            "type": "carpet"
           }
          ],
          "choropleth": [
           {
            "colorbar": {
             "outlinewidth": 0,
             "ticks": ""
            },
            "type": "choropleth"
           }
          ],
          "contour": [
           {
            "colorbar": {
             "outlinewidth": 0,
             "ticks": ""
            },
            "colorscale": [
             [
              0,
              "#0d0887"
             ],
             [
              0.1111111111111111,
              "#46039f"
             ],
             [
              0.2222222222222222,
              "#7201a8"
             ],
             [
              0.3333333333333333,
              "#9c179e"
             ],
             [
              0.4444444444444444,
              "#bd3786"
             ],
             [
              0.5555555555555556,
              "#d8576b"
             ],
             [
              0.6666666666666666,
              "#ed7953"
             ],
             [
              0.7777777777777778,
              "#fb9f3a"
             ],
             [
              0.8888888888888888,
              "#fdca26"
             ],
             [
              1,
              "#f0f921"
             ]
            ],
            "type": "contour"
           }
          ],
          "contourcarpet": [
           {
            "colorbar": {
             "outlinewidth": 0,
             "ticks": ""
            },
            "type": "contourcarpet"
           }
          ],
          "heatmap": [
           {
            "colorbar": {
             "outlinewidth": 0,
             "ticks": ""
            },
            "colorscale": [
             [
              0,
              "#0d0887"
             ],
             [
              0.1111111111111111,
              "#46039f"
             ],
             [
              0.2222222222222222,
              "#7201a8"
             ],
             [
              0.3333333333333333,
              "#9c179e"
             ],
             [
              0.4444444444444444,
              "#bd3786"
             ],
             [
              0.5555555555555556,
              "#d8576b"
             ],
             [
              0.6666666666666666,
              "#ed7953"
             ],
             [
              0.7777777777777778,
              "#fb9f3a"
             ],
             [
              0.8888888888888888,
              "#fdca26"
             ],
             [
              1,
              "#f0f921"
             ]
            ],
            "type": "heatmap"
           }
          ],
          "heatmapgl": [
           {
            "colorbar": {
             "outlinewidth": 0,
             "ticks": ""
            },
            "colorscale": [
             [
              0,
              "#0d0887"
             ],
             [
              0.1111111111111111,
              "#46039f"
             ],
             [
              0.2222222222222222,
              "#7201a8"
             ],
             [
              0.3333333333333333,
              "#9c179e"
             ],
             [
              0.4444444444444444,
              "#bd3786"
             ],
             [
              0.5555555555555556,
              "#d8576b"
             ],
             [
              0.6666666666666666,
              "#ed7953"
             ],
             [
              0.7777777777777778,
              "#fb9f3a"
             ],
             [
              0.8888888888888888,
              "#fdca26"
             ],
             [
              1,
              "#f0f921"
             ]
            ],
            "type": "heatmapgl"
           }
          ],
          "histogram": [
           {
            "marker": {
             "pattern": {
              "fillmode": "overlay",
              "size": 10,
              "solidity": 0.2
             }
            },
            "type": "histogram"
           }
          ],
          "histogram2d": [
           {
            "colorbar": {
             "outlinewidth": 0,
             "ticks": ""
            },
            "colorscale": [
             [
              0,
              "#0d0887"
             ],
             [
              0.1111111111111111,
              "#46039f"
             ],
             [
              0.2222222222222222,
              "#7201a8"
             ],
             [
              0.3333333333333333,
              "#9c179e"
             ],
             [
              0.4444444444444444,
              "#bd3786"
             ],
             [
              0.5555555555555556,
              "#d8576b"
             ],
             [
              0.6666666666666666,
              "#ed7953"
             ],
             [
              0.7777777777777778,
              "#fb9f3a"
             ],
             [
              0.8888888888888888,
              "#fdca26"
             ],
             [
              1,
              "#f0f921"
             ]
            ],
            "type": "histogram2d"
           }
          ],
          "histogram2dcontour": [
           {
            "colorbar": {
             "outlinewidth": 0,
             "ticks": ""
            },
            "colorscale": [
             [
              0,
              "#0d0887"
             ],
             [
              0.1111111111111111,
              "#46039f"
             ],
             [
              0.2222222222222222,
              "#7201a8"
             ],
             [
              0.3333333333333333,
              "#9c179e"
             ],
             [
              0.4444444444444444,
              "#bd3786"
             ],
             [
              0.5555555555555556,
              "#d8576b"
             ],
             [
              0.6666666666666666,
              "#ed7953"
             ],
             [
              0.7777777777777778,
              "#fb9f3a"
             ],
             [
              0.8888888888888888,
              "#fdca26"
             ],
             [
              1,
              "#f0f921"
             ]
            ],
            "type": "histogram2dcontour"
           }
          ],
          "mesh3d": [
           {
            "colorbar": {
             "outlinewidth": 0,
             "ticks": ""
            },
            "type": "mesh3d"
           }
          ],
          "parcoords": [
           {
            "line": {
             "colorbar": {
              "outlinewidth": 0,
              "ticks": ""
             }
            },
            "type": "parcoords"
           }
          ],
          "pie": [
           {
            "automargin": true,
            "type": "pie"
           }
          ],
          "scatter": [
           {
            "fillpattern": {
             "fillmode": "overlay",
             "size": 10,
             "solidity": 0.2
            },
            "type": "scatter"
           }
          ],
          "scatter3d": [
           {
            "line": {
             "colorbar": {
              "outlinewidth": 0,
              "ticks": ""
             }
            },
            "marker": {
             "colorbar": {
              "outlinewidth": 0,
              "ticks": ""
             }
            },
            "type": "scatter3d"
           }
          ],
          "scattercarpet": [
           {
            "marker": {
             "colorbar": {
              "outlinewidth": 0,
              "ticks": ""
             }
            },
            "type": "scattercarpet"
           }
          ],
          "scattergeo": [
           {
            "marker": {
             "colorbar": {
              "outlinewidth": 0,
              "ticks": ""
             }
            },
            "type": "scattergeo"
           }
          ],
          "scattergl": [
           {
            "marker": {
             "colorbar": {
              "outlinewidth": 0,
              "ticks": ""
             }
            },
            "type": "scattergl"
           }
          ],
          "scattermapbox": [
           {
            "marker": {
             "colorbar": {
              "outlinewidth": 0,
              "ticks": ""
             }
            },
            "type": "scattermapbox"
           }
          ],
          "scatterpolar": [
           {
            "marker": {
             "colorbar": {
              "outlinewidth": 0,
              "ticks": ""
             }
            },
            "type": "scatterpolar"
           }
          ],
          "scatterpolargl": [
           {
            "marker": {
             "colorbar": {
              "outlinewidth": 0,
              "ticks": ""
             }
            },
            "type": "scatterpolargl"
           }
          ],
          "scatterternary": [
           {
            "marker": {
             "colorbar": {
              "outlinewidth": 0,
              "ticks": ""
             }
            },
            "type": "scatterternary"
           }
          ],
          "surface": [
           {
            "colorbar": {
             "outlinewidth": 0,
             "ticks": ""
            },
            "colorscale": [
             [
              0,
              "#0d0887"
             ],
             [
              0.1111111111111111,
              "#46039f"
             ],
             [
              0.2222222222222222,
              "#7201a8"
             ],
             [
              0.3333333333333333,
              "#9c179e"
             ],
             [
              0.4444444444444444,
              "#bd3786"
             ],
             [
              0.5555555555555556,
              "#d8576b"
             ],
             [
              0.6666666666666666,
              "#ed7953"
             ],
             [
              0.7777777777777778,
              "#fb9f3a"
             ],
             [
              0.8888888888888888,
              "#fdca26"
             ],
             [
              1,
              "#f0f921"
             ]
            ],
            "type": "surface"
           }
          ],
          "table": [
           {
            "cells": {
             "fill": {
              "color": "#EBF0F8"
             },
             "line": {
              "color": "white"
             }
            },
            "header": {
             "fill": {
              "color": "#C8D4E3"
             },
             "line": {
              "color": "white"
             }
            },
            "type": "table"
           }
          ]
         },
         "layout": {
          "annotationdefaults": {
           "arrowcolor": "#2a3f5f",
           "arrowhead": 0,
           "arrowwidth": 1
          },
          "autotypenumbers": "strict",
          "coloraxis": {
           "colorbar": {
            "outlinewidth": 0,
            "ticks": ""
           }
          },
          "colorscale": {
           "diverging": [
            [
             0,
             "#8e0152"
            ],
            [
             0.1,
             "#c51b7d"
            ],
            [
             0.2,
             "#de77ae"
            ],
            [
             0.3,
             "#f1b6da"
            ],
            [
             0.4,
             "#fde0ef"
            ],
            [
             0.5,
             "#f7f7f7"
            ],
            [
             0.6,
             "#e6f5d0"
            ],
            [
             0.7,
             "#b8e186"
            ],
            [
             0.8,
             "#7fbc41"
            ],
            [
             0.9,
             "#4d9221"
            ],
            [
             1,
             "#276419"
            ]
           ],
           "sequential": [
            [
             0,
             "#0d0887"
            ],
            [
             0.1111111111111111,
             "#46039f"
            ],
            [
             0.2222222222222222,
             "#7201a8"
            ],
            [
             0.3333333333333333,
             "#9c179e"
            ],
            [
             0.4444444444444444,
             "#bd3786"
            ],
            [
             0.5555555555555556,
             "#d8576b"
            ],
            [
             0.6666666666666666,
             "#ed7953"
            ],
            [
             0.7777777777777778,
             "#fb9f3a"
            ],
            [
             0.8888888888888888,
             "#fdca26"
            ],
            [
             1,
             "#f0f921"
            ]
           ],
           "sequentialminus": [
            [
             0,
             "#0d0887"
            ],
            [
             0.1111111111111111,
             "#46039f"
            ],
            [
             0.2222222222222222,
             "#7201a8"
            ],
            [
             0.3333333333333333,
             "#9c179e"
            ],
            [
             0.4444444444444444,
             "#bd3786"
            ],
            [
             0.5555555555555556,
             "#d8576b"
            ],
            [
             0.6666666666666666,
             "#ed7953"
            ],
            [
             0.7777777777777778,
             "#fb9f3a"
            ],
            [
             0.8888888888888888,
             "#fdca26"
            ],
            [
             1,
             "#f0f921"
            ]
           ]
          },
          "colorway": [
           "#636efa",
           "#EF553B",
           "#00cc96",
           "#ab63fa",
           "#FFA15A",
           "#19d3f3",
           "#FF6692",
           "#B6E880",
           "#FF97FF",
           "#FECB52"
          ],
          "font": {
           "color": "#2a3f5f"
          },
          "geo": {
           "bgcolor": "white",
           "lakecolor": "white",
           "landcolor": "#E5ECF6",
           "showlakes": true,
           "showland": true,
           "subunitcolor": "white"
          },
          "hoverlabel": {
           "align": "left"
          },
          "hovermode": "closest",
          "mapbox": {
           "style": "light"
          },
          "paper_bgcolor": "white",
          "plot_bgcolor": "#E5ECF6",
          "polar": {
           "angularaxis": {
            "gridcolor": "white",
            "linecolor": "white",
            "ticks": ""
           },
           "bgcolor": "#E5ECF6",
           "radialaxis": {
            "gridcolor": "white",
            "linecolor": "white",
            "ticks": ""
           }
          },
          "scene": {
           "xaxis": {
            "backgroundcolor": "#E5ECF6",
            "gridcolor": "white",
            "gridwidth": 2,
            "linecolor": "white",
            "showbackground": true,
            "ticks": "",
            "zerolinecolor": "white"
           },
           "yaxis": {
            "backgroundcolor": "#E5ECF6",
            "gridcolor": "white",
            "gridwidth": 2,
            "linecolor": "white",
            "showbackground": true,
            "ticks": "",
            "zerolinecolor": "white"
           },
           "zaxis": {
            "backgroundcolor": "#E5ECF6",
            "gridcolor": "white",
            "gridwidth": 2,
            "linecolor": "white",
            "showbackground": true,
            "ticks": "",
            "zerolinecolor": "white"
           }
          },
          "shapedefaults": {
           "line": {
            "color": "#2a3f5f"
           }
          },
          "ternary": {
           "aaxis": {
            "gridcolor": "white",
            "linecolor": "white",
            "ticks": ""
           },
           "baxis": {
            "gridcolor": "white",
            "linecolor": "white",
            "ticks": ""
           },
           "bgcolor": "#E5ECF6",
           "caxis": {
            "gridcolor": "white",
            "linecolor": "white",
            "ticks": ""
           }
          },
          "title": {
           "x": 0.05
          },
          "xaxis": {
           "automargin": true,
           "gridcolor": "white",
           "linecolor": "white",
           "ticks": "",
           "title": {
            "standoff": 15
           },
           "zerolinecolor": "white",
           "zerolinewidth": 2
          },
          "yaxis": {
           "automargin": true,
           "gridcolor": "white",
           "linecolor": "white",
           "ticks": "",
           "title": {
            "standoff": 15
           },
           "zerolinecolor": "white",
           "zerolinewidth": 2
          }
         }
        }
       }
      }
     },
     "metadata": {},
     "output_type": "display_data"
    }
   ],
   "source": [
    "fig=px.line_3d(data,x='bond_girl_name',y='actress_age',\n",
    "               z='film_release_year',color='budget_actual_$')\n",
    "fig.show()"
   ]
  },
  {
   "cell_type": "markdown",
   "id": "72eab15a",
   "metadata": {},
   "source": [
    "# 3D Scatter Plot Plotly"
   ]
  },
  {
   "cell_type": "code",
   "execution_count": 19,
   "id": "e518227d",
   "metadata": {},
   "outputs": [
    {
     "data": {
      "application/vnd.plotly.v1+json": {
       "config": {
        "plotlyServerURL": "https://plot.ly"
       },
       "data": [
        {
         "hovertemplate": "director_name=Terence Young<br>film_release_year=%{x}<br>bond_actor=%{y}<br>bond_actor_age=%{z}<extra></extra>",
         "legendgroup": "Terence Young",
         "marker": {
          "color": "#636efa",
          "symbol": "circle"
         },
         "mode": "markers",
         "name": "Terence Young",
         "scene": "scene",
         "showlegend": true,
         "type": "scatter3d",
         "x": [
          1962,
          1962,
          1963,
          1963,
          1965,
          1963,
          1965,
          1965,
          1965,
          1965
         ],
         "y": [
          "Sean Connery",
          "Sean Connery",
          "Sean Connery",
          "Sean Connery",
          "Sean Connery",
          "Sean Connery",
          "Sean Connery",
          "Sean Connery",
          "Sean Connery",
          "Sean Connery"
         ],
         "z": [
          32,
          32,
          33,
          33,
          35,
          33,
          35,
          35,
          35,
          35
         ]
        },
        {
         "hovertemplate": "director_name=Guy Hamilton<br>film_release_year=%{x}<br>bond_actor=%{y}<br>bond_actor_age=%{z}<extra></extra>",
         "legendgroup": "Guy Hamilton",
         "marker": {
          "color": "#EF553B",
          "symbol": "circle"
         },
         "mode": "markers",
         "name": "Guy Hamilton",
         "scene": "scene",
         "showlegend": true,
         "type": "scatter3d",
         "x": [
          1964,
          1964,
          1964,
          1964,
          1964,
          1971,
          1971,
          1971,
          1971,
          1973,
          1973,
          1973,
          1974,
          1974
         ],
         "y": [
          "Sean Connery",
          "Sean Connery",
          "Sean Connery",
          "Sean Connery",
          "Sean Connery",
          "Sean Connery",
          "Sean Connery",
          "Sean Connery",
          "Sean Connery",
          "Roger Moore",
          "Roger Moore",
          "Roger Moore",
          "Roger Moore",
          "Roger Moore"
         ],
         "z": [
          34,
          34,
          34,
          34,
          34,
          41,
          41,
          41,
          41,
          46,
          46,
          46,
          47,
          47
         ]
        },
        {
         "hovertemplate": "director_name=Lewis Gilbert<br>film_release_year=%{x}<br>bond_actor=%{y}<br>bond_actor_age=%{z}<extra></extra>",
         "legendgroup": "Lewis Gilbert",
         "marker": {
          "color": "#00cc96",
          "symbol": "circle"
         },
         "mode": "markers",
         "name": "Lewis Gilbert",
         "scene": "scene",
         "showlegend": true,
         "type": "scatter3d",
         "x": [
          1967,
          1967,
          1967,
          1967,
          1977,
          1977,
          1977,
          1979,
          1979,
          1979
         ],
         "y": [
          "Sean Connery",
          "Sean Connery",
          "Sean Connery",
          "Sean Connery",
          "Roger Moore",
          "Roger Moore",
          "Roger Moore",
          "Roger Moore",
          "Roger Moore",
          "Roger Moore"
         ],
         "z": [
          37,
          37,
          37,
          37,
          50,
          50,
          50,
          52,
          52,
          52
         ]
        },
        {
         "hovertemplate": "director_name=Peter R. Hunt<br>film_release_year=%{x}<br>bond_actor=%{y}<br>bond_actor_age=%{z}<extra></extra>",
         "legendgroup": "Peter R. Hunt",
         "marker": {
          "color": "#ab63fa",
          "symbol": "circle"
         },
         "mode": "markers",
         "name": "Peter R. Hunt",
         "scene": "scene",
         "showlegend": true,
         "type": "scatter3d",
         "x": [
          1969,
          1969,
          1969
         ],
         "y": [
          "George Lazenby",
          "George Lazenby",
          "George Lazenby"
         ],
         "z": [
          30,
          30,
          30
         ]
        },
        {
         "hovertemplate": "director_name=John Glen<br>film_release_year=%{x}<br>bond_actor=%{y}<br>bond_actor_age=%{z}<extra></extra>",
         "legendgroup": "John Glen",
         "marker": {
          "color": "#FFA15A",
          "symbol": "circle"
         },
         "mode": "markers",
         "name": "John Glen",
         "scene": "scene",
         "showlegend": true,
         "type": "scatter3d",
         "x": [
          1983,
          1981,
          1981,
          1981,
          1983,
          1985,
          1985,
          1985,
          1987,
          1989,
          1989
         ],
         "y": [
          "Roger Moore",
          "Roger Moore",
          "Roger Moore",
          "Roger Moore",
          "Roger Moore",
          "Roger Moore",
          "Roger Moore",
          "Roger Moore",
          "Timothy Dalton",
          "Timothy Dalton",
          "Timothy Dalton"
         ],
         "z": [
          56,
          54,
          54,
          54,
          56,
          58,
          58,
          58,
          41,
          43,
          43
         ]
        },
        {
         "hovertemplate": "director_name=Martin Campbell<br>film_release_year=%{x}<br>bond_actor=%{y}<br>bond_actor_age=%{z}<extra></extra>",
         "legendgroup": "Martin Campbell",
         "marker": {
          "color": "#19d3f3",
          "symbol": "circle"
         },
         "mode": "markers",
         "name": "Martin Campbell",
         "scene": "scene",
         "showlegend": true,
         "type": "scatter3d",
         "x": [
          1995,
          1995,
          1995,
          2006,
          2006
         ],
         "y": [
          "Pierce Brosnan",
          "Pierce Brosnan",
          "Pierce Brosnan",
          "Daniel Craig",
          "Daniel Craig"
         ],
         "z": [
          42,
          42,
          42,
          38,
          38
         ]
        },
        {
         "hovertemplate": "director_name=Roger Spottiswoode<br>film_release_year=%{x}<br>bond_actor=%{y}<br>bond_actor_age=%{z}<extra></extra>",
         "legendgroup": "Roger Spottiswoode",
         "marker": {
          "color": "#FF6692",
          "symbol": "circle"
         },
         "mode": "markers",
         "name": "Roger Spottiswoode",
         "scene": "scene",
         "showlegend": true,
         "type": "scatter3d",
         "x": [
          1997,
          1997,
          1997
         ],
         "y": [
          "Pierce Brosnan",
          "Pierce Brosnan",
          "Pierce Brosnan"
         ],
         "z": [
          44,
          44,
          44
         ]
        },
        {
         "hovertemplate": "director_name=Michael Apted<br>film_release_year=%{x}<br>bond_actor=%{y}<br>bond_actor_age=%{z}<extra></extra>",
         "legendgroup": "Michael Apted",
         "marker": {
          "color": "#B6E880",
          "symbol": "circle"
         },
         "mode": "markers",
         "name": "Michael Apted",
         "scene": "scene",
         "showlegend": true,
         "type": "scatter3d",
         "x": [
          1999,
          1999,
          1999
         ],
         "y": [
          "Pierce Brosnan",
          "Pierce Brosnan",
          "Pierce Brosnan"
         ],
         "z": [
          46,
          46,
          46
         ]
        },
        {
         "hovertemplate": "director_name=Lee Tamahori<br>film_release_year=%{x}<br>bond_actor=%{y}<br>bond_actor_age=%{z}<extra></extra>",
         "legendgroup": "Lee Tamahori",
         "marker": {
          "color": "#FF97FF",
          "symbol": "circle"
         },
         "mode": "markers",
         "name": "Lee Tamahori",
         "scene": "scene",
         "showlegend": true,
         "type": "scatter3d",
         "x": [
          2002,
          2002,
          2002
         ],
         "y": [
          "Pierce Brosnan",
          "Pierce Brosnan",
          "Pierce Brosnan"
         ],
         "z": [
          49,
          49,
          49
         ]
        },
        {
         "hovertemplate": "director_name=Marc Forster<br>film_release_year=%{x}<br>bond_actor=%{y}<br>bond_actor_age=%{z}<extra></extra>",
         "legendgroup": "Marc Forster",
         "marker": {
          "color": "#FECB52",
          "symbol": "circle"
         },
         "mode": "markers",
         "name": "Marc Forster",
         "scene": "scene",
         "showlegend": true,
         "type": "scatter3d",
         "x": [
          2008,
          2008
         ],
         "y": [
          "Daniel Craig",
          "Daniel Craig"
         ],
         "z": [
          40,
          40
         ]
        },
        {
         "hovertemplate": "director_name=Sam Mendes<br>film_release_year=%{x}<br>bond_actor=%{y}<br>bond_actor_age=%{z}<extra></extra>",
         "legendgroup": "Sam Mendes",
         "marker": {
          "color": "#636efa",
          "symbol": "circle"
         },
         "mode": "markers",
         "name": "Sam Mendes",
         "scene": "scene",
         "showlegend": true,
         "type": "scatter3d",
         "x": [
          2012,
          2012,
          2015,
          2015
         ],
         "y": [
          "Daniel Craig",
          "Daniel Craig",
          "Daniel Craig",
          "Daniel Craig"
         ],
         "z": [
          44,
          44,
          47,
          47
         ]
        },
        {
         "hovertemplate": "director_name=Cary Joji Fukunaga<br>film_release_year=%{x}<br>bond_actor=%{y}<br>bond_actor_age=%{z}<extra></extra>",
         "legendgroup": "Cary Joji Fukunaga",
         "marker": {
          "color": "#EF553B",
          "symbol": "circle"
         },
         "mode": "markers",
         "name": "Cary Joji Fukunaga",
         "scene": "scene",
         "showlegend": true,
         "type": "scatter3d",
         "x": [
          2021,
          2021,
          2021
         ],
         "y": [
          "Daniel Craig",
          "Daniel Craig",
          "Daniel Craig"
         ],
         "z": [
          53,
          53,
          53
         ]
        }
       ],
       "layout": {
        "legend": {
         "title": {
          "text": "director_name"
         },
         "tracegroupgap": 0
        },
        "margin": {
         "t": 60
        },
        "scene": {
         "domain": {
          "x": [
           0,
           1
          ],
          "y": [
           0,
           1
          ]
         },
         "xaxis": {
          "title": {
           "text": "film_release_year"
          }
         },
         "yaxis": {
          "title": {
           "text": "bond_actor"
          }
         },
         "zaxis": {
          "title": {
           "text": "bond_actor_age"
          }
         }
        },
        "template": {
         "data": {
          "bar": [
           {
            "error_x": {
             "color": "#2a3f5f"
            },
            "error_y": {
             "color": "#2a3f5f"
            },
            "marker": {
             "line": {
              "color": "#E5ECF6",
              "width": 0.5
             },
             "pattern": {
              "fillmode": "overlay",
              "size": 10,
              "solidity": 0.2
             }
            },
            "type": "bar"
           }
          ],
          "barpolar": [
           {
            "marker": {
             "line": {
              "color": "#E5ECF6",
              "width": 0.5
             },
             "pattern": {
              "fillmode": "overlay",
              "size": 10,
              "solidity": 0.2
             }
            },
            "type": "barpolar"
           }
          ],
          "carpet": [
           {
            "aaxis": {
             "endlinecolor": "#2a3f5f",
             "gridcolor": "white",
             "linecolor": "white",
             "minorgridcolor": "white",
             "startlinecolor": "#2a3f5f"
            },
            "baxis": {
             "endlinecolor": "#2a3f5f",
             "gridcolor": "white",
             "linecolor": "white",
             "minorgridcolor": "white",
             "startlinecolor": "#2a3f5f"
            },
            "type": "carpet"
           }
          ],
          "choropleth": [
           {
            "colorbar": {
             "outlinewidth": 0,
             "ticks": ""
            },
            "type": "choropleth"
           }
          ],
          "contour": [
           {
            "colorbar": {
             "outlinewidth": 0,
             "ticks": ""
            },
            "colorscale": [
             [
              0,
              "#0d0887"
             ],
             [
              0.1111111111111111,
              "#46039f"
             ],
             [
              0.2222222222222222,
              "#7201a8"
             ],
             [
              0.3333333333333333,
              "#9c179e"
             ],
             [
              0.4444444444444444,
              "#bd3786"
             ],
             [
              0.5555555555555556,
              "#d8576b"
             ],
             [
              0.6666666666666666,
              "#ed7953"
             ],
             [
              0.7777777777777778,
              "#fb9f3a"
             ],
             [
              0.8888888888888888,
              "#fdca26"
             ],
             [
              1,
              "#f0f921"
             ]
            ],
            "type": "contour"
           }
          ],
          "contourcarpet": [
           {
            "colorbar": {
             "outlinewidth": 0,
             "ticks": ""
            },
            "type": "contourcarpet"
           }
          ],
          "heatmap": [
           {
            "colorbar": {
             "outlinewidth": 0,
             "ticks": ""
            },
            "colorscale": [
             [
              0,
              "#0d0887"
             ],
             [
              0.1111111111111111,
              "#46039f"
             ],
             [
              0.2222222222222222,
              "#7201a8"
             ],
             [
              0.3333333333333333,
              "#9c179e"
             ],
             [
              0.4444444444444444,
              "#bd3786"
             ],
             [
              0.5555555555555556,
              "#d8576b"
             ],
             [
              0.6666666666666666,
              "#ed7953"
             ],
             [
              0.7777777777777778,
              "#fb9f3a"
             ],
             [
              0.8888888888888888,
              "#fdca26"
             ],
             [
              1,
              "#f0f921"
             ]
            ],
            "type": "heatmap"
           }
          ],
          "heatmapgl": [
           {
            "colorbar": {
             "outlinewidth": 0,
             "ticks": ""
            },
            "colorscale": [
             [
              0,
              "#0d0887"
             ],
             [
              0.1111111111111111,
              "#46039f"
             ],
             [
              0.2222222222222222,
              "#7201a8"
             ],
             [
              0.3333333333333333,
              "#9c179e"
             ],
             [
              0.4444444444444444,
              "#bd3786"
             ],
             [
              0.5555555555555556,
              "#d8576b"
             ],
             [
              0.6666666666666666,
              "#ed7953"
             ],
             [
              0.7777777777777778,
              "#fb9f3a"
             ],
             [
              0.8888888888888888,
              "#fdca26"
             ],
             [
              1,
              "#f0f921"
             ]
            ],
            "type": "heatmapgl"
           }
          ],
          "histogram": [
           {
            "marker": {
             "pattern": {
              "fillmode": "overlay",
              "size": 10,
              "solidity": 0.2
             }
            },
            "type": "histogram"
           }
          ],
          "histogram2d": [
           {
            "colorbar": {
             "outlinewidth": 0,
             "ticks": ""
            },
            "colorscale": [
             [
              0,
              "#0d0887"
             ],
             [
              0.1111111111111111,
              "#46039f"
             ],
             [
              0.2222222222222222,
              "#7201a8"
             ],
             [
              0.3333333333333333,
              "#9c179e"
             ],
             [
              0.4444444444444444,
              "#bd3786"
             ],
             [
              0.5555555555555556,
              "#d8576b"
             ],
             [
              0.6666666666666666,
              "#ed7953"
             ],
             [
              0.7777777777777778,
              "#fb9f3a"
             ],
             [
              0.8888888888888888,
              "#fdca26"
             ],
             [
              1,
              "#f0f921"
             ]
            ],
            "type": "histogram2d"
           }
          ],
          "histogram2dcontour": [
           {
            "colorbar": {
             "outlinewidth": 0,
             "ticks": ""
            },
            "colorscale": [
             [
              0,
              "#0d0887"
             ],
             [
              0.1111111111111111,
              "#46039f"
             ],
             [
              0.2222222222222222,
              "#7201a8"
             ],
             [
              0.3333333333333333,
              "#9c179e"
             ],
             [
              0.4444444444444444,
              "#bd3786"
             ],
             [
              0.5555555555555556,
              "#d8576b"
             ],
             [
              0.6666666666666666,
              "#ed7953"
             ],
             [
              0.7777777777777778,
              "#fb9f3a"
             ],
             [
              0.8888888888888888,
              "#fdca26"
             ],
             [
              1,
              "#f0f921"
             ]
            ],
            "type": "histogram2dcontour"
           }
          ],
          "mesh3d": [
           {
            "colorbar": {
             "outlinewidth": 0,
             "ticks": ""
            },
            "type": "mesh3d"
           }
          ],
          "parcoords": [
           {
            "line": {
             "colorbar": {
              "outlinewidth": 0,
              "ticks": ""
             }
            },
            "type": "parcoords"
           }
          ],
          "pie": [
           {
            "automargin": true,
            "type": "pie"
           }
          ],
          "scatter": [
           {
            "fillpattern": {
             "fillmode": "overlay",
             "size": 10,
             "solidity": 0.2
            },
            "type": "scatter"
           }
          ],
          "scatter3d": [
           {
            "line": {
             "colorbar": {
              "outlinewidth": 0,
              "ticks": ""
             }
            },
            "marker": {
             "colorbar": {
              "outlinewidth": 0,
              "ticks": ""
             }
            },
            "type": "scatter3d"
           }
          ],
          "scattercarpet": [
           {
            "marker": {
             "colorbar": {
              "outlinewidth": 0,
              "ticks": ""
             }
            },
            "type": "scattercarpet"
           }
          ],
          "scattergeo": [
           {
            "marker": {
             "colorbar": {
              "outlinewidth": 0,
              "ticks": ""
             }
            },
            "type": "scattergeo"
           }
          ],
          "scattergl": [
           {
            "marker": {
             "colorbar": {
              "outlinewidth": 0,
              "ticks": ""
             }
            },
            "type": "scattergl"
           }
          ],
          "scattermapbox": [
           {
            "marker": {
             "colorbar": {
              "outlinewidth": 0,
              "ticks": ""
             }
            },
            "type": "scattermapbox"
           }
          ],
          "scatterpolar": [
           {
            "marker": {
             "colorbar": {
              "outlinewidth": 0,
              "ticks": ""
             }
            },
            "type": "scatterpolar"
           }
          ],
          "scatterpolargl": [
           {
            "marker": {
             "colorbar": {
              "outlinewidth": 0,
              "ticks": ""
             }
            },
            "type": "scatterpolargl"
           }
          ],
          "scatterternary": [
           {
            "marker": {
             "colorbar": {
              "outlinewidth": 0,
              "ticks": ""
             }
            },
            "type": "scatterternary"
           }
          ],
          "surface": [
           {
            "colorbar": {
             "outlinewidth": 0,
             "ticks": ""
            },
            "colorscale": [
             [
              0,
              "#0d0887"
             ],
             [
              0.1111111111111111,
              "#46039f"
             ],
             [
              0.2222222222222222,
              "#7201a8"
             ],
             [
              0.3333333333333333,
              "#9c179e"
             ],
             [
              0.4444444444444444,
              "#bd3786"
             ],
             [
              0.5555555555555556,
              "#d8576b"
             ],
             [
              0.6666666666666666,
              "#ed7953"
             ],
             [
              0.7777777777777778,
              "#fb9f3a"
             ],
             [
              0.8888888888888888,
              "#fdca26"
             ],
             [
              1,
              "#f0f921"
             ]
            ],
            "type": "surface"
           }
          ],
          "table": [
           {
            "cells": {
             "fill": {
              "color": "#EBF0F8"
             },
             "line": {
              "color": "white"
             }
            },
            "header": {
             "fill": {
              "color": "#C8D4E3"
             },
             "line": {
              "color": "white"
             }
            },
            "type": "table"
           }
          ]
         },
         "layout": {
          "annotationdefaults": {
           "arrowcolor": "#2a3f5f",
           "arrowhead": 0,
           "arrowwidth": 1
          },
          "autotypenumbers": "strict",
          "coloraxis": {
           "colorbar": {
            "outlinewidth": 0,
            "ticks": ""
           }
          },
          "colorscale": {
           "diverging": [
            [
             0,
             "#8e0152"
            ],
            [
             0.1,
             "#c51b7d"
            ],
            [
             0.2,
             "#de77ae"
            ],
            [
             0.3,
             "#f1b6da"
            ],
            [
             0.4,
             "#fde0ef"
            ],
            [
             0.5,
             "#f7f7f7"
            ],
            [
             0.6,
             "#e6f5d0"
            ],
            [
             0.7,
             "#b8e186"
            ],
            [
             0.8,
             "#7fbc41"
            ],
            [
             0.9,
             "#4d9221"
            ],
            [
             1,
             "#276419"
            ]
           ],
           "sequential": [
            [
             0,
             "#0d0887"
            ],
            [
             0.1111111111111111,
             "#46039f"
            ],
            [
             0.2222222222222222,
             "#7201a8"
            ],
            [
             0.3333333333333333,
             "#9c179e"
            ],
            [
             0.4444444444444444,
             "#bd3786"
            ],
            [
             0.5555555555555556,
             "#d8576b"
            ],
            [
             0.6666666666666666,
             "#ed7953"
            ],
            [
             0.7777777777777778,
             "#fb9f3a"
            ],
            [
             0.8888888888888888,
             "#fdca26"
            ],
            [
             1,
             "#f0f921"
            ]
           ],
           "sequentialminus": [
            [
             0,
             "#0d0887"
            ],
            [
             0.1111111111111111,
             "#46039f"
            ],
            [
             0.2222222222222222,
             "#7201a8"
            ],
            [
             0.3333333333333333,
             "#9c179e"
            ],
            [
             0.4444444444444444,
             "#bd3786"
            ],
            [
             0.5555555555555556,
             "#d8576b"
            ],
            [
             0.6666666666666666,
             "#ed7953"
            ],
            [
             0.7777777777777778,
             "#fb9f3a"
            ],
            [
             0.8888888888888888,
             "#fdca26"
            ],
            [
             1,
             "#f0f921"
            ]
           ]
          },
          "colorway": [
           "#636efa",
           "#EF553B",
           "#00cc96",
           "#ab63fa",
           "#FFA15A",
           "#19d3f3",
           "#FF6692",
           "#B6E880",
           "#FF97FF",
           "#FECB52"
          ],
          "font": {
           "color": "#2a3f5f"
          },
          "geo": {
           "bgcolor": "white",
           "lakecolor": "white",
           "landcolor": "#E5ECF6",
           "showlakes": true,
           "showland": true,
           "subunitcolor": "white"
          },
          "hoverlabel": {
           "align": "left"
          },
          "hovermode": "closest",
          "mapbox": {
           "style": "light"
          },
          "paper_bgcolor": "white",
          "plot_bgcolor": "#E5ECF6",
          "polar": {
           "angularaxis": {
            "gridcolor": "white",
            "linecolor": "white",
            "ticks": ""
           },
           "bgcolor": "#E5ECF6",
           "radialaxis": {
            "gridcolor": "white",
            "linecolor": "white",
            "ticks": ""
           }
          },
          "scene": {
           "xaxis": {
            "backgroundcolor": "#E5ECF6",
            "gridcolor": "white",
            "gridwidth": 2,
            "linecolor": "white",
            "showbackground": true,
            "ticks": "",
            "zerolinecolor": "white"
           },
           "yaxis": {
            "backgroundcolor": "#E5ECF6",
            "gridcolor": "white",
            "gridwidth": 2,
            "linecolor": "white",
            "showbackground": true,
            "ticks": "",
            "zerolinecolor": "white"
           },
           "zaxis": {
            "backgroundcolor": "#E5ECF6",
            "gridcolor": "white",
            "gridwidth": 2,
            "linecolor": "white",
            "showbackground": true,
            "ticks": "",
            "zerolinecolor": "white"
           }
          },
          "shapedefaults": {
           "line": {
            "color": "#2a3f5f"
           }
          },
          "ternary": {
           "aaxis": {
            "gridcolor": "white",
            "linecolor": "white",
            "ticks": ""
           },
           "baxis": {
            "gridcolor": "white",
            "linecolor": "white",
            "ticks": ""
           },
           "bgcolor": "#E5ECF6",
           "caxis": {
            "gridcolor": "white",
            "linecolor": "white",
            "ticks": ""
           }
          },
          "title": {
           "x": 0.05
          },
          "xaxis": {
           "automargin": true,
           "gridcolor": "white",
           "linecolor": "white",
           "ticks": "",
           "title": {
            "standoff": 15
           },
           "zerolinecolor": "white",
           "zerolinewidth": 2
          },
          "yaxis": {
           "automargin": true,
           "gridcolor": "white",
           "linecolor": "white",
           "ticks": "",
           "title": {
            "standoff": 15
           },
           "zerolinecolor": "white",
           "zerolinewidth": 2
          }
         }
        }
       }
      }
     },
     "metadata": {},
     "output_type": "display_data"
    }
   ],
   "source": [
    "fig= px.scatter_3d(data,x='film_release_year',\n",
    "                  y='bond_actor',\n",
    "                  z='bond_actor_age',\n",
    "                  color='director_name')\n",
    "fig.show()"
   ]
  },
  {
   "cell_type": "code",
   "execution_count": 20,
   "id": "b852ad66",
   "metadata": {},
   "outputs": [
    {
     "data": {
      "application/vnd.plotly.v1+json": {
       "config": {
        "plotlyServerURL": "https://plot.ly"
       },
       "data": [
        {
         "a": [
          59.5,
          59.5
         ],
         "b": [
          448.8,
          448.8
         ],
         "c": [
          "7.0",
          "7.0"
         ],
         "hovertemplate": "director_name=Terence Young<br>budget_actual_$=1.1<br>box_office_actual_$=%{a}<br>box_office_adjusted_2005_$=%{b}<br>budget_adjusted_2005_$=%{c}<extra></extra>",
         "legendgroup": "Terence Young, 1.1",
         "marker": {
          "color": "#636efa",
          "symbol": "circle"
         },
         "mode": "markers",
         "name": "Terence Young, 1.1",
         "showlegend": true,
         "subplot": "ternary",
         "type": "scatterternary"
        },
        {
         "a": [
          78.9,
          78.9,
          78.9
         ],
         "b": [
          543.8,
          543.8,
          543.8
         ],
         "c": [
          "12.6",
          "12.6",
          "12.6"
         ],
         "hovertemplate": "director_name=Terence Young<br>budget_actual_$=2.0<br>box_office_actual_$=%{a}<br>box_office_adjusted_2005_$=%{b}<br>budget_adjusted_2005_$=%{c}<extra></extra>",
         "legendgroup": "Terence Young, 2.0",
         "marker": {
          "color": "#636efa",
          "symbol": "diamond"
         },
         "mode": "markers",
         "name": "Terence Young, 2.0",
         "showlegend": true,
         "subplot": "ternary",
         "type": "scatterternary"
        },
        {
         "a": [
          141.2,
          141.2,
          141.2,
          141.2,
          141.2
         ],
         "b": [
          848.1,
          848.1,
          848.1,
          848.1,
          848.1
         ],
         "c": [
          "41.9",
          "41.9",
          "41.9",
          "41.9",
          "41.9"
         ],
         "hovertemplate": "director_name=Terence Young<br>budget_actual_$=6.8<br>box_office_actual_$=%{a}<br>box_office_adjusted_2005_$=%{b}<br>budget_adjusted_2005_$=%{c}<extra></extra>",
         "legendgroup": "Terence Young, 6.8",
         "marker": {
          "color": "#636efa",
          "symbol": "square"
         },
         "mode": "markers",
         "name": "Terence Young, 6.8",
         "showlegend": true,
         "subplot": "ternary",
         "type": "scatterternary"
        },
        {
         "a": [
          124.9,
          124.9,
          124.9,
          124.9,
          124.9
         ],
         "b": [
          820.4,
          820.4,
          820.4,
          820.4,
          820.4
         ],
         "c": [
          "18.6",
          "18.6",
          "18.6",
          "18.6",
          "18.6"
         ],
         "hovertemplate": "director_name=Guy Hamilton<br>budget_actual_$=3.0<br>box_office_actual_$=%{a}<br>box_office_adjusted_2005_$=%{b}<br>budget_adjusted_2005_$=%{c}<extra></extra>",
         "legendgroup": "Guy Hamilton, 3.0",
         "marker": {
          "color": "#EF553B",
          "symbol": "x"
         },
         "mode": "markers",
         "name": "Guy Hamilton, 3.0",
         "showlegend": true,
         "subplot": "ternary",
         "type": "scatterternary"
        },
        {
         "a": [
          126.4,
          126.4,
          126.4,
          97.6,
          97.6
         ],
         "b": [
          460.3,
          460.3,
          460.3,
          334,
          334
         ],
         "c": [
          "30.8",
          "30.8",
          "30.8",
          "27.7",
          "27.7"
         ],
         "hovertemplate": "director_name=Guy Hamilton<br>budget_actual_$=7.0<br>box_office_actual_$=%{a}<br>box_office_adjusted_2005_$=%{b}<br>budget_adjusted_2005_$=%{c}<extra></extra>",
         "legendgroup": "Guy Hamilton, 7.0",
         "marker": {
          "color": "#EF553B",
          "symbol": "circle"
         },
         "mode": "markers",
         "name": "Guy Hamilton, 7.0",
         "showlegend": true,
         "subplot": "ternary",
         "type": "scatterternary"
        },
        {
         "a": [
          116,
          116,
          116,
          116
         ],
         "b": [
          442.5,
          442.5,
          442.5,
          442.5
         ],
         "c": [
          "34.7",
          "34.7",
          "34.7",
          "34.7"
         ],
         "hovertemplate": "director_name=Guy Hamilton<br>budget_actual_$=7.2<br>box_office_actual_$=%{a}<br>box_office_adjusted_2005_$=%{b}<br>budget_adjusted_2005_$=%{c}<extra></extra>",
         "legendgroup": "Guy Hamilton, 7.2",
         "marker": {
          "color": "#EF553B",
          "symbol": "diamond"
         },
         "mode": "markers",
         "name": "Guy Hamilton, 7.2",
         "showlegend": true,
         "subplot": "ternary",
         "type": "scatterternary"
        },
        {
         "a": [
          111.6,
          111.6,
          111.6,
          111.6
         ],
         "b": [
          514.2,
          514.2,
          514.2,
          514.2
         ],
         "c": [
          "59.9",
          "59.9",
          "59.9",
          "59.9"
         ],
         "hovertemplate": "director_name=Lewis Gilbert<br>budget_actual_$=10.3<br>box_office_actual_$=%{a}<br>box_office_adjusted_2005_$=%{b}<br>budget_adjusted_2005_$=%{c}<extra></extra>",
         "legendgroup": "Lewis Gilbert, 10.3",
         "marker": {
          "color": "#00cc96",
          "symbol": "cross"
         },
         "mode": "markers",
         "name": "Lewis Gilbert, 10.3",
         "showlegend": true,
         "subplot": "ternary",
         "type": "scatterternary"
        },
        {
         "a": [
          185.4,
          185.4,
          185.4
         ],
         "b": [
          533,
          533,
          533
         ],
         "c": [
          "45.1",
          "45.1",
          "45.1"
         ],
         "hovertemplate": "director_name=Lewis Gilbert<br>budget_actual_$=14.0<br>box_office_actual_$=%{a}<br>box_office_adjusted_2005_$=%{b}<br>budget_adjusted_2005_$=%{c}<extra></extra>",
         "legendgroup": "Lewis Gilbert, 14.0",
         "marker": {
          "color": "#00cc96",
          "symbol": "x"
         },
         "mode": "markers",
         "name": "Lewis Gilbert, 14.0",
         "showlegend": true,
         "subplot": "ternary",
         "type": "scatterternary"
        },
        {
         "a": [
          210.3,
          210.3,
          210.3
         ],
         "b": [
          535,
          535,
          535
         ],
         "c": [
          "91.5",
          "91.5",
          "91.5"
         ],
         "hovertemplate": "director_name=Lewis Gilbert<br>budget_actual_$=34.0<br>box_office_actual_$=%{a}<br>box_office_adjusted_2005_$=%{b}<br>budget_adjusted_2005_$=%{c}<extra></extra>",
         "legendgroup": "Lewis Gilbert, 34.0",
         "marker": {
          "color": "#00cc96",
          "symbol": "cross"
         },
         "mode": "markers",
         "name": "Lewis Gilbert, 34.0",
         "showlegend": true,
         "subplot": "ternary",
         "type": "scatterternary"
        },
        {
         "a": [
          64.6,
          64.6,
          64.6
         ],
         "b": [
          291.5,
          291.5,
          291.5
         ],
         "c": [
          "37.3",
          "37.3",
          "37.3"
         ],
         "hovertemplate": "director_name=Peter R. Hunt<br>budget_actual_$=7.0<br>box_office_actual_$=%{a}<br>box_office_adjusted_2005_$=%{b}<br>budget_adjusted_2005_$=%{c}<extra></extra>",
         "legendgroup": "Peter R. Hunt, 7.0",
         "marker": {
          "color": "#ab63fa",
          "symbol": "circle"
         },
         "mode": "markers",
         "name": "Peter R. Hunt, 7.0",
         "showlegend": true,
         "subplot": "ternary",
         "type": "scatterternary"
        },
        {
         "a": [
          183.7,
          183.7
         ],
         "b": [
          373.8,
          373.8
         ],
         "c": [
          "53.9",
          "53.9"
         ],
         "hovertemplate": "director_name=John Glen<br>budget_actual_$=27.5<br>box_office_actual_$=%{a}<br>box_office_adjusted_2005_$=%{b}<br>budget_adjusted_2005_$=%{c}<extra></extra>",
         "legendgroup": "John Glen, 27.5",
         "marker": {
          "color": "#FFA15A",
          "symbol": "square"
         },
         "mode": "markers",
         "name": "John Glen, 27.5",
         "showlegend": true,
         "subplot": "ternary",
         "type": "scatterternary"
        },
        {
         "a": [
          194.9,
          194.9,
          194.9
         ],
         "b": [
          449.4,
          449.4,
          449.4
         ],
         "c": [
          "60.2",
          "60.2",
          "60.2"
         ],
         "hovertemplate": "director_name=John Glen<br>budget_actual_$=28.0<br>box_office_actual_$=%{a}<br>box_office_adjusted_2005_$=%{b}<br>budget_adjusted_2005_$=%{c}<extra></extra>",
         "legendgroup": "John Glen, 28.0",
         "marker": {
          "color": "#FFA15A",
          "symbol": "circle"
         },
         "mode": "markers",
         "name": "John Glen, 28.0",
         "showlegend": true,
         "subplot": "ternary",
         "type": "scatterternary"
        },
        {
         "a": [
          152.4,
          152.4,
          152.4
         ],
         "b": [
          275.2,
          275.2,
          275.2
         ],
         "c": [
          "54.5",
          "54.5",
          "54.5"
         ],
         "hovertemplate": "director_name=John Glen<br>budget_actual_$=30.0<br>box_office_actual_$=%{a}<br>box_office_adjusted_2005_$=%{b}<br>budget_adjusted_2005_$=%{c}<extra></extra>",
         "legendgroup": "John Glen, 30.0",
         "marker": {
          "color": "#FFA15A",
          "symbol": "diamond"
         },
         "mode": "markers",
         "name": "John Glen, 30.0",
         "showlegend": true,
         "subplot": "ternary",
         "type": "scatterternary"
        },
        {
         "a": [
          191.2
         ],
         "b": [
          313.5
         ],
         "c": [
          "68.8"
         ],
         "hovertemplate": "director_name=John Glen<br>budget_actual_$=40.0<br>box_office_actual_$=%{a}<br>box_office_adjusted_2005_$=%{b}<br>budget_adjusted_2005_$=%{c}<extra></extra>",
         "legendgroup": "John Glen, 40.0",
         "marker": {
          "color": "#FFA15A",
          "symbol": "square"
         },
         "mode": "markers",
         "name": "John Glen, 40.0",
         "showlegend": true,
         "subplot": "ternary",
         "type": "scatterternary"
        },
        {
         "a": [
          156.2,
          156.2
         ],
         "b": [
          250.9,
          250.9
         ],
         "c": [
          "56.7",
          "56.7"
         ],
         "hovertemplate": "director_name=John Glen<br>budget_actual_$=36.0<br>box_office_actual_$=%{a}<br>box_office_adjusted_2005_$=%{b}<br>budget_adjusted_2005_$=%{c}<extra></extra>",
         "legendgroup": "John Glen, 36.0",
         "marker": {
          "color": "#FFA15A",
          "symbol": "x"
         },
         "mode": "markers",
         "name": "John Glen, 36.0",
         "showlegend": true,
         "subplot": "ternary",
         "type": "scatterternary"
        },
        {
         "a": [
          352,
          352,
          352
         ],
         "b": [
          518.5,
          518.5,
          518.5
         ],
         "c": [
          "76.9",
          "76.9",
          "76.9"
         ],
         "hovertemplate": "director_name=Martin Campbell<br>budget_actual_$=60.0<br>box_office_actual_$=%{a}<br>box_office_adjusted_2005_$=%{b}<br>budget_adjusted_2005_$=%{c}<extra></extra>",
         "legendgroup": "Martin Campbell, 60.0",
         "marker": {
          "color": "#19d3f3",
          "symbol": "cross"
         },
         "mode": "markers",
         "name": "Martin Campbell, 60.0",
         "showlegend": true,
         "subplot": "ternary",
         "type": "scatterternary"
        },
        {
         "a": [
          606,
          606
         ],
         "b": [
          589.4,
          589.4
         ],
         "c": [
          "145.3",
          "145.3"
         ],
         "hovertemplate": "director_name=Martin Campbell<br>budget_actual_$=150.0<br>box_office_actual_$=%{a}<br>box_office_adjusted_2005_$=%{b}<br>budget_adjusted_2005_$=%{c}<extra></extra>",
         "legendgroup": "Martin Campbell, 150.0",
         "marker": {
          "color": "#19d3f3",
          "symbol": "x"
         },
         "mode": "markers",
         "name": "Martin Campbell, 150.0",
         "showlegend": true,
         "subplot": "ternary",
         "type": "scatterternary"
        },
        {
         "a": [
          333,
          333,
          333
         ],
         "b": [
          463.2,
          463.2,
          463.2
         ],
         "c": [
          "133.9",
          "133.9",
          "133.9"
         ],
         "hovertemplate": "director_name=Roger Spottiswoode<br>budget_actual_$=110.0<br>box_office_actual_$=%{a}<br>box_office_adjusted_2005_$=%{b}<br>budget_adjusted_2005_$=%{c}<extra></extra>",
         "legendgroup": "Roger Spottiswoode, 110.0",
         "marker": {
          "color": "#FF6692",
          "symbol": "circle"
         },
         "mode": "markers",
         "name": "Roger Spottiswoode, 110.0",
         "showlegend": true,
         "subplot": "ternary",
         "type": "scatterternary"
        },
        {
         "a": [
          361.8,
          361.8,
          361.8
         ],
         "b": [
          439.5,
          439.5,
          439.5
         ],
         "c": [
          "158.3",
          "158.3",
          "158.3"
         ],
         "hovertemplate": "director_name=Michael Apted<br>budget_actual_$=135.0<br>box_office_actual_$=%{a}<br>box_office_adjusted_2005_$=%{b}<br>budget_adjusted_2005_$=%{c}<extra></extra>",
         "legendgroup": "Michael Apted, 135.0",
         "marker": {
          "color": "#B6E880",
          "symbol": "diamond"
         },
         "mode": "markers",
         "name": "Michael Apted, 135.0",
         "showlegend": true,
         "subplot": "ternary",
         "type": "scatterternary"
        },
        {
         "a": [
          432,
          432,
          432
         ],
         "b": [
          465.4,
          465.4,
          465.4
         ],
         "c": [
          "154.2",
          "154.2",
          "154.2"
         ],
         "hovertemplate": "director_name=Lee Tamahori<br>budget_actual_$=142.0<br>box_office_actual_$=%{a}<br>box_office_adjusted_2005_$=%{b}<br>budget_adjusted_2005_$=%{c}<extra></extra>",
         "legendgroup": "Lee Tamahori, 142.0",
         "marker": {
          "color": "#FF97FF",
          "symbol": "square"
         },
         "mode": "markers",
         "name": "Lee Tamahori, 142.0",
         "showlegend": true,
         "subplot": "ternary",
         "type": "scatterternary"
        },
        {
         "a": [
          586.1,
          586.1
         ],
         "b": [
          514.2,
          514.2
         ],
         "c": [
          "181.4",
          "181.4"
         ],
         "hovertemplate": "director_name=Marc Forster<br>budget_actual_$=200.0<br>box_office_actual_$=%{a}<br>box_office_adjusted_2005_$=%{b}<br>budget_adjusted_2005_$=%{c}<extra></extra>",
         "legendgroup": "Marc Forster, 200.0",
         "marker": {
          "color": "#FECB52",
          "symbol": "cross"
         },
         "mode": "markers",
         "name": "Marc Forster, 200.0",
         "showlegend": true,
         "subplot": "ternary",
         "type": "scatterternary"
        },
        {
         "a": [
          1108.6,
          1108.6
         ],
         "b": [
          943.5,
          943.5
         ],
         "c": [
          "127.7–170.2",
          "127.7–170.2"
         ],
         "hovertemplate": "director_name=Sam Mendes<br>budget_actual_$=150.0–200.0<br>box_office_actual_$=%{a}<br>box_office_adjusted_2005_$=%{b}<br>budget_adjusted_2005_$=%{c}<extra></extra>",
         "legendgroup": "Sam Mendes, 150.0–200.0",
         "marker": {
          "color": "#636efa",
          "symbol": "circle"
         },
         "mode": "markers",
         "name": "Sam Mendes, 150.0–200.0",
         "showlegend": true,
         "subplot": "ternary",
         "type": "scatterternary"
        },
        {
         "a": [
          880.7,
          880.7
         ],
         "b": [
          725.5,
          725.5
         ],
         "c": [
          "201.8–205.9",
          "201.8–205.9"
         ],
         "hovertemplate": "director_name=Sam Mendes<br>budget_actual_$=245.0–250.0[b]<br>box_office_actual_$=%{a}<br>box_office_adjusted_2005_$=%{b}<br>budget_adjusted_2005_$=%{c}<extra></extra>",
         "legendgroup": "Sam Mendes, 245.0–250.0[b]",
         "marker": {
          "color": "#636efa",
          "symbol": "diamond"
         },
         "mode": "markers",
         "name": "Sam Mendes, 245.0–250.0[b]",
         "showlegend": true,
         "subplot": "ternary",
         "type": "scatterternary"
        },
        {
         "a": [
          525.7,
          525.7,
          525.7
         ],
         "b": [
          396.8,
          396.8,
          396.8
         ],
         "c": [
          "188.7–226.4",
          "188.7–226.4",
          "188.7–226.4"
         ],
         "hovertemplate": "director_name=Cary Joji Fukunaga<br>budget_actual_$=250.0–301.0<br>box_office_actual_$=%{a}<br>box_office_adjusted_2005_$=%{b}<br>budget_adjusted_2005_$=%{c}<extra></extra>",
         "legendgroup": "Cary Joji Fukunaga, 250.0–301.0",
         "marker": {
          "color": "#EF553B",
          "symbol": "square"
         },
         "mode": "markers",
         "name": "Cary Joji Fukunaga, 250.0–301.0",
         "showlegend": true,
         "subplot": "ternary",
         "type": "scatterternary"
        }
       ],
       "layout": {
        "legend": {
         "title": {
          "text": "director_name, budget_actual_$"
         },
         "tracegroupgap": 0
        },
        "margin": {
         "t": 60
        },
        "template": {
         "data": {
          "bar": [
           {
            "error_x": {
             "color": "#2a3f5f"
            },
            "error_y": {
             "color": "#2a3f5f"
            },
            "marker": {
             "line": {
              "color": "#E5ECF6",
              "width": 0.5
             },
             "pattern": {
              "fillmode": "overlay",
              "size": 10,
              "solidity": 0.2
             }
            },
            "type": "bar"
           }
          ],
          "barpolar": [
           {
            "marker": {
             "line": {
              "color": "#E5ECF6",
              "width": 0.5
             },
             "pattern": {
              "fillmode": "overlay",
              "size": 10,
              "solidity": 0.2
             }
            },
            "type": "barpolar"
           }
          ],
          "carpet": [
           {
            "aaxis": {
             "endlinecolor": "#2a3f5f",
             "gridcolor": "white",
             "linecolor": "white",
             "minorgridcolor": "white",
             "startlinecolor": "#2a3f5f"
            },
            "baxis": {
             "endlinecolor": "#2a3f5f",
             "gridcolor": "white",
             "linecolor": "white",
             "minorgridcolor": "white",
             "startlinecolor": "#2a3f5f"
            },
            "type": "carpet"
           }
          ],
          "choropleth": [
           {
            "colorbar": {
             "outlinewidth": 0,
             "ticks": ""
            },
            "type": "choropleth"
           }
          ],
          "contour": [
           {
            "colorbar": {
             "outlinewidth": 0,
             "ticks": ""
            },
            "colorscale": [
             [
              0,
              "#0d0887"
             ],
             [
              0.1111111111111111,
              "#46039f"
             ],
             [
              0.2222222222222222,
              "#7201a8"
             ],
             [
              0.3333333333333333,
              "#9c179e"
             ],
             [
              0.4444444444444444,
              "#bd3786"
             ],
             [
              0.5555555555555556,
              "#d8576b"
             ],
             [
              0.6666666666666666,
              "#ed7953"
             ],
             [
              0.7777777777777778,
              "#fb9f3a"
             ],
             [
              0.8888888888888888,
              "#fdca26"
             ],
             [
              1,
              "#f0f921"
             ]
            ],
            "type": "contour"
           }
          ],
          "contourcarpet": [
           {
            "colorbar": {
             "outlinewidth": 0,
             "ticks": ""
            },
            "type": "contourcarpet"
           }
          ],
          "heatmap": [
           {
            "colorbar": {
             "outlinewidth": 0,
             "ticks": ""
            },
            "colorscale": [
             [
              0,
              "#0d0887"
             ],
             [
              0.1111111111111111,
              "#46039f"
             ],
             [
              0.2222222222222222,
              "#7201a8"
             ],
             [
              0.3333333333333333,
              "#9c179e"
             ],
             [
              0.4444444444444444,
              "#bd3786"
             ],
             [
              0.5555555555555556,
              "#d8576b"
             ],
             [
              0.6666666666666666,
              "#ed7953"
             ],
             [
              0.7777777777777778,
              "#fb9f3a"
             ],
             [
              0.8888888888888888,
              "#fdca26"
             ],
             [
              1,
              "#f0f921"
             ]
            ],
            "type": "heatmap"
           }
          ],
          "heatmapgl": [
           {
            "colorbar": {
             "outlinewidth": 0,
             "ticks": ""
            },
            "colorscale": [
             [
              0,
              "#0d0887"
             ],
             [
              0.1111111111111111,
              "#46039f"
             ],
             [
              0.2222222222222222,
              "#7201a8"
             ],
             [
              0.3333333333333333,
              "#9c179e"
             ],
             [
              0.4444444444444444,
              "#bd3786"
             ],
             [
              0.5555555555555556,
              "#d8576b"
             ],
             [
              0.6666666666666666,
              "#ed7953"
             ],
             [
              0.7777777777777778,
              "#fb9f3a"
             ],
             [
              0.8888888888888888,
              "#fdca26"
             ],
             [
              1,
              "#f0f921"
             ]
            ],
            "type": "heatmapgl"
           }
          ],
          "histogram": [
           {
            "marker": {
             "pattern": {
              "fillmode": "overlay",
              "size": 10,
              "solidity": 0.2
             }
            },
            "type": "histogram"
           }
          ],
          "histogram2d": [
           {
            "colorbar": {
             "outlinewidth": 0,
             "ticks": ""
            },
            "colorscale": [
             [
              0,
              "#0d0887"
             ],
             [
              0.1111111111111111,
              "#46039f"
             ],
             [
              0.2222222222222222,
              "#7201a8"
             ],
             [
              0.3333333333333333,
              "#9c179e"
             ],
             [
              0.4444444444444444,
              "#bd3786"
             ],
             [
              0.5555555555555556,
              "#d8576b"
             ],
             [
              0.6666666666666666,
              "#ed7953"
             ],
             [
              0.7777777777777778,
              "#fb9f3a"
             ],
             [
              0.8888888888888888,
              "#fdca26"
             ],
             [
              1,
              "#f0f921"
             ]
            ],
            "type": "histogram2d"
           }
          ],
          "histogram2dcontour": [
           {
            "colorbar": {
             "outlinewidth": 0,
             "ticks": ""
            },
            "colorscale": [
             [
              0,
              "#0d0887"
             ],
             [
              0.1111111111111111,
              "#46039f"
             ],
             [
              0.2222222222222222,
              "#7201a8"
             ],
             [
              0.3333333333333333,
              "#9c179e"
             ],
             [
              0.4444444444444444,
              "#bd3786"
             ],
             [
              0.5555555555555556,
              "#d8576b"
             ],
             [
              0.6666666666666666,
              "#ed7953"
             ],
             [
              0.7777777777777778,
              "#fb9f3a"
             ],
             [
              0.8888888888888888,
              "#fdca26"
             ],
             [
              1,
              "#f0f921"
             ]
            ],
            "type": "histogram2dcontour"
           }
          ],
          "mesh3d": [
           {
            "colorbar": {
             "outlinewidth": 0,
             "ticks": ""
            },
            "type": "mesh3d"
           }
          ],
          "parcoords": [
           {
            "line": {
             "colorbar": {
              "outlinewidth": 0,
              "ticks": ""
             }
            },
            "type": "parcoords"
           }
          ],
          "pie": [
           {
            "automargin": true,
            "type": "pie"
           }
          ],
          "scatter": [
           {
            "fillpattern": {
             "fillmode": "overlay",
             "size": 10,
             "solidity": 0.2
            },
            "type": "scatter"
           }
          ],
          "scatter3d": [
           {
            "line": {
             "colorbar": {
              "outlinewidth": 0,
              "ticks": ""
             }
            },
            "marker": {
             "colorbar": {
              "outlinewidth": 0,
              "ticks": ""
             }
            },
            "type": "scatter3d"
           }
          ],
          "scattercarpet": [
           {
            "marker": {
             "colorbar": {
              "outlinewidth": 0,
              "ticks": ""
             }
            },
            "type": "scattercarpet"
           }
          ],
          "scattergeo": [
           {
            "marker": {
             "colorbar": {
              "outlinewidth": 0,
              "ticks": ""
             }
            },
            "type": "scattergeo"
           }
          ],
          "scattergl": [
           {
            "marker": {
             "colorbar": {
              "outlinewidth": 0,
              "ticks": ""
             }
            },
            "type": "scattergl"
           }
          ],
          "scattermapbox": [
           {
            "marker": {
             "colorbar": {
              "outlinewidth": 0,
              "ticks": ""
             }
            },
            "type": "scattermapbox"
           }
          ],
          "scatterpolar": [
           {
            "marker": {
             "colorbar": {
              "outlinewidth": 0,
              "ticks": ""
             }
            },
            "type": "scatterpolar"
           }
          ],
          "scatterpolargl": [
           {
            "marker": {
             "colorbar": {
              "outlinewidth": 0,
              "ticks": ""
             }
            },
            "type": "scatterpolargl"
           }
          ],
          "scatterternary": [
           {
            "marker": {
             "colorbar": {
              "outlinewidth": 0,
              "ticks": ""
             }
            },
            "type": "scatterternary"
           }
          ],
          "surface": [
           {
            "colorbar": {
             "outlinewidth": 0,
             "ticks": ""
            },
            "colorscale": [
             [
              0,
              "#0d0887"
             ],
             [
              0.1111111111111111,
              "#46039f"
             ],
             [
              0.2222222222222222,
              "#7201a8"
             ],
             [
              0.3333333333333333,
              "#9c179e"
             ],
             [
              0.4444444444444444,
              "#bd3786"
             ],
             [
              0.5555555555555556,
              "#d8576b"
             ],
             [
              0.6666666666666666,
              "#ed7953"
             ],
             [
              0.7777777777777778,
              "#fb9f3a"
             ],
             [
              0.8888888888888888,
              "#fdca26"
             ],
             [
              1,
              "#f0f921"
             ]
            ],
            "type": "surface"
           }
          ],
          "table": [
           {
            "cells": {
             "fill": {
              "color": "#EBF0F8"
             },
             "line": {
              "color": "white"
             }
            },
            "header": {
             "fill": {
              "color": "#C8D4E3"
             },
             "line": {
              "color": "white"
             }
            },
            "type": "table"
           }
          ]
         },
         "layout": {
          "annotationdefaults": {
           "arrowcolor": "#2a3f5f",
           "arrowhead": 0,
           "arrowwidth": 1
          },
          "autotypenumbers": "strict",
          "coloraxis": {
           "colorbar": {
            "outlinewidth": 0,
            "ticks": ""
           }
          },
          "colorscale": {
           "diverging": [
            [
             0,
             "#8e0152"
            ],
            [
             0.1,
             "#c51b7d"
            ],
            [
             0.2,
             "#de77ae"
            ],
            [
             0.3,
             "#f1b6da"
            ],
            [
             0.4,
             "#fde0ef"
            ],
            [
             0.5,
             "#f7f7f7"
            ],
            [
             0.6,
             "#e6f5d0"
            ],
            [
             0.7,
             "#b8e186"
            ],
            [
             0.8,
             "#7fbc41"
            ],
            [
             0.9,
             "#4d9221"
            ],
            [
             1,
             "#276419"
            ]
           ],
           "sequential": [
            [
             0,
             "#0d0887"
            ],
            [
             0.1111111111111111,
             "#46039f"
            ],
            [
             0.2222222222222222,
             "#7201a8"
            ],
            [
             0.3333333333333333,
             "#9c179e"
            ],
            [
             0.4444444444444444,
             "#bd3786"
            ],
            [
             0.5555555555555556,
             "#d8576b"
            ],
            [
             0.6666666666666666,
             "#ed7953"
            ],
            [
             0.7777777777777778,
             "#fb9f3a"
            ],
            [
             0.8888888888888888,
             "#fdca26"
            ],
            [
             1,
             "#f0f921"
            ]
           ],
           "sequentialminus": [
            [
             0,
             "#0d0887"
            ],
            [
             0.1111111111111111,
             "#46039f"
            ],
            [
             0.2222222222222222,
             "#7201a8"
            ],
            [
             0.3333333333333333,
             "#9c179e"
            ],
            [
             0.4444444444444444,
             "#bd3786"
            ],
            [
             0.5555555555555556,
             "#d8576b"
            ],
            [
             0.6666666666666666,
             "#ed7953"
            ],
            [
             0.7777777777777778,
             "#fb9f3a"
            ],
            [
             0.8888888888888888,
             "#fdca26"
            ],
            [
             1,
             "#f0f921"
            ]
           ]
          },
          "colorway": [
           "#636efa",
           "#EF553B",
           "#00cc96",
           "#ab63fa",
           "#FFA15A",
           "#19d3f3",
           "#FF6692",
           "#B6E880",
           "#FF97FF",
           "#FECB52"
          ],
          "font": {
           "color": "#2a3f5f"
          },
          "geo": {
           "bgcolor": "white",
           "lakecolor": "white",
           "landcolor": "#E5ECF6",
           "showlakes": true,
           "showland": true,
           "subunitcolor": "white"
          },
          "hoverlabel": {
           "align": "left"
          },
          "hovermode": "closest",
          "mapbox": {
           "style": "light"
          },
          "paper_bgcolor": "white",
          "plot_bgcolor": "#E5ECF6",
          "polar": {
           "angularaxis": {
            "gridcolor": "white",
            "linecolor": "white",
            "ticks": ""
           },
           "bgcolor": "#E5ECF6",
           "radialaxis": {
            "gridcolor": "white",
            "linecolor": "white",
            "ticks": ""
           }
          },
          "scene": {
           "xaxis": {
            "backgroundcolor": "#E5ECF6",
            "gridcolor": "white",
            "gridwidth": 2,
            "linecolor": "white",
            "showbackground": true,
            "ticks": "",
            "zerolinecolor": "white"
           },
           "yaxis": {
            "backgroundcolor": "#E5ECF6",
            "gridcolor": "white",
            "gridwidth": 2,
            "linecolor": "white",
            "showbackground": true,
            "ticks": "",
            "zerolinecolor": "white"
           },
           "zaxis": {
            "backgroundcolor": "#E5ECF6",
            "gridcolor": "white",
            "gridwidth": 2,
            "linecolor": "white",
            "showbackground": true,
            "ticks": "",
            "zerolinecolor": "white"
           }
          },
          "shapedefaults": {
           "line": {
            "color": "#2a3f5f"
           }
          },
          "ternary": {
           "aaxis": {
            "gridcolor": "white",
            "linecolor": "white",
            "ticks": ""
           },
           "baxis": {
            "gridcolor": "white",
            "linecolor": "white",
            "ticks": ""
           },
           "bgcolor": "#E5ECF6",
           "caxis": {
            "gridcolor": "white",
            "linecolor": "white",
            "ticks": ""
           }
          },
          "title": {
           "x": 0.05
          },
          "xaxis": {
           "automargin": true,
           "gridcolor": "white",
           "linecolor": "white",
           "ticks": "",
           "title": {
            "standoff": 15
           },
           "zerolinecolor": "white",
           "zerolinewidth": 2
          },
          "yaxis": {
           "automargin": true,
           "gridcolor": "white",
           "linecolor": "white",
           "ticks": "",
           "title": {
            "standoff": 15
           },
           "zerolinecolor": "white",
           "zerolinewidth": 2
          }
         }
        },
        "ternary": {
         "aaxis": {
          "title": {
           "text": "box_office_actual_$"
          }
         },
         "baxis": {
          "title": {
           "text": "box_office_adjusted_2005_$"
          }
         },
         "caxis": {
          "title": {
           "text": "budget_adjusted_2005_$"
          }
         },
         "domain": {
          "x": [
           0,
           1
          ],
          "y": [
           0,
           1
          ]
         }
        }
       }
      }
     },
     "metadata": {},
     "output_type": "display_data"
    }
   ],
   "source": [
    "pl=px.scatter_ternary(data,a='box_office_actual_$',\n",
    "                      b='box_office_adjusted_2005_$',\n",
    "                      c='budget_adjusted_2005_$',\n",
    "                     color='director_name',\n",
    "                     symbol='budget_actual_$')\n",
    "pl.show()"
   ]
  },
  {
   "cell_type": "markdown",
   "id": "4bb73c26",
   "metadata": {},
   "source": [
    "# 3D Surface Plot"
   ]
  },
  {
   "cell_type": "code",
   "execution_count": 22,
   "id": "682c4815",
   "metadata": {},
   "outputs": [
    {
     "data": {
      "application/vnd.plotly.v1+json": {
       "config": {
        "plotlyServerURL": "https://plot.ly"
       },
       "data": [
        {
         "type": "surface",
         "z": [
          [
           "Ursula Andress",
           26,
           "Dr. No",
           1962,
           "Sean Connery",
           32,
           "Terence Young",
           59.5,
           448.8,
           "1.1",
           "7.0"
          ],
          [
           "Zena Marshall",
           36,
           "Dr. No",
           1962,
           "Sean Connery",
           32,
           "Terence Young",
           59.5,
           448.8,
           "1.1",
           "7.0"
          ],
          [
           "Eunice Gayson",
           35,
           "From Russia with Love",
           1963,
           "Sean Connery",
           33,
           "Terence Young",
           78.9,
           543.8,
           "2.0",
           "12.6"
          ],
          [
           "Daniela Bianchi",
           21,
           "From Russia with Love",
           1963,
           "Sean Connery",
           33,
           "Terence Young",
           78.9,
           543.8,
           "2.0",
           "12.6"
          ],
          [
           "Martine Beswick",
           24,
           "Thunderball",
           1965,
           "Sean Connery",
           35,
           "Terence Young",
           141.2,
           848.1,
           "6.8",
           "41.9"
          ],
          [
           "Aliza Gur",
           23,
           "From Russia with Love",
           1963,
           "Sean Connery",
           33,
           "Terence Young",
           78.9,
           543.8,
           "2.0",
           "12.6"
          ],
          [
           "Honor Blackman",
           39,
           "Goldfinger",
           1964,
           "Sean Connery",
           34,
           "Guy Hamilton",
           124.9,
           820.4,
           "3.0",
           "18.6"
          ],
          [
           "Shirley Eaton",
           27,
           "Goldfinger",
           1964,
           "Sean Connery",
           34,
           "Guy Hamilton",
           124.9,
           820.4,
           "3.0",
           "18.6"
          ],
          [
           "Tania Mallet",
           23,
           "Goldfinger",
           1964,
           "Sean Connery",
           34,
           "Guy Hamilton",
           124.9,
           820.4,
           "3.0",
           "18.6"
          ],
          [
           "Nadja Regin",
           33,
           "Goldfinger",
           1964,
           "Sean Connery",
           34,
           "Guy Hamilton",
           124.9,
           820.4,
           "3.0",
           "18.6"
          ],
          [
           "Margaret Nolan",
           21,
           "Goldfinger",
           1964,
           "Sean Connery",
           34,
           "Guy Hamilton",
           124.9,
           820.4,
           "3.0",
           "18.6"
          ],
          [
           "Claudine Auger",
           24,
           "Thunderball",
           1965,
           "Sean Connery",
           35,
           "Terence Young",
           141.2,
           848.1,
           "6.8",
           "41.9"
          ],
          [
           "Luciana Paluzzi",
           28,
           "Thunderball",
           1965,
           "Sean Connery",
           35,
           "Terence Young",
           141.2,
           848.1,
           "6.8",
           "41.9"
          ],
          [
           "Molly Peters",
           23,
           "Thunderball",
           1965,
           "Sean Connery",
           35,
           "Terence Young",
           141.2,
           848.1,
           "6.8",
           "41.9"
          ],
          [
           "Maryse Guy Mitsouko",
           22,
           "Thunderball",
           1965,
           "Sean Connery",
           35,
           "Terence Young",
           141.2,
           848.1,
           "6.8",
           "41.9"
          ],
          [
           "Mie Hama",
           24,
           "You Only Live Twice",
           1967,
           "Sean Connery",
           37,
           "Lewis Gilbert",
           111.6,
           514.2,
           "10.3",
           "59.9"
          ],
          [
           "Akiko Wakabayashi",
           28,
           "You Only Live Twice",
           1967,
           "Sean Connery",
           37,
           "Lewis Gilbert",
           111.6,
           514.2,
           "10.3",
           "59.9"
          ],
          [
           "Tsai Chin",
           31,
           "You Only Live Twice",
           1967,
           "Sean Connery",
           37,
           "Lewis Gilbert",
           111.6,
           514.2,
           "10.3",
           "59.9"
          ],
          [
           "Karin Dor",
           29,
           "You Only Live Twice",
           1967,
           "Sean Connery",
           37,
           "Lewis Gilbert",
           111.6,
           514.2,
           "10.3",
           "59.9"
          ],
          [
           "Diana Rigg",
           31,
           "On Her Majesty's Secret Service",
           1969,
           "George Lazenby",
           30,
           "Peter R. Hunt",
           64.6,
           291.5,
           "7.0",
           "37.3"
          ],
          [
           "Angela Scoular",
           24,
           "On Her Majesty's Secret Service",
           1969,
           "George Lazenby",
           30,
           "Peter R. Hunt",
           64.6,
           291.5,
           "7.0",
           "37.3"
          ],
          [
           "Catherine Schell",
           25,
           "On Her Majesty's Secret Service",
           1969,
           "George Lazenby",
           30,
           "Peter R. Hunt",
           64.6,
           291.5,
           "7.0",
           "37.3"
          ],
          [
           "Jill St John",
           31,
           "Diamonds Are Forever",
           1971,
           "Sean Connery",
           41,
           "Guy Hamilton",
           116,
           442.5,
           "7.2",
           "34.7"
          ],
          [
           "Lana Wood",
           25,
           "Diamonds Are Forever",
           1971,
           "Sean Connery",
           41,
           "Guy Hamilton",
           116,
           442.5,
           "7.2",
           "34.7"
          ],
          [
           "Trina Parks",
           24,
           "Diamonds Are Forever",
           1971,
           "Sean Connery",
           41,
           "Guy Hamilton",
           116,
           442.5,
           "7.2",
           "34.7"
          ],
          [
           "Denise Perrier",
           36,
           "Diamonds Are Forever",
           1971,
           "Sean Connery",
           41,
           "Guy Hamilton",
           116,
           442.5,
           "7.2",
           "34.7"
          ],
          [
           "Jane Seymour",
           22,
           "Live and Let Die",
           1973,
           "Roger Moore",
           46,
           "Guy Hamilton",
           126.4,
           460.3,
           "7.0",
           "30.8"
          ],
          [
           "Gloria Hendry",
           24,
           "Live and Let Die",
           1973,
           "Roger Moore",
           46,
           "Guy Hamilton",
           126.4,
           460.3,
           "7.0",
           "30.8"
          ],
          [
           "Madeline Smith",
           24,
           "Live and Let Die",
           1973,
           "Roger Moore",
           46,
           "Guy Hamilton",
           126.4,
           460.3,
           "7.0",
           "30.8"
          ],
          [
           "Britt Ekland",
           32,
           "The Man with the Golden Gun",
           1974,
           "Roger Moore",
           47,
           "Guy Hamilton",
           97.6,
           334,
           "7.0",
           "27.7"
          ],
          [
           "Maud Adams",
           38,
           "Octopussy",
           1983,
           "Roger Moore",
           56,
           "John Glen",
           183.7,
           373.8,
           "27.5",
           "53.9"
          ],
          [
           "Carmen du Sautoy",
           24,
           "The Man with the Golden Gun",
           1974,
           "Roger Moore",
           47,
           "Guy Hamilton",
           97.6,
           334,
           "7.0",
           "27.7"
          ],
          [
           "Barbara Bach",
           30,
           "The Spy Who Loved Me",
           1977,
           "Roger Moore",
           50,
           "Lewis Gilbert",
           185.4,
           533,
           "14.0",
           "45.1"
          ],
          [
           "Caroline Munro",
           28,
           "The Spy Who Loved Me",
           1977,
           "Roger Moore",
           50,
           "Lewis Gilbert",
           185.4,
           533,
           "14.0",
           "45.1"
          ],
          [
           "Olga Bisera",
           33,
           "The Spy Who Loved Me",
           1977,
           "Roger Moore",
           50,
           "Lewis Gilbert",
           185.4,
           533,
           "14.0",
           "45.1"
          ],
          [
           "Lois Chiles",
           32,
           "Moonraker",
           1979,
           "Roger Moore",
           52,
           "Lewis Gilbert",
           210.3,
           535,
           "34.0",
           "91.5"
          ],
          [
           "Corinne Cléry",
           29,
           "Moonraker",
           1979,
           "Roger Moore",
           52,
           "Lewis Gilbert",
           210.3,
           535,
           "34.0",
           "91.5"
          ],
          [
           "Emily Bolton",
           28,
           "Moonraker",
           1979,
           "Roger Moore",
           52,
           "Lewis Gilbert",
           210.3,
           535,
           "34.0",
           "91.5"
          ],
          [
           "Carole Bouquet",
           24,
           "For Your Eyes Only",
           1981,
           "Roger Moore",
           54,
           "John Glen",
           194.9,
           449.4,
           "28.0",
           "60.2"
          ],
          [
           "Lynn Holly Johnson",
           23,
           "For Your Eyes Only",
           1981,
           "Roger Moore",
           54,
           "John Glen",
           194.9,
           449.4,
           "28.0",
           "60.2"
          ],
          [
           "Cassandra Harris",
           33,
           "For Your Eyes Only",
           1981,
           "Roger Moore",
           54,
           "John Glen",
           194.9,
           449.4,
           "28.0",
           "60.2"
          ],
          [
           "Kristina Wayborn",
           33,
           "Octopussy",
           1983,
           "Roger Moore",
           56,
           "John Glen",
           183.7,
           373.8,
           "27.5",
           "53.9"
          ],
          [
           "Tanya Roberts",
           30,
           "A View to a Kill",
           1985,
           "Roger Moore",
           58,
           "John Glen",
           152.4,
           275.2,
           "30.0",
           "54.5"
          ],
          [
           "Grace Jones",
           37,
           "A View to a Kill",
           1985,
           "Roger Moore",
           58,
           "John Glen",
           152.4,
           275.2,
           "30.0",
           "54.5"
          ],
          [
           "Fiona Fullerton",
           29,
           "A View to a Kill",
           1985,
           "Roger Moore",
           58,
           "John Glen",
           152.4,
           275.2,
           "30.0",
           "54.5"
          ],
          [
           "Maryam d'Abo",
           27,
           "The Living Daylights",
           1987,
           "Timothy Dalton",
           41,
           "John Glen",
           191.2,
           313.5,
           "40.0",
           "68.8"
          ],
          [
           "Carey Lowell",
           28,
           "Licence to Kill",
           1989,
           "Timothy Dalton",
           43,
           "John Glen",
           156.2,
           250.9,
           "36.0",
           "56.7"
          ],
          [
           "Talisa Soto",
           22,
           "Licence to Kill",
           1989,
           "Timothy Dalton",
           43,
           "John Glen",
           156.2,
           250.9,
           "36.0",
           "56.7"
          ],
          [
           "Izabella Scorupco",
           25,
           "GoldenEye",
           1995,
           "Pierce Brosnan",
           42,
           "Martin Campbell",
           352,
           518.5,
           "60.0",
           "76.9"
          ],
          [
           "Famke Janssen",
           31,
           "GoldenEye",
           1995,
           "Pierce Brosnan",
           42,
           "Martin Campbell",
           352,
           518.5,
           "60.0",
           "76.9"
          ],
          [
           "Serena Gordon",
           32,
           "GoldenEye",
           1995,
           "Pierce Brosnan",
           42,
           "Martin Campbell",
           352,
           518.5,
           "60.0",
           "76.9"
          ],
          [
           "Michelle Yeoh",
           35,
           "Tomorrow Never Dies",
           1997,
           "Pierce Brosnan",
           44,
           "Roger Spottiswoode",
           333,
           463.2,
           "110.0",
           "133.9"
          ],
          [
           "Teri Hatcher",
           33,
           "Tomorrow Never Dies",
           1997,
           "Pierce Brosnan",
           44,
           "Roger Spottiswoode",
           333,
           463.2,
           "110.0",
           "133.9"
          ],
          [
           "Cecilie Thomsen",
           23,
           "Tomorrow Never Dies",
           1997,
           "Pierce Brosnan",
           44,
           "Roger Spottiswoode",
           333,
           463.2,
           "110.0",
           "133.9"
          ],
          [
           "Denise Richards",
           28,
           "The World Is Not Enough",
           1999,
           "Pierce Brosnan",
           46,
           "Michael Apted",
           361.8,
           439.5,
           "135.0",
           "158.3"
          ],
          [
           "Sophie Marceau",
           33,
           "The World Is Not Enough",
           1999,
           "Pierce Brosnan",
           46,
           "Michael Apted",
           361.8,
           439.5,
           "135.0",
           "158.3"
          ],
          [
           "Serena Scott Thomas",
           38,
           "The World Is Not Enough",
           1999,
           "Pierce Brosnan",
           46,
           "Michael Apted",
           361.8,
           439.5,
           "135.0",
           "158.3"
          ],
          [
           "Halle Berry",
           36,
           "Die Another Day",
           2002,
           "Pierce Brosnan",
           49,
           "Lee Tamahori",
           432,
           465.4,
           "142.0",
           "154.2"
          ],
          [
           "Rosamund Pike",
           23,
           "Die Another Day",
           2002,
           "Pierce Brosnan",
           49,
           "Lee Tamahori",
           432,
           465.4,
           "142.0",
           "154.2"
          ],
          [
           "Rachel Grant",
           25,
           "Die Another Day",
           2002,
           "Pierce Brosnan",
           49,
           "Lee Tamahori",
           432,
           465.4,
           "142.0",
           "154.2"
          ],
          [
           "Eva Green",
           26,
           "Casino Royale",
           2006,
           "Daniel Craig",
           38,
           "Martin Campbell",
           606,
           589.4,
           "150.0",
           "145.3"
          ],
          [
           "Catherina Murino",
           29,
           "Casino Royale",
           2006,
           "Daniel Craig",
           38,
           "Martin Campbell",
           606,
           589.4,
           "150.0",
           "145.3"
          ],
          [
           "Olga Kurylenko",
           29,
           "Quantum of Solace",
           2008,
           "Daniel Craig",
           40,
           "Marc Forster",
           586.1,
           514.2,
           "200.0",
           "181.4"
          ],
          [
           "Gemma Arterton",
           22,
           "Quantum of Solace",
           2008,
           "Daniel Craig",
           40,
           "Marc Forster",
           586.1,
           514.2,
           "200.0",
           "181.4"
          ],
          [
           "Bérénice Marlohe",
           33,
           "Skyfall",
           2012,
           "Daniel Craig",
           44,
           "Sam Mendes",
           1108.6,
           943.5,
           "150.0–200.0",
           "127.7–170.2"
          ],
          [
           "Tonia Sotiropoulou",
           25,
           "Skyfall",
           2012,
           "Daniel Craig",
           44,
           "Sam Mendes",
           1108.6,
           943.5,
           "150.0–200.0",
           "127.7–170.2"
          ],
          [
           "Monica Bellucci",
           51,
           "Spectre",
           2015,
           "Daniel Craig",
           47,
           "Sam Mendes",
           880.7,
           725.5,
           "245.0–250.0[b]",
           "201.8–205.9"
          ],
          [
           "Léa Seydoux",
           30,
           "Spectre",
           2015,
           "Daniel Craig",
           47,
           "Sam Mendes",
           880.7,
           725.5,
           "245.0–250.0[b]",
           "201.8–205.9"
          ],
          [
           "Léa Seydoux",
           36,
           "No Time to Die",
           2021,
           "Daniel Craig",
           53,
           "Cary Joji Fukunaga",
           525.7,
           396.8,
           "250.0–301.0",
           "188.7–226.4"
          ],
          [
           "Lashan Lynch",
           34,
           "No Time to Die",
           2021,
           "Daniel Craig",
           53,
           "Cary Joji Fukunaga",
           525.7,
           396.8,
           "250.0–301.0",
           "188.7–226.4"
          ],
          [
           "Ana de Armas",
           33,
           "No Time to Die",
           2021,
           "Daniel Craig",
           53,
           "Cary Joji Fukunaga",
           525.7,
           396.8,
           "250.0–301.0",
           "188.7–226.4"
          ]
         ]
        }
       ],
       "layout": {
        "template": {
         "data": {
          "bar": [
           {
            "error_x": {
             "color": "#2a3f5f"
            },
            "error_y": {
             "color": "#2a3f5f"
            },
            "marker": {
             "line": {
              "color": "#E5ECF6",
              "width": 0.5
             },
             "pattern": {
              "fillmode": "overlay",
              "size": 10,
              "solidity": 0.2
             }
            },
            "type": "bar"
           }
          ],
          "barpolar": [
           {
            "marker": {
             "line": {
              "color": "#E5ECF6",
              "width": 0.5
             },
             "pattern": {
              "fillmode": "overlay",
              "size": 10,
              "solidity": 0.2
             }
            },
            "type": "barpolar"
           }
          ],
          "carpet": [
           {
            "aaxis": {
             "endlinecolor": "#2a3f5f",
             "gridcolor": "white",
             "linecolor": "white",
             "minorgridcolor": "white",
             "startlinecolor": "#2a3f5f"
            },
            "baxis": {
             "endlinecolor": "#2a3f5f",
             "gridcolor": "white",
             "linecolor": "white",
             "minorgridcolor": "white",
             "startlinecolor": "#2a3f5f"
            },
            "type": "carpet"
           }
          ],
          "choropleth": [
           {
            "colorbar": {
             "outlinewidth": 0,
             "ticks": ""
            },
            "type": "choropleth"
           }
          ],
          "contour": [
           {
            "colorbar": {
             "outlinewidth": 0,
             "ticks": ""
            },
            "colorscale": [
             [
              0,
              "#0d0887"
             ],
             [
              0.1111111111111111,
              "#46039f"
             ],
             [
              0.2222222222222222,
              "#7201a8"
             ],
             [
              0.3333333333333333,
              "#9c179e"
             ],
             [
              0.4444444444444444,
              "#bd3786"
             ],
             [
              0.5555555555555556,
              "#d8576b"
             ],
             [
              0.6666666666666666,
              "#ed7953"
             ],
             [
              0.7777777777777778,
              "#fb9f3a"
             ],
             [
              0.8888888888888888,
              "#fdca26"
             ],
             [
              1,
              "#f0f921"
             ]
            ],
            "type": "contour"
           }
          ],
          "contourcarpet": [
           {
            "colorbar": {
             "outlinewidth": 0,
             "ticks": ""
            },
            "type": "contourcarpet"
           }
          ],
          "heatmap": [
           {
            "colorbar": {
             "outlinewidth": 0,
             "ticks": ""
            },
            "colorscale": [
             [
              0,
              "#0d0887"
             ],
             [
              0.1111111111111111,
              "#46039f"
             ],
             [
              0.2222222222222222,
              "#7201a8"
             ],
             [
              0.3333333333333333,
              "#9c179e"
             ],
             [
              0.4444444444444444,
              "#bd3786"
             ],
             [
              0.5555555555555556,
              "#d8576b"
             ],
             [
              0.6666666666666666,
              "#ed7953"
             ],
             [
              0.7777777777777778,
              "#fb9f3a"
             ],
             [
              0.8888888888888888,
              "#fdca26"
             ],
             [
              1,
              "#f0f921"
             ]
            ],
            "type": "heatmap"
           }
          ],
          "heatmapgl": [
           {
            "colorbar": {
             "outlinewidth": 0,
             "ticks": ""
            },
            "colorscale": [
             [
              0,
              "#0d0887"
             ],
             [
              0.1111111111111111,
              "#46039f"
             ],
             [
              0.2222222222222222,
              "#7201a8"
             ],
             [
              0.3333333333333333,
              "#9c179e"
             ],
             [
              0.4444444444444444,
              "#bd3786"
             ],
             [
              0.5555555555555556,
              "#d8576b"
             ],
             [
              0.6666666666666666,
              "#ed7953"
             ],
             [
              0.7777777777777778,
              "#fb9f3a"
             ],
             [
              0.8888888888888888,
              "#fdca26"
             ],
             [
              1,
              "#f0f921"
             ]
            ],
            "type": "heatmapgl"
           }
          ],
          "histogram": [
           {
            "marker": {
             "pattern": {
              "fillmode": "overlay",
              "size": 10,
              "solidity": 0.2
             }
            },
            "type": "histogram"
           }
          ],
          "histogram2d": [
           {
            "colorbar": {
             "outlinewidth": 0,
             "ticks": ""
            },
            "colorscale": [
             [
              0,
              "#0d0887"
             ],
             [
              0.1111111111111111,
              "#46039f"
             ],
             [
              0.2222222222222222,
              "#7201a8"
             ],
             [
              0.3333333333333333,
              "#9c179e"
             ],
             [
              0.4444444444444444,
              "#bd3786"
             ],
             [
              0.5555555555555556,
              "#d8576b"
             ],
             [
              0.6666666666666666,
              "#ed7953"
             ],
             [
              0.7777777777777778,
              "#fb9f3a"
             ],
             [
              0.8888888888888888,
              "#fdca26"
             ],
             [
              1,
              "#f0f921"
             ]
            ],
            "type": "histogram2d"
           }
          ],
          "histogram2dcontour": [
           {
            "colorbar": {
             "outlinewidth": 0,
             "ticks": ""
            },
            "colorscale": [
             [
              0,
              "#0d0887"
             ],
             [
              0.1111111111111111,
              "#46039f"
             ],
             [
              0.2222222222222222,
              "#7201a8"
             ],
             [
              0.3333333333333333,
              "#9c179e"
             ],
             [
              0.4444444444444444,
              "#bd3786"
             ],
             [
              0.5555555555555556,
              "#d8576b"
             ],
             [
              0.6666666666666666,
              "#ed7953"
             ],
             [
              0.7777777777777778,
              "#fb9f3a"
             ],
             [
              0.8888888888888888,
              "#fdca26"
             ],
             [
              1,
              "#f0f921"
             ]
            ],
            "type": "histogram2dcontour"
           }
          ],
          "mesh3d": [
           {
            "colorbar": {
             "outlinewidth": 0,
             "ticks": ""
            },
            "type": "mesh3d"
           }
          ],
          "parcoords": [
           {
            "line": {
             "colorbar": {
              "outlinewidth": 0,
              "ticks": ""
             }
            },
            "type": "parcoords"
           }
          ],
          "pie": [
           {
            "automargin": true,
            "type": "pie"
           }
          ],
          "scatter": [
           {
            "fillpattern": {
             "fillmode": "overlay",
             "size": 10,
             "solidity": 0.2
            },
            "type": "scatter"
           }
          ],
          "scatter3d": [
           {
            "line": {
             "colorbar": {
              "outlinewidth": 0,
              "ticks": ""
             }
            },
            "marker": {
             "colorbar": {
              "outlinewidth": 0,
              "ticks": ""
             }
            },
            "type": "scatter3d"
           }
          ],
          "scattercarpet": [
           {
            "marker": {
             "colorbar": {
              "outlinewidth": 0,
              "ticks": ""
             }
            },
            "type": "scattercarpet"
           }
          ],
          "scattergeo": [
           {
            "marker": {
             "colorbar": {
              "outlinewidth": 0,
              "ticks": ""
             }
            },
            "type": "scattergeo"
           }
          ],
          "scattergl": [
           {
            "marker": {
             "colorbar": {
              "outlinewidth": 0,
              "ticks": ""
             }
            },
            "type": "scattergl"
           }
          ],
          "scattermapbox": [
           {
            "marker": {
             "colorbar": {
              "outlinewidth": 0,
              "ticks": ""
             }
            },
            "type": "scattermapbox"
           }
          ],
          "scatterpolar": [
           {
            "marker": {
             "colorbar": {
              "outlinewidth": 0,
              "ticks": ""
             }
            },
            "type": "scatterpolar"
           }
          ],
          "scatterpolargl": [
           {
            "marker": {
             "colorbar": {
              "outlinewidth": 0,
              "ticks": ""
             }
            },
            "type": "scatterpolargl"
           }
          ],
          "scatterternary": [
           {
            "marker": {
             "colorbar": {
              "outlinewidth": 0,
              "ticks": ""
             }
            },
            "type": "scatterternary"
           }
          ],
          "surface": [
           {
            "colorbar": {
             "outlinewidth": 0,
             "ticks": ""
            },
            "colorscale": [
             [
              0,
              "#0d0887"
             ],
             [
              0.1111111111111111,
              "#46039f"
             ],
             [
              0.2222222222222222,
              "#7201a8"
             ],
             [
              0.3333333333333333,
              "#9c179e"
             ],
             [
              0.4444444444444444,
              "#bd3786"
             ],
             [
              0.5555555555555556,
              "#d8576b"
             ],
             [
              0.6666666666666666,
              "#ed7953"
             ],
             [
              0.7777777777777778,
              "#fb9f3a"
             ],
             [
              0.8888888888888888,
              "#fdca26"
             ],
             [
              1,
              "#f0f921"
             ]
            ],
            "type": "surface"
           }
          ],
          "table": [
           {
            "cells": {
             "fill": {
              "color": "#EBF0F8"
             },
             "line": {
              "color": "white"
             }
            },
            "header": {
             "fill": {
              "color": "#C8D4E3"
             },
             "line": {
              "color": "white"
             }
            },
            "type": "table"
           }
          ]
         },
         "layout": {
          "annotationdefaults": {
           "arrowcolor": "#2a3f5f",
           "arrowhead": 0,
           "arrowwidth": 1
          },
          "autotypenumbers": "strict",
          "coloraxis": {
           "colorbar": {
            "outlinewidth": 0,
            "ticks": ""
           }
          },
          "colorscale": {
           "diverging": [
            [
             0,
             "#8e0152"
            ],
            [
             0.1,
             "#c51b7d"
            ],
            [
             0.2,
             "#de77ae"
            ],
            [
             0.3,
             "#f1b6da"
            ],
            [
             0.4,
             "#fde0ef"
            ],
            [
             0.5,
             "#f7f7f7"
            ],
            [
             0.6,
             "#e6f5d0"
            ],
            [
             0.7,
             "#b8e186"
            ],
            [
             0.8,
             "#7fbc41"
            ],
            [
             0.9,
             "#4d9221"
            ],
            [
             1,
             "#276419"
            ]
           ],
           "sequential": [
            [
             0,
             "#0d0887"
            ],
            [
             0.1111111111111111,
             "#46039f"
            ],
            [
             0.2222222222222222,
             "#7201a8"
            ],
            [
             0.3333333333333333,
             "#9c179e"
            ],
            [
             0.4444444444444444,
             "#bd3786"
            ],
            [
             0.5555555555555556,
             "#d8576b"
            ],
            [
             0.6666666666666666,
             "#ed7953"
            ],
            [
             0.7777777777777778,
             "#fb9f3a"
            ],
            [
             0.8888888888888888,
             "#fdca26"
            ],
            [
             1,
             "#f0f921"
            ]
           ],
           "sequentialminus": [
            [
             0,
             "#0d0887"
            ],
            [
             0.1111111111111111,
             "#46039f"
            ],
            [
             0.2222222222222222,
             "#7201a8"
            ],
            [
             0.3333333333333333,
             "#9c179e"
            ],
            [
             0.4444444444444444,
             "#bd3786"
            ],
            [
             0.5555555555555556,
             "#d8576b"
            ],
            [
             0.6666666666666666,
             "#ed7953"
            ],
            [
             0.7777777777777778,
             "#fb9f3a"
            ],
            [
             0.8888888888888888,
             "#fdca26"
            ],
            [
             1,
             "#f0f921"
            ]
           ]
          },
          "colorway": [
           "#636efa",
           "#EF553B",
           "#00cc96",
           "#ab63fa",
           "#FFA15A",
           "#19d3f3",
           "#FF6692",
           "#B6E880",
           "#FF97FF",
           "#FECB52"
          ],
          "font": {
           "color": "#2a3f5f"
          },
          "geo": {
           "bgcolor": "white",
           "lakecolor": "white",
           "landcolor": "#E5ECF6",
           "showlakes": true,
           "showland": true,
           "subunitcolor": "white"
          },
          "hoverlabel": {
           "align": "left"
          },
          "hovermode": "closest",
          "mapbox": {
           "style": "light"
          },
          "paper_bgcolor": "white",
          "plot_bgcolor": "#E5ECF6",
          "polar": {
           "angularaxis": {
            "gridcolor": "white",
            "linecolor": "white",
            "ticks": ""
           },
           "bgcolor": "#E5ECF6",
           "radialaxis": {
            "gridcolor": "white",
            "linecolor": "white",
            "ticks": ""
           }
          },
          "scene": {
           "xaxis": {
            "backgroundcolor": "#E5ECF6",
            "gridcolor": "white",
            "gridwidth": 2,
            "linecolor": "white",
            "showbackground": true,
            "ticks": "",
            "zerolinecolor": "white"
           },
           "yaxis": {
            "backgroundcolor": "#E5ECF6",
            "gridcolor": "white",
            "gridwidth": 2,
            "linecolor": "white",
            "showbackground": true,
            "ticks": "",
            "zerolinecolor": "white"
           },
           "zaxis": {
            "backgroundcolor": "#E5ECF6",
            "gridcolor": "white",
            "gridwidth": 2,
            "linecolor": "white",
            "showbackground": true,
            "ticks": "",
            "zerolinecolor": "white"
           }
          },
          "shapedefaults": {
           "line": {
            "color": "#2a3f5f"
           }
          },
          "ternary": {
           "aaxis": {
            "gridcolor": "white",
            "linecolor": "white",
            "ticks": ""
           },
           "baxis": {
            "gridcolor": "white",
            "linecolor": "white",
            "ticks": ""
           },
           "bgcolor": "#E5ECF6",
           "caxis": {
            "gridcolor": "white",
            "linecolor": "white",
            "ticks": ""
           }
          },
          "title": {
           "x": 0.05
          },
          "xaxis": {
           "automargin": true,
           "gridcolor": "white",
           "linecolor": "white",
           "ticks": "",
           "title": {
            "standoff": 15
           },
           "zerolinecolor": "white",
           "zerolinewidth": 2
          },
          "yaxis": {
           "automargin": true,
           "gridcolor": "white",
           "linecolor": "white",
           "ticks": "",
           "title": {
            "standoff": 15
           },
           "zerolinecolor": "white",
           "zerolinewidth": 2
          }
         }
        }
       }
      }
     },
     "metadata": {},
     "output_type": "display_data"
    }
   ],
   "source": [
    "z=pd.read_csv(r'C:\\Users\\admin\\Desktop\\bond_girls.csv')\n",
    "fig=go.Figure(data=[go.Surface(z=z.values)])\n",
    "fig.show()"
   ]
  },
  {
   "cell_type": "markdown",
   "id": "2727797a",
   "metadata": {},
   "source": [
    "# Area Chart"
   ]
  },
  {
   "cell_type": "code",
   "execution_count": 23,
   "id": "413ba734",
   "metadata": {},
   "outputs": [
    {
     "data": {
      "application/vnd.plotly.v1+json": {
       "config": {
        "plotlyServerURL": "https://plot.ly"
       },
       "data": [
        {
         "customdata": [
          [
           32
          ],
          [
           32
          ],
          [
           33
          ],
          [
           33
          ],
          [
           35
          ],
          [
           33
          ],
          [
           35
          ],
          [
           35
          ],
          [
           35
          ],
          [
           35
          ]
         ],
         "fillpattern": {
          "shape": ""
         },
         "hovertemplate": "director_name=Terence Young<br>budget_actual_$=%{x}<br>budget_adjusted_2005_$=%{y}<br>bond_actor_age=%{customdata[0]}<extra></extra>",
         "legendgroup": "Terence Young",
         "line": {
          "color": "#636efa"
         },
         "marker": {
          "symbol": "circle"
         },
         "mode": "lines",
         "name": "Terence Young",
         "orientation": "v",
         "showlegend": true,
         "stackgroup": "1",
         "type": "scatter",
         "x": [
          "1.1",
          "1.1",
          "2.0",
          "2.0",
          "6.8",
          "2.0",
          "6.8",
          "6.8",
          "6.8",
          "6.8"
         ],
         "xaxis": "x",
         "y": [
          "7.0",
          "7.0",
          "12.6",
          "12.6",
          "41.9",
          "12.6",
          "41.9",
          "41.9",
          "41.9",
          "41.9"
         ],
         "yaxis": "y"
        },
        {
         "customdata": [
          [
           34
          ],
          [
           34
          ],
          [
           34
          ],
          [
           34
          ],
          [
           34
          ],
          [
           41
          ],
          [
           41
          ],
          [
           41
          ],
          [
           41
          ],
          [
           46
          ],
          [
           46
          ],
          [
           46
          ],
          [
           47
          ],
          [
           47
          ]
         ],
         "fillpattern": {
          "shape": ""
         },
         "hovertemplate": "director_name=Guy Hamilton<br>budget_actual_$=%{x}<br>budget_adjusted_2005_$=%{y}<br>bond_actor_age=%{customdata[0]}<extra></extra>",
         "legendgroup": "Guy Hamilton",
         "line": {
          "color": "#EF553B"
         },
         "marker": {
          "symbol": "circle"
         },
         "mode": "lines",
         "name": "Guy Hamilton",
         "orientation": "v",
         "showlegend": true,
         "stackgroup": "1",
         "type": "scatter",
         "x": [
          "3.0",
          "3.0",
          "3.0",
          "3.0",
          "3.0",
          "7.2",
          "7.2",
          "7.2",
          "7.2",
          "7.0",
          "7.0",
          "7.0",
          "7.0",
          "7.0"
         ],
         "xaxis": "x",
         "y": [
          "18.6",
          "18.6",
          "18.6",
          "18.6",
          "18.6",
          "34.7",
          "34.7",
          "34.7",
          "34.7",
          "30.8",
          "30.8",
          "30.8",
          "27.7",
          "27.7"
         ],
         "yaxis": "y"
        },
        {
         "customdata": [
          [
           37
          ],
          [
           37
          ],
          [
           37
          ],
          [
           37
          ],
          [
           50
          ],
          [
           50
          ],
          [
           50
          ],
          [
           52
          ],
          [
           52
          ],
          [
           52
          ]
         ],
         "fillpattern": {
          "shape": ""
         },
         "hovertemplate": "director_name=Lewis Gilbert<br>budget_actual_$=%{x}<br>budget_adjusted_2005_$=%{y}<br>bond_actor_age=%{customdata[0]}<extra></extra>",
         "legendgroup": "Lewis Gilbert",
         "line": {
          "color": "#00cc96"
         },
         "marker": {
          "symbol": "circle"
         },
         "mode": "lines",
         "name": "Lewis Gilbert",
         "orientation": "v",
         "showlegend": true,
         "stackgroup": "1",
         "type": "scatter",
         "x": [
          "10.3",
          "10.3",
          "10.3",
          "10.3",
          "14.0",
          "14.0",
          "14.0",
          "34.0",
          "34.0",
          "34.0"
         ],
         "xaxis": "x",
         "y": [
          "59.9",
          "59.9",
          "59.9",
          "59.9",
          "45.1",
          "45.1",
          "45.1",
          "91.5",
          "91.5",
          "91.5"
         ],
         "yaxis": "y"
        },
        {
         "customdata": [
          [
           30
          ],
          [
           30
          ],
          [
           30
          ]
         ],
         "fillpattern": {
          "shape": ""
         },
         "hovertemplate": "director_name=Peter R. Hunt<br>budget_actual_$=%{x}<br>budget_adjusted_2005_$=%{y}<br>bond_actor_age=%{customdata[0]}<extra></extra>",
         "legendgroup": "Peter R. Hunt",
         "line": {
          "color": "#ab63fa"
         },
         "marker": {
          "symbol": "circle"
         },
         "mode": "lines",
         "name": "Peter R. Hunt",
         "orientation": "v",
         "showlegend": true,
         "stackgroup": "1",
         "type": "scatter",
         "x": [
          "7.0",
          "7.0",
          "7.0"
         ],
         "xaxis": "x",
         "y": [
          "37.3",
          "37.3",
          "37.3"
         ],
         "yaxis": "y"
        },
        {
         "customdata": [
          [
           56
          ],
          [
           54
          ],
          [
           54
          ],
          [
           54
          ],
          [
           56
          ],
          [
           58
          ],
          [
           58
          ],
          [
           58
          ],
          [
           41
          ],
          [
           43
          ],
          [
           43
          ]
         ],
         "fillpattern": {
          "shape": ""
         },
         "hovertemplate": "director_name=John Glen<br>budget_actual_$=%{x}<br>budget_adjusted_2005_$=%{y}<br>bond_actor_age=%{customdata[0]}<extra></extra>",
         "legendgroup": "John Glen",
         "line": {
          "color": "#FFA15A"
         },
         "marker": {
          "symbol": "circle"
         },
         "mode": "lines",
         "name": "John Glen",
         "orientation": "v",
         "showlegend": true,
         "stackgroup": "1",
         "type": "scatter",
         "x": [
          "27.5",
          "28.0",
          "28.0",
          "28.0",
          "27.5",
          "30.0",
          "30.0",
          "30.0",
          "40.0",
          "36.0",
          "36.0"
         ],
         "xaxis": "x",
         "y": [
          "53.9",
          "60.2",
          "60.2",
          "60.2",
          "53.9",
          "54.5",
          "54.5",
          "54.5",
          "68.8",
          "56.7",
          "56.7"
         ],
         "yaxis": "y"
        },
        {
         "customdata": [
          [
           42
          ],
          [
           42
          ],
          [
           42
          ],
          [
           38
          ],
          [
           38
          ]
         ],
         "fillpattern": {
          "shape": ""
         },
         "hovertemplate": "director_name=Martin Campbell<br>budget_actual_$=%{x}<br>budget_adjusted_2005_$=%{y}<br>bond_actor_age=%{customdata[0]}<extra></extra>",
         "legendgroup": "Martin Campbell",
         "line": {
          "color": "#19d3f3"
         },
         "marker": {
          "symbol": "circle"
         },
         "mode": "lines",
         "name": "Martin Campbell",
         "orientation": "v",
         "showlegend": true,
         "stackgroup": "1",
         "type": "scatter",
         "x": [
          "60.0",
          "60.0",
          "60.0",
          "150.0",
          "150.0"
         ],
         "xaxis": "x",
         "y": [
          "76.9",
          "76.9",
          "76.9",
          "145.3",
          "145.3"
         ],
         "yaxis": "y"
        },
        {
         "customdata": [
          [
           44
          ],
          [
           44
          ],
          [
           44
          ]
         ],
         "fillpattern": {
          "shape": ""
         },
         "hovertemplate": "director_name=Roger Spottiswoode<br>budget_actual_$=%{x}<br>budget_adjusted_2005_$=%{y}<br>bond_actor_age=%{customdata[0]}<extra></extra>",
         "legendgroup": "Roger Spottiswoode",
         "line": {
          "color": "#FF6692"
         },
         "marker": {
          "symbol": "circle"
         },
         "mode": "lines",
         "name": "Roger Spottiswoode",
         "orientation": "v",
         "showlegend": true,
         "stackgroup": "1",
         "type": "scatter",
         "x": [
          "110.0",
          "110.0",
          "110.0"
         ],
         "xaxis": "x",
         "y": [
          "133.9",
          "133.9",
          "133.9"
         ],
         "yaxis": "y"
        },
        {
         "customdata": [
          [
           46
          ],
          [
           46
          ],
          [
           46
          ]
         ],
         "fillpattern": {
          "shape": ""
         },
         "hovertemplate": "director_name=Michael Apted<br>budget_actual_$=%{x}<br>budget_adjusted_2005_$=%{y}<br>bond_actor_age=%{customdata[0]}<extra></extra>",
         "legendgroup": "Michael Apted",
         "line": {
          "color": "#B6E880"
         },
         "marker": {
          "symbol": "circle"
         },
         "mode": "lines",
         "name": "Michael Apted",
         "orientation": "v",
         "showlegend": true,
         "stackgroup": "1",
         "type": "scatter",
         "x": [
          "135.0",
          "135.0",
          "135.0"
         ],
         "xaxis": "x",
         "y": [
          "158.3",
          "158.3",
          "158.3"
         ],
         "yaxis": "y"
        },
        {
         "customdata": [
          [
           49
          ],
          [
           49
          ],
          [
           49
          ]
         ],
         "fillpattern": {
          "shape": ""
         },
         "hovertemplate": "director_name=Lee Tamahori<br>budget_actual_$=%{x}<br>budget_adjusted_2005_$=%{y}<br>bond_actor_age=%{customdata[0]}<extra></extra>",
         "legendgroup": "Lee Tamahori",
         "line": {
          "color": "#FF97FF"
         },
         "marker": {
          "symbol": "circle"
         },
         "mode": "lines",
         "name": "Lee Tamahori",
         "orientation": "v",
         "showlegend": true,
         "stackgroup": "1",
         "type": "scatter",
         "x": [
          "142.0",
          "142.0",
          "142.0"
         ],
         "xaxis": "x",
         "y": [
          "154.2",
          "154.2",
          "154.2"
         ],
         "yaxis": "y"
        },
        {
         "customdata": [
          [
           40
          ],
          [
           40
          ]
         ],
         "fillpattern": {
          "shape": ""
         },
         "hovertemplate": "director_name=Marc Forster<br>budget_actual_$=%{x}<br>budget_adjusted_2005_$=%{y}<br>bond_actor_age=%{customdata[0]}<extra></extra>",
         "legendgroup": "Marc Forster",
         "line": {
          "color": "#FECB52"
         },
         "marker": {
          "symbol": "circle"
         },
         "mode": "lines",
         "name": "Marc Forster",
         "orientation": "v",
         "showlegend": true,
         "stackgroup": "1",
         "type": "scatter",
         "x": [
          "200.0",
          "200.0"
         ],
         "xaxis": "x",
         "y": [
          "181.4",
          "181.4"
         ],
         "yaxis": "y"
        },
        {
         "customdata": [
          [
           44
          ],
          [
           44
          ],
          [
           47
          ],
          [
           47
          ]
         ],
         "fillpattern": {
          "shape": ""
         },
         "hovertemplate": "director_name=Sam Mendes<br>budget_actual_$=%{x}<br>budget_adjusted_2005_$=%{y}<br>bond_actor_age=%{customdata[0]}<extra></extra>",
         "legendgroup": "Sam Mendes",
         "line": {
          "color": "#636efa"
         },
         "marker": {
          "symbol": "circle"
         },
         "mode": "lines",
         "name": "Sam Mendes",
         "orientation": "v",
         "showlegend": true,
         "stackgroup": "1",
         "type": "scatter",
         "x": [
          "150.0–200.0",
          "150.0–200.0",
          "245.0–250.0[b]",
          "245.0–250.0[b]"
         ],
         "xaxis": "x",
         "y": [
          "127.7–170.2",
          "127.7–170.2",
          "201.8–205.9",
          "201.8–205.9"
         ],
         "yaxis": "y"
        },
        {
         "customdata": [
          [
           53
          ],
          [
           53
          ],
          [
           53
          ]
         ],
         "fillpattern": {
          "shape": ""
         },
         "hovertemplate": "director_name=Cary Joji Fukunaga<br>budget_actual_$=%{x}<br>budget_adjusted_2005_$=%{y}<br>bond_actor_age=%{customdata[0]}<extra></extra>",
         "legendgroup": "Cary Joji Fukunaga",
         "line": {
          "color": "#EF553B"
         },
         "marker": {
          "symbol": "circle"
         },
         "mode": "lines",
         "name": "Cary Joji Fukunaga",
         "orientation": "v",
         "showlegend": true,
         "stackgroup": "1",
         "type": "scatter",
         "x": [
          "250.0–301.0",
          "250.0–301.0",
          "250.0–301.0"
         ],
         "xaxis": "x",
         "y": [
          "188.7–226.4",
          "188.7–226.4",
          "188.7–226.4"
         ],
         "yaxis": "y"
        }
       ],
       "layout": {
        "legend": {
         "title": {
          "text": "director_name"
         },
         "tracegroupgap": 0
        },
        "margin": {
         "t": 60
        },
        "template": {
         "data": {
          "bar": [
           {
            "error_x": {
             "color": "#2a3f5f"
            },
            "error_y": {
             "color": "#2a3f5f"
            },
            "marker": {
             "line": {
              "color": "#E5ECF6",
              "width": 0.5
             },
             "pattern": {
              "fillmode": "overlay",
              "size": 10,
              "solidity": 0.2
             }
            },
            "type": "bar"
           }
          ],
          "barpolar": [
           {
            "marker": {
             "line": {
              "color": "#E5ECF6",
              "width": 0.5
             },
             "pattern": {
              "fillmode": "overlay",
              "size": 10,
              "solidity": 0.2
             }
            },
            "type": "barpolar"
           }
          ],
          "carpet": [
           {
            "aaxis": {
             "endlinecolor": "#2a3f5f",
             "gridcolor": "white",
             "linecolor": "white",
             "minorgridcolor": "white",
             "startlinecolor": "#2a3f5f"
            },
            "baxis": {
             "endlinecolor": "#2a3f5f",
             "gridcolor": "white",
             "linecolor": "white",
             "minorgridcolor": "white",
             "startlinecolor": "#2a3f5f"
            },
            "type": "carpet"
           }
          ],
          "choropleth": [
           {
            "colorbar": {
             "outlinewidth": 0,
             "ticks": ""
            },
            "type": "choropleth"
           }
          ],
          "contour": [
           {
            "colorbar": {
             "outlinewidth": 0,
             "ticks": ""
            },
            "colorscale": [
             [
              0,
              "#0d0887"
             ],
             [
              0.1111111111111111,
              "#46039f"
             ],
             [
              0.2222222222222222,
              "#7201a8"
             ],
             [
              0.3333333333333333,
              "#9c179e"
             ],
             [
              0.4444444444444444,
              "#bd3786"
             ],
             [
              0.5555555555555556,
              "#d8576b"
             ],
             [
              0.6666666666666666,
              "#ed7953"
             ],
             [
              0.7777777777777778,
              "#fb9f3a"
             ],
             [
              0.8888888888888888,
              "#fdca26"
             ],
             [
              1,
              "#f0f921"
             ]
            ],
            "type": "contour"
           }
          ],
          "contourcarpet": [
           {
            "colorbar": {
             "outlinewidth": 0,
             "ticks": ""
            },
            "type": "contourcarpet"
           }
          ],
          "heatmap": [
           {
            "colorbar": {
             "outlinewidth": 0,
             "ticks": ""
            },
            "colorscale": [
             [
              0,
              "#0d0887"
             ],
             [
              0.1111111111111111,
              "#46039f"
             ],
             [
              0.2222222222222222,
              "#7201a8"
             ],
             [
              0.3333333333333333,
              "#9c179e"
             ],
             [
              0.4444444444444444,
              "#bd3786"
             ],
             [
              0.5555555555555556,
              "#d8576b"
             ],
             [
              0.6666666666666666,
              "#ed7953"
             ],
             [
              0.7777777777777778,
              "#fb9f3a"
             ],
             [
              0.8888888888888888,
              "#fdca26"
             ],
             [
              1,
              "#f0f921"
             ]
            ],
            "type": "heatmap"
           }
          ],
          "heatmapgl": [
           {
            "colorbar": {
             "outlinewidth": 0,
             "ticks": ""
            },
            "colorscale": [
             [
              0,
              "#0d0887"
             ],
             [
              0.1111111111111111,
              "#46039f"
             ],
             [
              0.2222222222222222,
              "#7201a8"
             ],
             [
              0.3333333333333333,
              "#9c179e"
             ],
             [
              0.4444444444444444,
              "#bd3786"
             ],
             [
              0.5555555555555556,
              "#d8576b"
             ],
             [
              0.6666666666666666,
              "#ed7953"
             ],
             [
              0.7777777777777778,
              "#fb9f3a"
             ],
             [
              0.8888888888888888,
              "#fdca26"
             ],
             [
              1,
              "#f0f921"
             ]
            ],
            "type": "heatmapgl"
           }
          ],
          "histogram": [
           {
            "marker": {
             "pattern": {
              "fillmode": "overlay",
              "size": 10,
              "solidity": 0.2
             }
            },
            "type": "histogram"
           }
          ],
          "histogram2d": [
           {
            "colorbar": {
             "outlinewidth": 0,
             "ticks": ""
            },
            "colorscale": [
             [
              0,
              "#0d0887"
             ],
             [
              0.1111111111111111,
              "#46039f"
             ],
             [
              0.2222222222222222,
              "#7201a8"
             ],
             [
              0.3333333333333333,
              "#9c179e"
             ],
             [
              0.4444444444444444,
              "#bd3786"
             ],
             [
              0.5555555555555556,
              "#d8576b"
             ],
             [
              0.6666666666666666,
              "#ed7953"
             ],
             [
              0.7777777777777778,
              "#fb9f3a"
             ],
             [
              0.8888888888888888,
              "#fdca26"
             ],
             [
              1,
              "#f0f921"
             ]
            ],
            "type": "histogram2d"
           }
          ],
          "histogram2dcontour": [
           {
            "colorbar": {
             "outlinewidth": 0,
             "ticks": ""
            },
            "colorscale": [
             [
              0,
              "#0d0887"
             ],
             [
              0.1111111111111111,
              "#46039f"
             ],
             [
              0.2222222222222222,
              "#7201a8"
             ],
             [
              0.3333333333333333,
              "#9c179e"
             ],
             [
              0.4444444444444444,
              "#bd3786"
             ],
             [
              0.5555555555555556,
              "#d8576b"
             ],
             [
              0.6666666666666666,
              "#ed7953"
             ],
             [
              0.7777777777777778,
              "#fb9f3a"
             ],
             [
              0.8888888888888888,
              "#fdca26"
             ],
             [
              1,
              "#f0f921"
             ]
            ],
            "type": "histogram2dcontour"
           }
          ],
          "mesh3d": [
           {
            "colorbar": {
             "outlinewidth": 0,
             "ticks": ""
            },
            "type": "mesh3d"
           }
          ],
          "parcoords": [
           {
            "line": {
             "colorbar": {
              "outlinewidth": 0,
              "ticks": ""
             }
            },
            "type": "parcoords"
           }
          ],
          "pie": [
           {
            "automargin": true,
            "type": "pie"
           }
          ],
          "scatter": [
           {
            "fillpattern": {
             "fillmode": "overlay",
             "size": 10,
             "solidity": 0.2
            },
            "type": "scatter"
           }
          ],
          "scatter3d": [
           {
            "line": {
             "colorbar": {
              "outlinewidth": 0,
              "ticks": ""
             }
            },
            "marker": {
             "colorbar": {
              "outlinewidth": 0,
              "ticks": ""
             }
            },
            "type": "scatter3d"
           }
          ],
          "scattercarpet": [
           {
            "marker": {
             "colorbar": {
              "outlinewidth": 0,
              "ticks": ""
             }
            },
            "type": "scattercarpet"
           }
          ],
          "scattergeo": [
           {
            "marker": {
             "colorbar": {
              "outlinewidth": 0,
              "ticks": ""
             }
            },
            "type": "scattergeo"
           }
          ],
          "scattergl": [
           {
            "marker": {
             "colorbar": {
              "outlinewidth": 0,
              "ticks": ""
             }
            },
            "type": "scattergl"
           }
          ],
          "scattermapbox": [
           {
            "marker": {
             "colorbar": {
              "outlinewidth": 0,
              "ticks": ""
             }
            },
            "type": "scattermapbox"
           }
          ],
          "scatterpolar": [
           {
            "marker": {
             "colorbar": {
              "outlinewidth": 0,
              "ticks": ""
             }
            },
            "type": "scatterpolar"
           }
          ],
          "scatterpolargl": [
           {
            "marker": {
             "colorbar": {
              "outlinewidth": 0,
              "ticks": ""
             }
            },
            "type": "scatterpolargl"
           }
          ],
          "scatterternary": [
           {
            "marker": {
             "colorbar": {
              "outlinewidth": 0,
              "ticks": ""
             }
            },
            "type": "scatterternary"
           }
          ],
          "surface": [
           {
            "colorbar": {
             "outlinewidth": 0,
             "ticks": ""
            },
            "colorscale": [
             [
              0,
              "#0d0887"
             ],
             [
              0.1111111111111111,
              "#46039f"
             ],
             [
              0.2222222222222222,
              "#7201a8"
             ],
             [
              0.3333333333333333,
              "#9c179e"
             ],
             [
              0.4444444444444444,
              "#bd3786"
             ],
             [
              0.5555555555555556,
              "#d8576b"
             ],
             [
              0.6666666666666666,
              "#ed7953"
             ],
             [
              0.7777777777777778,
              "#fb9f3a"
             ],
             [
              0.8888888888888888,
              "#fdca26"
             ],
             [
              1,
              "#f0f921"
             ]
            ],
            "type": "surface"
           }
          ],
          "table": [
           {
            "cells": {
             "fill": {
              "color": "#EBF0F8"
             },
             "line": {
              "color": "white"
             }
            },
            "header": {
             "fill": {
              "color": "#C8D4E3"
             },
             "line": {
              "color": "white"
             }
            },
            "type": "table"
           }
          ]
         },
         "layout": {
          "annotationdefaults": {
           "arrowcolor": "#2a3f5f",
           "arrowhead": 0,
           "arrowwidth": 1
          },
          "autotypenumbers": "strict",
          "coloraxis": {
           "colorbar": {
            "outlinewidth": 0,
            "ticks": ""
           }
          },
          "colorscale": {
           "diverging": [
            [
             0,
             "#8e0152"
            ],
            [
             0.1,
             "#c51b7d"
            ],
            [
             0.2,
             "#de77ae"
            ],
            [
             0.3,
             "#f1b6da"
            ],
            [
             0.4,
             "#fde0ef"
            ],
            [
             0.5,
             "#f7f7f7"
            ],
            [
             0.6,
             "#e6f5d0"
            ],
            [
             0.7,
             "#b8e186"
            ],
            [
             0.8,
             "#7fbc41"
            ],
            [
             0.9,
             "#4d9221"
            ],
            [
             1,
             "#276419"
            ]
           ],
           "sequential": [
            [
             0,
             "#0d0887"
            ],
            [
             0.1111111111111111,
             "#46039f"
            ],
            [
             0.2222222222222222,
             "#7201a8"
            ],
            [
             0.3333333333333333,
             "#9c179e"
            ],
            [
             0.4444444444444444,
             "#bd3786"
            ],
            [
             0.5555555555555556,
             "#d8576b"
            ],
            [
             0.6666666666666666,
             "#ed7953"
            ],
            [
             0.7777777777777778,
             "#fb9f3a"
            ],
            [
             0.8888888888888888,
             "#fdca26"
            ],
            [
             1,
             "#f0f921"
            ]
           ],
           "sequentialminus": [
            [
             0,
             "#0d0887"
            ],
            [
             0.1111111111111111,
             "#46039f"
            ],
            [
             0.2222222222222222,
             "#7201a8"
            ],
            [
             0.3333333333333333,
             "#9c179e"
            ],
            [
             0.4444444444444444,
             "#bd3786"
            ],
            [
             0.5555555555555556,
             "#d8576b"
            ],
            [
             0.6666666666666666,
             "#ed7953"
            ],
            [
             0.7777777777777778,
             "#fb9f3a"
            ],
            [
             0.8888888888888888,
             "#fdca26"
            ],
            [
             1,
             "#f0f921"
            ]
           ]
          },
          "colorway": [
           "#636efa",
           "#EF553B",
           "#00cc96",
           "#ab63fa",
           "#FFA15A",
           "#19d3f3",
           "#FF6692",
           "#B6E880",
           "#FF97FF",
           "#FECB52"
          ],
          "font": {
           "color": "#2a3f5f"
          },
          "geo": {
           "bgcolor": "white",
           "lakecolor": "white",
           "landcolor": "#E5ECF6",
           "showlakes": true,
           "showland": true,
           "subunitcolor": "white"
          },
          "hoverlabel": {
           "align": "left"
          },
          "hovermode": "closest",
          "mapbox": {
           "style": "light"
          },
          "paper_bgcolor": "white",
          "plot_bgcolor": "#E5ECF6",
          "polar": {
           "angularaxis": {
            "gridcolor": "white",
            "linecolor": "white",
            "ticks": ""
           },
           "bgcolor": "#E5ECF6",
           "radialaxis": {
            "gridcolor": "white",
            "linecolor": "white",
            "ticks": ""
           }
          },
          "scene": {
           "xaxis": {
            "backgroundcolor": "#E5ECF6",
            "gridcolor": "white",
            "gridwidth": 2,
            "linecolor": "white",
            "showbackground": true,
            "ticks": "",
            "zerolinecolor": "white"
           },
           "yaxis": {
            "backgroundcolor": "#E5ECF6",
            "gridcolor": "white",
            "gridwidth": 2,
            "linecolor": "white",
            "showbackground": true,
            "ticks": "",
            "zerolinecolor": "white"
           },
           "zaxis": {
            "backgroundcolor": "#E5ECF6",
            "gridcolor": "white",
            "gridwidth": 2,
            "linecolor": "white",
            "showbackground": true,
            "ticks": "",
            "zerolinecolor": "white"
           }
          },
          "shapedefaults": {
           "line": {
            "color": "#2a3f5f"
           }
          },
          "ternary": {
           "aaxis": {
            "gridcolor": "white",
            "linecolor": "white",
            "ticks": ""
           },
           "baxis": {
            "gridcolor": "white",
            "linecolor": "white",
            "ticks": ""
           },
           "bgcolor": "#E5ECF6",
           "caxis": {
            "gridcolor": "white",
            "linecolor": "white",
            "ticks": ""
           }
          },
          "title": {
           "x": 0.05
          },
          "xaxis": {
           "automargin": true,
           "gridcolor": "white",
           "linecolor": "white",
           "ticks": "",
           "title": {
            "standoff": 15
           },
           "zerolinecolor": "white",
           "zerolinewidth": 2
          },
          "yaxis": {
           "automargin": true,
           "gridcolor": "white",
           "linecolor": "white",
           "ticks": "",
           "title": {
            "standoff": 15
           },
           "zerolinecolor": "white",
           "zerolinewidth": 2
          }
         }
        },
        "xaxis": {
         "anchor": "y",
         "domain": [
          0,
          1
         ],
         "title": {
          "text": "budget_actual_$"
         }
        },
        "yaxis": {
         "anchor": "x",
         "domain": [
          0,
          1
         ],
         "title": {
          "text": "budget_adjusted_2005_$"
         }
        }
       }
      }
     },
     "metadata": {},
     "output_type": "display_data"
    }
   ],
   "source": [
    "data\n",
    "fig=px.area(data,x='budget_actual_$',y='budget_adjusted_2005_$',hover_data=['bond_actor_age'],color='director_name')\n",
    "fig.show()"
   ]
  },
  {
   "cell_type": "code",
   "execution_count": null,
   "id": "5fb98edd",
   "metadata": {},
   "outputs": [],
   "source": []
  }
 ],
 "metadata": {
  "kernelspec": {
   "display_name": "base",
   "language": "python",
   "name": "python3"
  },
  "language_info": {
   "codemirror_mode": {
    "name": "ipython",
    "version": 3
   },
   "file_extension": ".py",
   "mimetype": "text/x-python",
   "name": "python",
   "nbconvert_exporter": "python",
   "pygments_lexer": "ipython3",
   "version": "3.8.5 (default, Sep  3 2020, 21:29:08) [MSC v.1916 64 bit (AMD64)]"
  },
  "vscode": {
   "interpreter": {
    "hash": "610a6f344c2137faf927ea819c63f6cee33a2c04455044b28099f39fe9722347"
   }
  }
 },
 "nbformat": 4,
 "nbformat_minor": 5
}
